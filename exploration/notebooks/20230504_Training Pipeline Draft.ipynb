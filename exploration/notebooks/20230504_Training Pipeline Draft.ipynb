{
 "cells": [
  {
   "cell_type": "markdown",
   "id": "fd4dbf6c",
   "metadata": {},
   "source": [
    "## Import"
   ]
  },
  {
   "cell_type": "code",
   "execution_count": 1,
   "id": "c299959d",
   "metadata": {},
   "outputs": [],
   "source": [
    "import cv2 as cv\n",
    "import pandas as pd\n",
    "import numpy as np\n",
    "import matplotlib.pyplot as plt\n",
    "import torch\n",
    "import torchvision\n",
    "from tqdm.auto import tqdm"
   ]
  },
  {
   "cell_type": "code",
   "execution_count": 2,
   "id": "b626e04b",
   "metadata": {},
   "outputs": [],
   "source": [
    "import sys\n",
    "sys.path.append('/home/sardarchitect/repos/github.com/ucsd_capstone/')\n",
    "sys.path.append('/home/sardarchitect/repos/github.com/ucsd_capstone/pedtracker/')"
   ]
  },
  {
   "cell_type": "code",
   "execution_count": 3,
   "id": "c95ffd62",
   "metadata": {},
   "outputs": [],
   "source": [
    "from pedtracker.virat import virat\n",
    "from pedtracker.model import model"
   ]
  },
  {
   "cell_type": "markdown",
   "id": "ddbc0ae3",
   "metadata": {},
   "source": [
    "## Hyperparameters"
   ]
  },
  {
   "cell_type": "code",
   "execution_count": 4,
   "id": "4d26d899",
   "metadata": {},
   "outputs": [],
   "source": [
    "DEVICE = \"cuda\" if torch.cuda.is_available() else \"cpu\"\n",
    "BATCH_SIZE = 32"
   ]
  },
  {
   "cell_type": "markdown",
   "id": "396a8633",
   "metadata": {},
   "source": [
    "## Data Ingestion"
   ]
  },
  {
   "cell_type": "code",
   "execution_count": 5,
   "id": "e30328f0",
   "metadata": {
    "scrolled": true
   },
   "outputs": [
    {
     "data": {
      "text/html": [
       "<div>\n",
       "<style scoped>\n",
       "    .dataframe tbody tr th:only-of-type {\n",
       "        vertical-align: middle;\n",
       "    }\n",
       "\n",
       "    .dataframe tbody tr th {\n",
       "        vertical-align: top;\n",
       "    }\n",
       "\n",
       "    .dataframe thead th {\n",
       "        text-align: right;\n",
       "    }\n",
       "</style>\n",
       "<table border=\"1\" class=\"dataframe\">\n",
       "  <thead>\n",
       "    <tr style=\"text-align: right;\">\n",
       "      <th></th>\n",
       "      <th>path</th>\n",
       "      <th>num_frames</th>\n",
       "      <th>duration</th>\n",
       "      <th>event_file</th>\n",
       "      <th>object_file</th>\n",
       "      <th>mapping_file</th>\n",
       "    </tr>\n",
       "    <tr>\n",
       "      <th>name</th>\n",
       "      <th></th>\n",
       "      <th></th>\n",
       "      <th></th>\n",
       "      <th></th>\n",
       "      <th></th>\n",
       "      <th></th>\n",
       "    </tr>\n",
       "  </thead>\n",
       "  <tbody>\n",
       "    <tr>\n",
       "      <th>VIRAT_S_000001</th>\n",
       "      <td>/mnt/d/data/virat/videos/VIRAT_S_000001.mp4</td>\n",
       "      <td>20655</td>\n",
       "      <td>689</td>\n",
       "      <td>VIRAT_S_000001.viratdata.events.txt</td>\n",
       "      <td>VIRAT_S_000001.viratdata.objects.txt</td>\n",
       "      <td>VIRAT_S_000001.viratdata.mapping.txt</td>\n",
       "    </tr>\n",
       "    <tr>\n",
       "      <th>VIRAT_S_000002</th>\n",
       "      <td>/mnt/d/data/virat/videos/VIRAT_S_000002.mp4</td>\n",
       "      <td>9075</td>\n",
       "      <td>302</td>\n",
       "      <td>VIRAT_S_000002.viratdata.events.txt</td>\n",
       "      <td>VIRAT_S_000002.viratdata.objects.txt</td>\n",
       "      <td>VIRAT_S_000002.viratdata.mapping.txt</td>\n",
       "    </tr>\n",
       "    <tr>\n",
       "      <th>VIRAT_S_000003</th>\n",
       "      <td>/mnt/d/data/virat/videos/VIRAT_S_000003.mp4</td>\n",
       "      <td>20940</td>\n",
       "      <td>698</td>\n",
       "      <td>VIRAT_S_000003.viratdata.events.txt</td>\n",
       "      <td>VIRAT_S_000003.viratdata.objects.txt</td>\n",
       "      <td>VIRAT_S_000003.viratdata.mapping.txt</td>\n",
       "    </tr>\n",
       "    <tr>\n",
       "      <th>VIRAT_S_000004</th>\n",
       "      <td>/mnt/d/data/virat/videos/VIRAT_S_000004.mp4</td>\n",
       "      <td>17640</td>\n",
       "      <td>588</td>\n",
       "      <td>VIRAT_S_000004.viratdata.events.txt</td>\n",
       "      <td>VIRAT_S_000004.viratdata.objects.txt</td>\n",
       "      <td>VIRAT_S_000004.viratdata.mapping.txt</td>\n",
       "    </tr>\n",
       "    <tr>\n",
       "      <th>VIRAT_S_000006</th>\n",
       "      <td>/mnt/d/data/virat/videos/VIRAT_S_000006.mp4</td>\n",
       "      <td>17805</td>\n",
       "      <td>594</td>\n",
       "      <td>VIRAT_S_000006.viratdata.events.txt</td>\n",
       "      <td>VIRAT_S_000006.viratdata.objects.txt</td>\n",
       "      <td>VIRAT_S_000006.viratdata.mapping.txt</td>\n",
       "    </tr>\n",
       "  </tbody>\n",
       "</table>\n",
       "</div>"
      ],
      "text/plain": [
       "                                                       path  num_frames  \\\n",
       "name                                                                      \n",
       "VIRAT_S_000001  /mnt/d/data/virat/videos/VIRAT_S_000001.mp4       20655   \n",
       "VIRAT_S_000002  /mnt/d/data/virat/videos/VIRAT_S_000002.mp4        9075   \n",
       "VIRAT_S_000003  /mnt/d/data/virat/videos/VIRAT_S_000003.mp4       20940   \n",
       "VIRAT_S_000004  /mnt/d/data/virat/videos/VIRAT_S_000004.mp4       17640   \n",
       "VIRAT_S_000006  /mnt/d/data/virat/videos/VIRAT_S_000006.mp4       17805   \n",
       "\n",
       "                duration                           event_file  \\\n",
       "name                                                            \n",
       "VIRAT_S_000001       689  VIRAT_S_000001.viratdata.events.txt   \n",
       "VIRAT_S_000002       302  VIRAT_S_000002.viratdata.events.txt   \n",
       "VIRAT_S_000003       698  VIRAT_S_000003.viratdata.events.txt   \n",
       "VIRAT_S_000004       588  VIRAT_S_000004.viratdata.events.txt   \n",
       "VIRAT_S_000006       594  VIRAT_S_000006.viratdata.events.txt   \n",
       "\n",
       "                                         object_file  \\\n",
       "name                                                   \n",
       "VIRAT_S_000001  VIRAT_S_000001.viratdata.objects.txt   \n",
       "VIRAT_S_000002  VIRAT_S_000002.viratdata.objects.txt   \n",
       "VIRAT_S_000003  VIRAT_S_000003.viratdata.objects.txt   \n",
       "VIRAT_S_000004  VIRAT_S_000004.viratdata.objects.txt   \n",
       "VIRAT_S_000006  VIRAT_S_000006.viratdata.objects.txt   \n",
       "\n",
       "                                        mapping_file  \n",
       "name                                                  \n",
       "VIRAT_S_000001  VIRAT_S_000001.viratdata.mapping.txt  \n",
       "VIRAT_S_000002  VIRAT_S_000002.viratdata.mapping.txt  \n",
       "VIRAT_S_000003  VIRAT_S_000003.viratdata.mapping.txt  \n",
       "VIRAT_S_000004  VIRAT_S_000004.viratdata.mapping.txt  \n",
       "VIRAT_S_000006  VIRAT_S_000006.viratdata.mapping.txt  "
      ]
     },
     "execution_count": 5,
     "metadata": {},
     "output_type": "execute_result"
    }
   ],
   "source": [
    "video_df = virat.build_virat()\n",
    "video_df.head()"
   ]
  },
  {
   "cell_type": "code",
   "execution_count": 6,
   "id": "8b0d268a",
   "metadata": {},
   "outputs": [
    {
     "data": {
      "text/plain": [
       "path            /mnt/d/data/virat/videos/VIRAT_S_010207_08_001...\n",
       "num_frames                                                    429\n",
       "duration                                                       17\n",
       "event_file      VIRAT_S_010207_08_001308_001332.viratdata.even...\n",
       "object_file     VIRAT_S_010207_08_001308_001332.viratdata.obje...\n",
       "mapping_file    VIRAT_S_010207_08_001308_001332.viratdata.mapp...\n",
       "Name: VIRAT_S_010207_08_001308_001332, dtype: object"
      ]
     },
     "execution_count": 6,
     "metadata": {},
     "output_type": "execute_result"
    }
   ],
   "source": [
    "current_video = video_df.loc[\"VIRAT_S_010207_08_001308_001332\"]\n",
    "current_video"
   ]
  },
  {
   "cell_type": "code",
   "execution_count": 7,
   "id": "92cc708b",
   "metadata": {},
   "outputs": [
    {
     "data": {
      "text/html": [
       "<div>\n",
       "<style scoped>\n",
       "    .dataframe tbody tr th:only-of-type {\n",
       "        vertical-align: middle;\n",
       "    }\n",
       "\n",
       "    .dataframe tbody tr th {\n",
       "        vertical-align: top;\n",
       "    }\n",
       "\n",
       "    .dataframe thead th {\n",
       "        text-align: right;\n",
       "    }\n",
       "</style>\n",
       "<table border=\"1\" class=\"dataframe\">\n",
       "  <thead>\n",
       "    <tr style=\"text-align: right;\">\n",
       "      <th></th>\n",
       "      <th>object_id</th>\n",
       "      <th>object_duration</th>\n",
       "      <th>current_frame</th>\n",
       "      <th>bbox_lefttop_x</th>\n",
       "      <th>bbox_lefttop_y</th>\n",
       "      <th>bbox_width</th>\n",
       "      <th>bbox_height</th>\n",
       "      <th>object_type</th>\n",
       "    </tr>\n",
       "  </thead>\n",
       "  <tbody>\n",
       "    <tr>\n",
       "      <th>0</th>\n",
       "      <td>0</td>\n",
       "      <td>244</td>\n",
       "      <td>185</td>\n",
       "      <td>0</td>\n",
       "      <td>304</td>\n",
       "      <td>10</td>\n",
       "      <td>37</td>\n",
       "      <td>1</td>\n",
       "    </tr>\n",
       "    <tr>\n",
       "      <th>1</th>\n",
       "      <td>0</td>\n",
       "      <td>244</td>\n",
       "      <td>186</td>\n",
       "      <td>0</td>\n",
       "      <td>304</td>\n",
       "      <td>12</td>\n",
       "      <td>37</td>\n",
       "      <td>1</td>\n",
       "    </tr>\n",
       "    <tr>\n",
       "      <th>2</th>\n",
       "      <td>0</td>\n",
       "      <td>244</td>\n",
       "      <td>187</td>\n",
       "      <td>0</td>\n",
       "      <td>304</td>\n",
       "      <td>14</td>\n",
       "      <td>37</td>\n",
       "      <td>1</td>\n",
       "    </tr>\n",
       "    <tr>\n",
       "      <th>3</th>\n",
       "      <td>0</td>\n",
       "      <td>244</td>\n",
       "      <td>188</td>\n",
       "      <td>0</td>\n",
       "      <td>304</td>\n",
       "      <td>16</td>\n",
       "      <td>37</td>\n",
       "      <td>1</td>\n",
       "    </tr>\n",
       "    <tr>\n",
       "      <th>4</th>\n",
       "      <td>0</td>\n",
       "      <td>244</td>\n",
       "      <td>189</td>\n",
       "      <td>1</td>\n",
       "      <td>304</td>\n",
       "      <td>16</td>\n",
       "      <td>37</td>\n",
       "      <td>1</td>\n",
       "    </tr>\n",
       "  </tbody>\n",
       "</table>\n",
       "</div>"
      ],
      "text/plain": [
       "   object_id  object_duration  current_frame  bbox_lefttop_x  bbox_lefttop_y  \\\n",
       "0          0              244            185               0             304   \n",
       "1          0              244            186               0             304   \n",
       "2          0              244            187               0             304   \n",
       "3          0              244            188               0             304   \n",
       "4          0              244            189               1             304   \n",
       "\n",
       "   bbox_width  bbox_height  object_type  \n",
       "0          10           37            1  \n",
       "1          12           37            1  \n",
       "2          14           37            1  \n",
       "3          16           37            1  \n",
       "4          16           37            1  "
      ]
     },
     "execution_count": 7,
     "metadata": {},
     "output_type": "execute_result"
    }
   ],
   "source": [
    "annotations_df = virat.get_annotations(current_video['path'])\n",
    "annotations_df = annotations_df[annotations_df['object_type'] == 1]\n",
    "annotations_df.head()"
   ]
  },
  {
   "cell_type": "markdown",
   "id": "327eaac2",
   "metadata": {},
   "source": [
    "## Model Architecture"
   ]
  },
  {
   "cell_type": "code",
   "execution_count": 8,
   "id": "ee256f77",
   "metadata": {},
   "outputs": [
    {
     "name": "stderr",
     "output_type": "stream",
     "text": [
      "Using cache found in /home/sardarchitect/.cache/torch/hub/ultralytics_yolov5_master\n",
      "YOLOv5 🚀 2023-4-30 Python-3.11.3 torch-2.0.0+cu117 CUDA:0 (NVIDIA GeForce GTX 1650, 4096MiB)\n",
      "\n"
     ]
    },
    {
     "name": "stdout",
     "output_type": "stream",
     "text": [
      "\u001b[31m\u001b[1mrequirements:\u001b[0m /home/sardarchitect/.cache/torch/hub/requirements.txt not found, check failed.\n"
     ]
    },
    {
     "name": "stderr",
     "output_type": "stream",
     "text": [
      "Fusing layers... \n",
      "YOLOv5s summary: 213 layers, 7225885 parameters, 0 gradients\n",
      "Adding AutoShape... \n"
     ]
    }
   ],
   "source": [
    "clf = model.yolov5()\n",
    "clf.conf = 0.25\n",
    "clf.classes = [0]"
   ]
  },
  {
   "cell_type": "markdown",
   "id": "6dc53ffc",
   "metadata": {},
   "source": [
    "## Evaluation Criteria"
   ]
  },
  {
   "cell_type": "code",
   "execution_count": 33,
   "id": "76c076dc",
   "metadata": {
    "scrolled": false
   },
   "outputs": [
    {
     "data": {
      "application/vnd.jupyter.widget-view+json": {
       "model_id": "5c66b4c2480144ae9aeb098c97433e98",
       "version_major": 2,
       "version_minor": 0
      },
      "text/plain": [
       "  0%|          | 0/429 [00:00<?, ?it/s]"
      ]
     },
     "metadata": {},
     "output_type": "display_data"
    }
   ],
   "source": [
    "num_frames = int(current_video['num_frames'])\n",
    "capture = cv.VideoCapture(current_video['path'])\n",
    "\n",
    "preds_list = []\n",
    "\n",
    "for current_frame in tqdm(range(num_frames)):\n",
    "    ret, frame = capture.read()\n",
    "    preds = clf(frame)\n",
    "    preds_list.append(preds.xyxy)\n",
    "    \n",
    "capture.release()"
   ]
  },
  {
   "cell_type": "code",
   "execution_count": 34,
   "id": "5cc523ea",
   "metadata": {},
   "outputs": [],
   "source": [
    "current_frame = 380"
   ]
  },
  {
   "cell_type": "code",
   "execution_count": 54,
   "id": "aa7d82b8",
   "metadata": {},
   "outputs": [
    {
     "data": {
      "text/plain": [
       "array([[300, 270, 328, 270],\n",
       "       [264, 236, 289, 236],\n",
       "       [190, 232, 211, 232],\n",
       "       [170, 227, 190, 227],\n",
       "       [113, 222, 131, 222]])"
      ]
     },
     "execution_count": 54,
     "metadata": {},
     "output_type": "execute_result"
    }
   ],
   "source": [
    "bbox_at_current_frame = []\n",
    "for bbox in annotations_df[annotations_df['current_frame'] == current_frame].iterrows():\n",
    "    bbox_x1 = bbox[1]['bbox_lefttop_x']\n",
    "    bbox_y1 = bbox[1]['bbox_lefttop_y']\n",
    "    bbox_x2 = bbox[1]['bbox_lefttop_x'] + bbox[1]['bbox_width']\n",
    "    bbox_y2 = bbox[1]['bbox_lefttop_y'] + bbox[1]['bbox_height']\n",
    "    bbox_at_current_frame.append([bbox_x1, bbox_y1, bbox_x2, bbox_y1])\n",
    "np.array(bbox_at_current_frame)"
   ]
  },
  {
   "cell_type": "code",
   "execution_count": 63,
   "id": "bb52271c",
   "metadata": {},
   "outputs": [],
   "source": [
    "bbox_1 = bbox_at_current_frame[0]\n",
    "bbox_2 = preds_list[current_frame][0].cpu().numpy()[0][:4]"
   ]
  },
  {
   "cell_type": "code",
   "execution_count": 67,
   "id": "83a7bf9d",
   "metadata": {},
   "outputs": [],
   "source": [
    "def mean_intersection_over_union(boxA, boxB):\n",
    "    xA = max(boxA[0], boxB[0])\n",
    "    yA = max(boxA[1], boxB[1])\n",
    "    xB = min(boxA[2], boxB[2])\n",
    "    yB = min(boxA[3], boxB[3])\n",
    "    interArea = (xB - xA) * (yB - yA)\n",
    "\n",
    "    boxAArea = (boxA[2] - boxA[0] + 1) * (boxA[3] - boxA[1] + 1)\n",
    "    boxBArea = (boxB[2] - boxB[0] + 1) * (boxB[3] - boxB[1] + 1)\n",
    "\n",
    "    iou = interArea / float(boxAArea + boxBArea - interArea)\n",
    "    return iou"
   ]
  },
  {
   "cell_type": "code",
   "execution_count": null,
   "id": "1d2a16e6",
   "metadata": {},
   "outputs": [],
   "source": [
    "for "
   ]
  },
  {
   "cell_type": "code",
   "execution_count": 68,
   "id": "3bca857f",
   "metadata": {},
   "outputs": [
    {
     "data": {
      "text/plain": [
       "-0.05457308237786507"
      ]
     },
     "execution_count": 68,
     "metadata": {},
     "output_type": "execute_result"
    }
   ],
   "source": [
    "mean_intersection_over_union(bbox_1, bbox_2)"
   ]
  },
  {
   "cell_type": "markdown",
   "id": "c1862b5c",
   "metadata": {},
   "source": [
    "## Optimization"
   ]
  },
  {
   "cell_type": "markdown",
   "id": "83e3dc37",
   "metadata": {},
   "source": [
    "## Training Loop"
   ]
  },
  {
   "cell_type": "markdown",
   "id": "52cedc5e",
   "metadata": {},
   "source": [
    "## Testing Loop"
   ]
  },
  {
   "cell_type": "code",
   "execution_count": null,
   "id": "287aa331",
   "metadata": {
    "scrolled": true
   },
   "outputs": [],
   "source": []
  },
  {
   "cell_type": "markdown",
   "id": "1bc4cc44",
   "metadata": {},
   "source": [
    "## Model Export"
   ]
  },
  {
   "cell_type": "code",
   "execution_count": null,
   "id": "732f0b2c",
   "metadata": {},
   "outputs": [],
   "source": []
  }
 ],
 "metadata": {
  "kernelspec": {
   "display_name": "Python 3 (ipykernel)",
   "language": "python",
   "name": "python3"
  },
  "language_info": {
   "codemirror_mode": {
    "name": "ipython",
    "version": 3
   },
   "file_extension": ".py",
   "mimetype": "text/x-python",
   "name": "python",
   "nbconvert_exporter": "python",
   "pygments_lexer": "ipython3",
   "version": "3.11.3"
  }
 },
 "nbformat": 4,
 "nbformat_minor": 5
}
