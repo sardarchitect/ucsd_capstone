{
 "cells": [
  {
   "cell_type": "markdown",
   "id": "5ea4904d",
   "metadata": {},
   "source": [
    "# Tasks\n",
    "- [x] What does the dataset contain?\n",
    "- [x] Videos:\n",
    "\t- [x] How many videos are there?\n",
    "\t- [x] How long are the videos? \n",
    "\t- [x] What are some summary statistics of the videos?\n",
    "\t\t- [x] Average number of number of frames\n",
    "\t\t- [x] Distribution of number of frames\n",
    "- [ ] Annotations:\n",
    "\t- [x] How many object types are there?\n",
    "\t- [x] How many objects are shown per video?\n",
    "\t- [x] Total number of  people objects are shown per video?\n",
    "\t- [x] Distribution of people objects in each video\n",
    "\t- [x] Total number of frames that contain people objects per video and combined\n",
    "\t- [ ] Average size of people objects (calculate area of pixels)\n",
    "\t- [ ] Unique people objects shown per video? Overall?"
   ]
  },
  {
   "cell_type": "code",
   "execution_count": 15,
   "id": "74c13172",
   "metadata": {},
   "outputs": [],
   "source": [
    "import cv2 as cv\n",
    "import pandas as pd\n",
    "import os\n",
    "from utils import *\n",
    "import numpy as np\n",
    "import matplotlib.pyplot as plt\n",
    "_,annotations_dir,videos_dir = get_dirs()"
   ]
  },
  {
   "cell_type": "markdown",
   "id": "86b261c3",
   "metadata": {},
   "source": [
    "# Videos"
   ]
  },
  {
   "cell_type": "code",
   "execution_count": 16,
   "id": "ebfe47e7",
   "metadata": {},
   "outputs": [],
   "source": [
    "videos_list = []\n",
    "for i, video in enumerate(os.listdir(videos_dir)):\n",
    "    video_path = (videos_dir+video)\n",
    "    capture = cv.VideoCapture(video_path)\n",
    "    total_frame_count = int(capture.get(cv.CAP_PROP_FRAME_COUNT))\n",
    "    videos_list.append([video, total_frame_count])"
   ]
  },
  {
   "cell_type": "code",
   "execution_count": 3,
   "id": "fa8e8bef",
   "metadata": {},
   "outputs": [
    {
     "data": {
      "text/html": [
       "<div>\n",
       "<style scoped>\n",
       "    .dataframe tbody tr th:only-of-type {\n",
       "        vertical-align: middle;\n",
       "    }\n",
       "\n",
       "    .dataframe tbody tr th {\n",
       "        vertical-align: top;\n",
       "    }\n",
       "\n",
       "    .dataframe thead th {\n",
       "        text-align: right;\n",
       "    }\n",
       "</style>\n",
       "<table border=\"1\" class=\"dataframe\">\n",
       "  <thead>\n",
       "    <tr style=\"text-align: right;\">\n",
       "      <th></th>\n",
       "      <th>video_name</th>\n",
       "      <th>frame_count</th>\n",
       "    </tr>\n",
       "  </thead>\n",
       "  <tbody>\n",
       "    <tr>\n",
       "      <th>0</th>\n",
       "      <td>VIRAT_S_000001.mp4</td>\n",
       "      <td>20655</td>\n",
       "    </tr>\n",
       "    <tr>\n",
       "      <th>1</th>\n",
       "      <td>VIRAT_S_000002.mp4</td>\n",
       "      <td>9075</td>\n",
       "    </tr>\n",
       "    <tr>\n",
       "      <th>2</th>\n",
       "      <td>VIRAT_S_000003.mp4</td>\n",
       "      <td>20940</td>\n",
       "    </tr>\n",
       "    <tr>\n",
       "      <th>3</th>\n",
       "      <td>VIRAT_S_000004.mp4</td>\n",
       "      <td>17640</td>\n",
       "    </tr>\n",
       "    <tr>\n",
       "      <th>4</th>\n",
       "      <td>VIRAT_S_000006.mp4</td>\n",
       "      <td>17805</td>\n",
       "    </tr>\n",
       "  </tbody>\n",
       "</table>\n",
       "</div>"
      ],
      "text/plain": [
       "           video_name  frame_count\n",
       "0  VIRAT_S_000001.mp4        20655\n",
       "1  VIRAT_S_000002.mp4         9075\n",
       "2  VIRAT_S_000003.mp4        20940\n",
       "3  VIRAT_S_000004.mp4        17640\n",
       "4  VIRAT_S_000006.mp4        17805"
      ]
     },
     "execution_count": 3,
     "metadata": {},
     "output_type": "execute_result"
    }
   ],
   "source": [
    "videos_df = pd.DataFrame.from_records(videos_list, columns=['video_name', 'frame_count'])\n",
    "videos_df.head()"
   ]
  },
  {
   "cell_type": "code",
   "execution_count": 4,
   "id": "978e3491",
   "metadata": {},
   "outputs": [
    {
     "data": {
      "text/html": [
       "<div>\n",
       "<style scoped>\n",
       "    .dataframe tbody tr th:only-of-type {\n",
       "        vertical-align: middle;\n",
       "    }\n",
       "\n",
       "    .dataframe tbody tr th {\n",
       "        vertical-align: top;\n",
       "    }\n",
       "\n",
       "    .dataframe thead th {\n",
       "        text-align: right;\n",
       "    }\n",
       "</style>\n",
       "<table border=\"1\" class=\"dataframe\">\n",
       "  <thead>\n",
       "    <tr style=\"text-align: right;\">\n",
       "      <th></th>\n",
       "      <th>frame_count</th>\n",
       "    </tr>\n",
       "  </thead>\n",
       "  <tbody>\n",
       "    <tr>\n",
       "      <th>count</th>\n",
       "      <td>329.000000</td>\n",
       "    </tr>\n",
       "    <tr>\n",
       "      <th>mean</th>\n",
       "      <td>2653.258359</td>\n",
       "    </tr>\n",
       "    <tr>\n",
       "      <th>std</th>\n",
       "      <td>3788.204434</td>\n",
       "    </tr>\n",
       "    <tr>\n",
       "      <th>min</th>\n",
       "      <td>318.000000</td>\n",
       "    </tr>\n",
       "    <tr>\n",
       "      <th>25%</th>\n",
       "      <td>834.000000</td>\n",
       "    </tr>\n",
       "    <tr>\n",
       "      <th>50%</th>\n",
       "      <td>1607.000000</td>\n",
       "    </tr>\n",
       "    <tr>\n",
       "      <th>75%</th>\n",
       "      <td>2691.000000</td>\n",
       "    </tr>\n",
       "    <tr>\n",
       "      <th>max</th>\n",
       "      <td>29580.000000</td>\n",
       "    </tr>\n",
       "  </tbody>\n",
       "</table>\n",
       "</div>"
      ],
      "text/plain": [
       "        frame_count\n",
       "count    329.000000\n",
       "mean    2653.258359\n",
       "std     3788.204434\n",
       "min      318.000000\n",
       "25%      834.000000\n",
       "50%     1607.000000\n",
       "75%     2691.000000\n",
       "max    29580.000000"
      ]
     },
     "execution_count": 4,
     "metadata": {},
     "output_type": "execute_result"
    }
   ],
   "source": [
    "## Summary statistics\n",
    "videos_df.describe()"
   ]
  },
  {
   "cell_type": "code",
   "execution_count": 5,
   "id": "d7f9c22f",
   "metadata": {},
   "outputs": [
    {
     "name": "stdout",
     "output_type": "stream",
     "text": [
      "872922\n"
     ]
    }
   ],
   "source": [
    "# Total number of frames (combined)\n",
    "total_frames = videos_df['frame_count'].sum()\n",
    "print(total_frames)"
   ]
  },
  {
   "cell_type": "code",
   "execution_count": 6,
   "id": "7e99492f",
   "metadata": {},
   "outputs": [
    {
     "data": {
      "text/plain": [
       "<AxesSubplot:xlabel='video_name'>"
      ]
     },
     "execution_count": 6,
     "metadata": {},
     "output_type": "execute_result"
    },
    {
     "data": {
      "image/png": "[encoded data removed]",
      "text/plain": [
       "<Figure size 640x480 with 1 Axes>"
      ]
     },
     "metadata": {},
     "output_type": "display_data"
    }
   ],
   "source": [
    "# Distribution of total number of frames per video (sorted)\n",
    "videos_df.sort_values(by='frame_count', ascending=False).plot(x='video_name', y='frame_count', kind='line')"
   ]
  },
  {
   "cell_type": "markdown",
   "id": "816c1e20",
   "metadata": {},
   "source": [
    "# Annotations"
   ]
  },
  {
   "cell_type": "code",
   "execution_count": 7,
   "id": "7bde0f2e",
   "metadata": {},
   "outputs": [
    {
     "data": {
      "text/html": [
       "<div>\n",
       "<style scoped>\n",
       "    .dataframe tbody tr th:only-of-type {\n",
       "        vertical-align: middle;\n",
       "    }\n",
       "\n",
       "    .dataframe tbody tr th {\n",
       "        vertical-align: top;\n",
       "    }\n",
       "\n",
       "    .dataframe thead th {\n",
       "        text-align: right;\n",
       "    }\n",
       "</style>\n",
       "<table border=\"1\" class=\"dataframe\">\n",
       "  <thead>\n",
       "    <tr style=\"text-align: right;\">\n",
       "      <th></th>\n",
       "      <th>video_name</th>\n",
       "      <th>object_id</th>\n",
       "      <th>object_duration</th>\n",
       "      <th>current_frame</th>\n",
       "      <th>bbox_lefttop_x</th>\n",
       "      <th>bbox_lefttop_y</th>\n",
       "      <th>bbox_width</th>\n",
       "      <th>bbox_height</th>\n",
       "      <th>object_type</th>\n",
       "    </tr>\n",
       "  </thead>\n",
       "  <tbody>\n",
       "  </tbody>\n",
       "</table>\n",
       "</div>"
      ],
      "text/plain": [
       "Empty DataFrame\n",
       "Columns: [video_name, object_id, object_duration, current_frame, bbox_lefttop_x, bbox_lefttop_y, bbox_width, bbox_height, object_type]\n",
       "Index: []"
      ]
     },
     "execution_count": 7,
     "metadata": {},
     "output_type": "execute_result"
    }
   ],
   "source": [
    "# Create empty dataframe with appropriate columns\n",
    "objects_df = pd.DataFrame(data=None, columns=[\"video_name\",\"object_id\",\"object_duration\",\"current_frame\",\"bbox_lefttop_x\",\"bbox_lefttop_y\",\"bbox_width\",\"bbox_height\",\"object_type\"], dtype=\"int64\")\n",
    "objects_df.head()"
   ]
  },
  {
   "cell_type": "code",
   "execution_count": 8,
   "id": "c0f46941",
   "metadata": {
    "scrolled": false
   },
   "outputs": [
    {
     "name": "stdout",
     "output_type": "stream",
     "text": [
      "Exception occured at  VIRAT_S_000200_02_000479_000635\n",
      "Exception occured at  VIRAT_S_000200_05_001525_001575\n",
      "Exception occured at  VIRAT_S_000201_04_000682_000822\n",
      "Exception occured at  VIRAT_S_000203_05_001122_001159\n",
      "Exception occured at  VIRAT_S_000203_09_001789_001842\n",
      "Exception occured at  VIRAT_S_000205_03_000860_000922\n",
      "Exception occured at  VIRAT_S_000205_05_001092_001124\n",
      "Exception occured at  VIRAT_S_000206_09_001714_001851\n",
      "Exception occured at  VIRAT_S_000207_05_001125_001193\n",
      "Exception occured at  VIRAT_S_050201_02_000395_000483\n",
      "Exception occured at  VIRAT_S_050201_03_000573_000647\n",
      "Exception occured at  VIRAT_S_050201_05_000890_000944\n",
      "Exception occured at  VIRAT_S_050201_06_001168_001240\n",
      "Exception occured at  VIRAT_S_050201_07_001348_001458\n",
      "Exception occured at  VIRAT_S_050201_09_001821_001876\n",
      "Exception occured at  VIRAT_S_050202_05_000857_000912\n",
      "Exception occured at  VIRAT_S_050203_07_001288_001531\n",
      "Exception occured at  VIRAT_S_050203_09_001960_002083\n"
     ]
    }
   ],
   "source": [
    "# Find all objects.txt files for all videos\n",
    "# Iterate through each person object file and append to existing dataframe\n",
    "\n",
    "video_list = videos_df.copy()\n",
    "video_list = video_list['video_name'].str.replace('.mp4', '', regex=True)\n",
    "\n",
    "for current_video in video_list:\n",
    "    try:\n",
    "        temp_df = virat_txt_to_df(annotations_dir, current_video, table_category='objects')\n",
    "    except:\n",
    "        print('Exception occured at ',current_video)\n",
    "    temp_df['video_name'] = current_video\n",
    "    temp_df = temp_df[temp_df['object_type'] == 1]\n",
    "    objects_df = pd.concat([objects_df, temp_df])"
   ]
  },
  {
   "cell_type": "code",
   "execution_count": 9,
   "id": "33db4e6a",
   "metadata": {},
   "outputs": [],
   "source": [
    "objects_df = objects_df.reset_index()\n",
    "objects_df = objects_df.drop(columns='index')"
   ]
  },
  {
   "cell_type": "code",
   "execution_count": 10,
   "id": "0afe4a94",
   "metadata": {},
   "outputs": [
    {
     "data": {
      "text/html": [
       "<div>\n",
       "<style scoped>\n",
       "    .dataframe tbody tr th:only-of-type {\n",
       "        vertical-align: middle;\n",
       "    }\n",
       "\n",
       "    .dataframe tbody tr th {\n",
       "        vertical-align: top;\n",
       "    }\n",
       "\n",
       "    .dataframe thead th {\n",
       "        text-align: right;\n",
       "    }\n",
       "</style>\n",
       "<table border=\"1\" class=\"dataframe\">\n",
       "  <thead>\n",
       "    <tr style=\"text-align: right;\">\n",
       "      <th></th>\n",
       "      <th>video_name</th>\n",
       "      <th>object_id</th>\n",
       "      <th>object_duration</th>\n",
       "      <th>current_frame</th>\n",
       "      <th>bbox_lefttop_x</th>\n",
       "      <th>bbox_lefttop_y</th>\n",
       "      <th>bbox_width</th>\n",
       "      <th>bbox_height</th>\n",
       "      <th>object_type</th>\n",
       "    </tr>\n",
       "  </thead>\n",
       "  <tbody>\n",
       "    <tr>\n",
       "      <th>0</th>\n",
       "      <td>VIRAT_S_000001</td>\n",
       "      <td>1</td>\n",
       "      <td>385</td>\n",
       "      <td>3455</td>\n",
       "      <td>1.0</td>\n",
       "      <td>663.0</td>\n",
       "      <td>76.0</td>\n",
       "      <td>132.0</td>\n",
       "      <td>1.0</td>\n",
       "    </tr>\n",
       "    <tr>\n",
       "      <th>1</th>\n",
       "      <td>VIRAT_S_000001</td>\n",
       "      <td>1</td>\n",
       "      <td>385</td>\n",
       "      <td>3456</td>\n",
       "      <td>1.0</td>\n",
       "      <td>663.0</td>\n",
       "      <td>76.0</td>\n",
       "      <td>132.0</td>\n",
       "      <td>1.0</td>\n",
       "    </tr>\n",
       "    <tr>\n",
       "      <th>2</th>\n",
       "      <td>VIRAT_S_000001</td>\n",
       "      <td>1</td>\n",
       "      <td>385</td>\n",
       "      <td>3457</td>\n",
       "      <td>1.0</td>\n",
       "      <td>663.0</td>\n",
       "      <td>76.0</td>\n",
       "      <td>132.0</td>\n",
       "      <td>1.0</td>\n",
       "    </tr>\n",
       "    <tr>\n",
       "      <th>3</th>\n",
       "      <td>VIRAT_S_000001</td>\n",
       "      <td>1</td>\n",
       "      <td>385</td>\n",
       "      <td>3458</td>\n",
       "      <td>1.0</td>\n",
       "      <td>663.0</td>\n",
       "      <td>76.0</td>\n",
       "      <td>132.0</td>\n",
       "      <td>1.0</td>\n",
       "    </tr>\n",
       "    <tr>\n",
       "      <th>4</th>\n",
       "      <td>VIRAT_S_000001</td>\n",
       "      <td>1</td>\n",
       "      <td>385</td>\n",
       "      <td>3459</td>\n",
       "      <td>1.0</td>\n",
       "      <td>663.0</td>\n",
       "      <td>76.0</td>\n",
       "      <td>132.0</td>\n",
       "      <td>1.0</td>\n",
       "    </tr>\n",
       "  </tbody>\n",
       "</table>\n",
       "</div>"
      ],
      "text/plain": [
       "       video_name  object_id  object_duration  current_frame  bbox_lefttop_x  \\\n",
       "0  VIRAT_S_000001          1              385           3455             1.0   \n",
       "1  VIRAT_S_000001          1              385           3456             1.0   \n",
       "2  VIRAT_S_000001          1              385           3457             1.0   \n",
       "3  VIRAT_S_000001          1              385           3458             1.0   \n",
       "4  VIRAT_S_000001          1              385           3459             1.0   \n",
       "\n",
       "   bbox_lefttop_y  bbox_width  bbox_height  object_type  \n",
       "0           663.0        76.0        132.0          1.0  \n",
       "1           663.0        76.0        132.0          1.0  \n",
       "2           663.0        76.0        132.0          1.0  \n",
       "3           663.0        76.0        132.0          1.0  \n",
       "4           663.0        76.0        132.0          1.0  "
      ]
     },
     "execution_count": 10,
     "metadata": {},
     "output_type": "execute_result"
    }
   ],
   "source": [
    "objects_df.head()"
   ]
  },
  {
   "cell_type": "markdown",
   "id": "22e42322",
   "metadata": {},
   "source": [
    "## Objects Analysis"
   ]
  },
  {
   "cell_type": "code",
   "execution_count": 11,
   "id": "90417ed8",
   "metadata": {},
   "outputs": [
    {
     "name": "stdout",
     "output_type": "stream",
     "text": [
      "video_name\n",
      "VIRAT_S_000102                     76\n",
      "VIRAT_S_050300_06_001427_001616    61\n",
      "VIRAT_S_010001_02_000195_000498    61\n",
      "VIRAT_S_010201_03_000270_000359    54\n",
      "VIRAT_S_010204_01_000072_000225    54\n",
      "                                   ..\n",
      "VIRAT_S_050201_04_000669_000728     1\n",
      "VIRAT_S_050201_06_001168_001240     1\n",
      "VIRAT_S_050201_07_001348_001458     1\n",
      "VIRAT_S_050201_08_001567_001647     1\n",
      "VIRAT_S_000207_04_000902_000934     1\n",
      "Name: object_id, Length: 325, dtype: int64\n"
     ]
    },
    {
     "data": {
      "image/png": "[encoded data removed]",
      "text/plain": [
       "<Figure size 640x480 with 1 Axes>"
      ]
     },
     "metadata": {},
     "output_type": "display_data"
    }
   ],
   "source": [
    "# How many unique people are shown per video?\n",
    "unique_obj = objects_df.groupby(['video_name'])['object_id'].agg(lambda x:len(x.unique()))\n",
    "unique_obj.sort_values(ascending=False).plot()\n",
    "print(unique_obj.sort_values(ascending=False))"
   ]
  },
  {
   "cell_type": "code",
   "execution_count": 13,
   "id": "36b270d3",
   "metadata": {},
   "outputs": [],
   "source": [
    "# Distribution of people objects in each video\n",
    "selected_video = \"VIRAT_S_010005_08_000647_000693\"\n",
    "selected_video_df = videos_df[videos_df['video_name'].str.contains(selected_video)]\n",
    "selected_video_len = selected_video_df.frame_count.values[0]\n",
    "selected_video_anno = objects_df[objects_df['video_name'] == selected_video].sort_values('current_frame')\n",
    "number_obj_per_frame = selected_video_anno.groupby('current_frame')['current_frame'].count()"
   ]
  },
  {
   "cell_type": "code",
   "execution_count": 14,
   "id": "4074f7e8",
   "metadata": {},
   "outputs": [
    {
     "data": {
      "text/plain": [
       "<AxesSubplot:xlabel='current_frame'>"
      ]
     },
     "execution_count": 14,
     "metadata": {},
     "output_type": "execute_result"
    },
    {
     "data": {
      "image/png": "[encoded data removed]",
      "text/plain": [
       "<Figure size 640x480 with 1 Axes>"
      ]
     },
     "metadata": {},
     "output_type": "display_data"
    }
   ],
   "source": [
    "number_obj_per_frame.plot(kind='line')"
   ]
  },
  {
   "cell_type": "code",
   "execution_count": 16,
   "id": "346a16bc",
   "metadata": {},
   "outputs": [],
   "source": [
    "# Average size of people objects (calculate area of pixels)\n"
   ]
  },
  {
   "cell_type": "code",
   "execution_count": 17,
   "id": "c0ee827a",
   "metadata": {},
   "outputs": [],
   "source": [
    "# Unique people objects shown per video? Overall?\n"
   ]
  }
 ],
 "metadata": {
  "kernelspec": {
   "display_name": "Python 3 (ipykernel)",
   "language": "python",
   "name": "python3"
  },
  "language_info": {
   "codemirror_mode": {
    "name": "ipython",
    "version": 3
   },
   "file_extension": ".py",
   "mimetype": "text/x-python",
   "name": "python",
   "nbconvert_exporter": "python",
   "pygments_lexer": "ipython3",
   "version": "3.10.9"
  },
  "vscode": {
   "interpreter": {
    "hash": "34f1a24e3d73d8640f4ac5be401f0120e3db72af005e3137897846f78241ce11"
   }
  }
 },
 "nbformat": 4,
 "nbformat_minor": 5
}
