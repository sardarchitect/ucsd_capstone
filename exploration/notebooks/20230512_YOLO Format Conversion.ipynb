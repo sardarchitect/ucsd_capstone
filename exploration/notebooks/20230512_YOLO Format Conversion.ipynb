{
 "cells": [
  {
   "cell_type": "code",
   "execution_count": 1,
   "id": "b1d2ddc8",
   "metadata": {},
   "outputs": [],
   "source": [
    "import sys\n",
    "import cv2 as cv\n",
    "import numpy as np\n",
    "import os\n",
    "\n",
    "sys.path.append('/home/sardarchitect/repos/github.com/ucsd_capstone/')\n",
    "from streetstudy.data import virat"
   ]
  },
  {
   "cell_type": "code",
   "execution_count": 2,
   "id": "2ab2faf6",
   "metadata": {},
   "outputs": [],
   "source": [
    "videos_df = virat.build()\n",
    "current_video = videos_df.iloc[2]\n",
    "annotations_df = virat.get_annotations(current_video.path)"
   ]
  },
  {
   "cell_type": "code",
   "execution_count": 3,
   "id": "fe1df7f0",
   "metadata": {},
   "outputs": [],
   "source": [
    "def convert_virat_to_yolo(video, df):\n",
    "    df = df.copy()\n",
    "    capture = cv.VideoCapture(video.path)\n",
    "    image_width = capture.get(cv.CAP_PROP_FRAME_WIDTH)\n",
    "    image_height = capture.get(cv.CAP_PROP_FRAME_HEIGHT)\n",
    "    image_channels = capture.get(cv.CAP_PROP_FRAME_WIDTH)\n",
    "    \n",
    "    df['object_type'] = 0\n",
    "    df['bbox_center_x'] = df['bbox_lefttop_x'] + (df['bbox_width'] / 2)\n",
    "    df['bbox_center_y'] = df['bbox_lefttop_y'] + (df['bbox_height'] / 2)\n",
    "   \n",
    "    # Normalize\n",
    "    df['bbox_center_x'] = round(df['bbox_center_x'] / image_width, 3)\n",
    "    df['bbox_center_y'] = round(df['bbox_center_y'] / image_height, 3)\n",
    "    df['bbox_width'] = (df['bbox_width'] / image_width)\n",
    "    df['bbox_height'] = (df['bbox_height'] / image_height)\n",
    "    \n",
    "    for current_frame in (df['current_frame'].unique()):\n",
    "        bboxs = df[df['current_frame'] == current_frame][['object_type', 'bbox_center_x', 'bbox_center_y', 'bbox_width', 'bbox_height']]\n",
    "        if not os.path.exists(f'./.data_cache/{video.name}'):\n",
    "            os.mkdir(f'./.data_cache/{video.name}')\n",
    "        np.savetxt(f'./.data_cache/{video.name}/{current_frame}.txt', bboxs.values, fmt='%.4f')"
   ]
  },
  {
   "cell_type": "code",
   "execution_count": 4,
   "id": "b846e17e",
   "metadata": {},
   "outputs": [],
   "source": [
    "convert_virat_to_yolo(current_video, annotations_df)"
   ]
  }
 ],
 "metadata": {
  "kernelspec": {
   "display_name": "Python 3 (ipykernel)",
   "language": "python",
   "name": "python3"
  },
  "language_info": {
   "codemirror_mode": {
    "name": "ipython",
    "version": 3
   },
   "file_extension": ".py",
   "mimetype": "text/x-python",
   "name": "python",
   "nbconvert_exporter": "python",
   "pygments_lexer": "ipython3",
   "version": "3.11.3"
  }
 },
 "nbformat": 4,
 "nbformat_minor": 5
}
