{
 "cells": [
  {
   "cell_type": "code",
   "execution_count": 5,
   "id": "b1d2ddc8",
   "metadata": {},
   "outputs": [],
   "source": [
    "import sys\n",
    "from tqdm.auto import tqdm\n",
    "sys.path.append('/home/sardarchitect/repos/github.com/ucsd_capstone/')\n",
    "sys.path.append('/home/sardarchitect/repos/github.com/ucsd_capstone/streetstudy/')"
   ]
  },
  {
   "cell_type": "code",
   "execution_count": 6,
   "id": "fa219e46",
   "metadata": {},
   "outputs": [],
   "source": [
    "from streetstudy.data import virat"
   ]
  },
  {
   "cell_type": "code",
   "execution_count": 7,
   "id": "9b35a250",
   "metadata": {},
   "outputs": [],
   "source": [
    "videos_df = virat.build()\n",
    "videos_df.sort_values('num_frames', inplace=True)"
   ]
  },
  {
   "cell_type": "code",
   "execution_count": 8,
   "id": "12579af4",
   "metadata": {
    "scrolled": false
   },
   "outputs": [
    {
     "data": {
      "application/vnd.jupyter.widget-view+json": {
       "model_id": "a79ab2993a084cf7aba556c9ce982794",
       "version_major": 2,
       "version_minor": 0
      },
      "text/plain": [
       "  0%|          | 0/2 [00:00<?, ?it/s]"
      ]
     },
     "metadata": {},
     "output_type": "display_data"
    },
    {
     "data": {
      "application/vnd.jupyter.widget-view+json": {
       "model_id": "633bd75159d843f790a6e9f41614a9ae",
       "version_major": 2,
       "version_minor": 0
      },
      "text/plain": [
       "  0%|          | 0/362 [00:00<?, ?it/s]"
      ]
     },
     "metadata": {},
     "output_type": "display_data"
    },
    {
     "data": {
      "application/vnd.jupyter.widget-view+json": {
       "model_id": "2c85d90afa074208b6f91920a7d1ab87",
       "version_major": 2,
       "version_minor": 0
      },
      "text/plain": [
       "  0%|          | 0/368 [00:00<?, ?it/s]"
      ]
     },
     "metadata": {},
     "output_type": "display_data"
    }
   ],
   "source": [
    "save_dir = '/home/sardarchitect/repos/github.com/ucsd_capstone/virat/yolo_sample'\n",
    "for i in tqdm(range(0, 2)):\n",
    "    current_video = videos_df.iloc[i]\n",
    "    annotation_df = virat.get_annotations(current_video.path)\n",
    "    \n",
    "    virat.virat_to_yolo(current_video, annotation_df, save_dir)"
   ]
  },
  {
   "cell_type": "code",
   "execution_count": 9,
   "id": "fd88a8a9",
   "metadata": {},
   "outputs": [
    {
     "data": {
      "text/plain": [
       "0"
      ]
     },
     "execution_count": 9,
     "metadata": {},
     "output_type": "execute_result"
    }
   ],
   "source": [
    "import os\n",
    "sum(os.path.getsize(f) for f in os.listdir(save_dir+'/images') if os.path.isfile(f))"
   ]
  },
  {
   "cell_type": "code",
   "execution_count": null,
   "id": "56a772ec",
   "metadata": {},
   "outputs": [],
   "source": []
  }
 ],
 "metadata": {
  "kernelspec": {
   "display_name": "Python 3 (ipykernel)",
   "language": "python",
   "name": "python3"
  },
  "language_info": {
   "codemirror_mode": {
    "name": "ipython",
    "version": 3
   },
   "file_extension": ".py",
   "mimetype": "text/x-python",
   "name": "python",
   "nbconvert_exporter": "python",
   "pygments_lexer": "ipython3",
   "version": "3.11.3"
  }
 },
 "nbformat": 4,
 "nbformat_minor": 5
}
