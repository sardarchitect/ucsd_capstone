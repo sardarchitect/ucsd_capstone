{
 "cells": [
  {
   "attachments": {},
   "cell_type": "markdown",
   "id": "fd4dbf6c",
   "metadata": {},
   "source": [
    "## Import"
   ]
  },
  {
   "cell_type": "code",
   "execution_count": 1,
   "id": "c299959d",
   "metadata": {},
   "outputs": [],
   "source": [
    "import cv2 as cv\n",
    "import pandas as pd\n",
    "import numpy as np\n",
    "import matplotlib.pyplot as plt\n",
    "import torch\n",
    "import torchvision\n",
    "from tqdm.auto import tqdm"
   ]
  },
  {
   "cell_type": "code",
   "execution_count": 2,
   "id": "b626e04b",
   "metadata": {},
   "outputs": [],
   "source": [
    "import sys\n",
    "sys.path.append('/home/sardarchitect/repos/github.com/ucsd_capstone/')\n",
    "sys.path.append('/home/sardarchitect/repos/github.com/ucsd_capstone/pedtracker/')"
   ]
  },
  {
   "cell_type": "code",
   "execution_count": 3,
   "id": "c95ffd62",
   "metadata": {},
   "outputs": [],
   "source": [
    "from pedtracker.virat import virat\n",
    "from pedtracker.model import model"
   ]
  },
  {
   "attachments": {},
   "cell_type": "markdown",
   "id": "ddbc0ae3",
   "metadata": {},
   "source": [
    "## Hyperparameters"
   ]
  },
  {
   "cell_type": "code",
   "execution_count": 4,
   "id": "4d26d899",
   "metadata": {},
   "outputs": [],
   "source": [
    "DEVICE = \"cuda\" if torch.cuda.is_available() else \"cpu\"\n",
    "BATCH_SIZE = 32"
   ]
  },
  {
   "attachments": {},
   "cell_type": "markdown",
   "id": "396a8633",
   "metadata": {},
   "source": [
    "## Data Ingestion"
   ]
  },
  {
   "cell_type": "code",
   "execution_count": 5,
   "id": "e30328f0",
   "metadata": {
    "scrolled": true
   },
   "outputs": [
    {
     "data": {
      "text/html": [
       "<div>\n",
       "<style scoped>\n",
       "    .dataframe tbody tr th:only-of-type {\n",
       "        vertical-align: middle;\n",
       "    }\n",
       "\n",
       "    .dataframe tbody tr th {\n",
       "        vertical-align: top;\n",
       "    }\n",
       "\n",
       "    .dataframe thead th {\n",
       "        text-align: right;\n",
       "    }\n",
       "</style>\n",
       "<table border=\"1\" class=\"dataframe\">\n",
       "  <thead>\n",
       "    <tr style=\"text-align: right;\">\n",
       "      <th></th>\n",
       "      <th>path</th>\n",
       "      <th>num_frames</th>\n",
       "      <th>duration</th>\n",
       "      <th>event_file</th>\n",
       "      <th>object_file</th>\n",
       "      <th>mapping_file</th>\n",
       "    </tr>\n",
       "    <tr>\n",
       "      <th>name</th>\n",
       "      <th></th>\n",
       "      <th></th>\n",
       "      <th></th>\n",
       "      <th></th>\n",
       "      <th></th>\n",
       "      <th></th>\n",
       "    </tr>\n",
       "  </thead>\n",
       "  <tbody>\n",
       "    <tr>\n",
       "      <th>VIRAT_S_000001</th>\n",
       "      <td>/mnt/d/data/virat/videos/VIRAT_S_000001.mp4</td>\n",
       "      <td>20655</td>\n",
       "      <td>689</td>\n",
       "      <td>VIRAT_S_000001.viratdata.events.txt</td>\n",
       "      <td>VIRAT_S_000001.viratdata.objects.txt</td>\n",
       "      <td>VIRAT_S_000001.viratdata.mapping.txt</td>\n",
       "    </tr>\n",
       "    <tr>\n",
       "      <th>VIRAT_S_000002</th>\n",
       "      <td>/mnt/d/data/virat/videos/VIRAT_S_000002.mp4</td>\n",
       "      <td>9075</td>\n",
       "      <td>302</td>\n",
       "      <td>VIRAT_S_000002.viratdata.events.txt</td>\n",
       "      <td>VIRAT_S_000002.viratdata.objects.txt</td>\n",
       "      <td>VIRAT_S_000002.viratdata.mapping.txt</td>\n",
       "    </tr>\n",
       "    <tr>\n",
       "      <th>VIRAT_S_000003</th>\n",
       "      <td>/mnt/d/data/virat/videos/VIRAT_S_000003.mp4</td>\n",
       "      <td>20940</td>\n",
       "      <td>698</td>\n",
       "      <td>VIRAT_S_000003.viratdata.events.txt</td>\n",
       "      <td>VIRAT_S_000003.viratdata.objects.txt</td>\n",
       "      <td>VIRAT_S_000003.viratdata.mapping.txt</td>\n",
       "    </tr>\n",
       "    <tr>\n",
       "      <th>VIRAT_S_000004</th>\n",
       "      <td>/mnt/d/data/virat/videos/VIRAT_S_000004.mp4</td>\n",
       "      <td>17640</td>\n",
       "      <td>588</td>\n",
       "      <td>VIRAT_S_000004.viratdata.events.txt</td>\n",
       "      <td>VIRAT_S_000004.viratdata.objects.txt</td>\n",
       "      <td>VIRAT_S_000004.viratdata.mapping.txt</td>\n",
       "    </tr>\n",
       "    <tr>\n",
       "      <th>VIRAT_S_000006</th>\n",
       "      <td>/mnt/d/data/virat/videos/VIRAT_S_000006.mp4</td>\n",
       "      <td>17805</td>\n",
       "      <td>594</td>\n",
       "      <td>VIRAT_S_000006.viratdata.events.txt</td>\n",
       "      <td>VIRAT_S_000006.viratdata.objects.txt</td>\n",
       "      <td>VIRAT_S_000006.viratdata.mapping.txt</td>\n",
       "    </tr>\n",
       "  </tbody>\n",
       "</table>\n",
       "</div>"
      ],
      "text/plain": [
       "                                                       path  num_frames  \\\n",
       "name                                                                      \n",
       "VIRAT_S_000001  /mnt/d/data/virat/videos/VIRAT_S_000001.mp4       20655   \n",
       "VIRAT_S_000002  /mnt/d/data/virat/videos/VIRAT_S_000002.mp4        9075   \n",
       "VIRAT_S_000003  /mnt/d/data/virat/videos/VIRAT_S_000003.mp4       20940   \n",
       "VIRAT_S_000004  /mnt/d/data/virat/videos/VIRAT_S_000004.mp4       17640   \n",
       "VIRAT_S_000006  /mnt/d/data/virat/videos/VIRAT_S_000006.mp4       17805   \n",
       "\n",
       "                duration                           event_file  \\\n",
       "name                                                            \n",
       "VIRAT_S_000001       689  VIRAT_S_000001.viratdata.events.txt   \n",
       "VIRAT_S_000002       302  VIRAT_S_000002.viratdata.events.txt   \n",
       "VIRAT_S_000003       698  VIRAT_S_000003.viratdata.events.txt   \n",
       "VIRAT_S_000004       588  VIRAT_S_000004.viratdata.events.txt   \n",
       "VIRAT_S_000006       594  VIRAT_S_000006.viratdata.events.txt   \n",
       "\n",
       "                                         object_file  \\\n",
       "name                                                   \n",
       "VIRAT_S_000001  VIRAT_S_000001.viratdata.objects.txt   \n",
       "VIRAT_S_000002  VIRAT_S_000002.viratdata.objects.txt   \n",
       "VIRAT_S_000003  VIRAT_S_000003.viratdata.objects.txt   \n",
       "VIRAT_S_000004  VIRAT_S_000004.viratdata.objects.txt   \n",
       "VIRAT_S_000006  VIRAT_S_000006.viratdata.objects.txt   \n",
       "\n",
       "                                        mapping_file  \n",
       "name                                                  \n",
       "VIRAT_S_000001  VIRAT_S_000001.viratdata.mapping.txt  \n",
       "VIRAT_S_000002  VIRAT_S_000002.viratdata.mapping.txt  \n",
       "VIRAT_S_000003  VIRAT_S_000003.viratdata.mapping.txt  \n",
       "VIRAT_S_000004  VIRAT_S_000004.viratdata.mapping.txt  \n",
       "VIRAT_S_000006  VIRAT_S_000006.viratdata.mapping.txt  "
      ]
     },
     "execution_count": 5,
     "metadata": {},
     "output_type": "execute_result"
    }
   ],
   "source": [
    "video_df = virat.build()\n",
    "video_df.head()"
   ]
  },
  {
   "cell_type": "code",
   "execution_count": 6,
   "id": "8b0d268a",
   "metadata": {},
   "outputs": [
    {
     "data": {
      "text/plain": [
       "path            /mnt/d/data/virat/videos/VIRAT_S_000002.mp4\n",
       "num_frames                                             9075\n",
       "duration                                                302\n",
       "event_file              VIRAT_S_000002.viratdata.events.txt\n",
       "object_file            VIRAT_S_000002.viratdata.objects.txt\n",
       "mapping_file           VIRAT_S_000002.viratdata.mapping.txt\n",
       "Name: VIRAT_S_000002, dtype: object"
      ]
     },
     "execution_count": 6,
     "metadata": {},
     "output_type": "execute_result"
    }
   ],
   "source": [
    "current_video = video_df.loc[\"VIRAT_S_000002\"]\n",
    "current_video"
   ]
  },
  {
   "cell_type": "code",
   "execution_count": 7,
   "id": "92cc708b",
   "metadata": {},
   "outputs": [
    {
     "data": {
      "text/html": [
       "<div>\n",
       "<style scoped>\n",
       "    .dataframe tbody tr th:only-of-type {\n",
       "        vertical-align: middle;\n",
       "    }\n",
       "\n",
       "    .dataframe tbody tr th {\n",
       "        vertical-align: top;\n",
       "    }\n",
       "\n",
       "    .dataframe thead th {\n",
       "        text-align: right;\n",
       "    }\n",
       "</style>\n",
       "<table border=\"1\" class=\"dataframe\">\n",
       "  <thead>\n",
       "    <tr style=\"text-align: right;\">\n",
       "      <th></th>\n",
       "      <th>object_id</th>\n",
       "      <th>object_duration</th>\n",
       "      <th>current_frame</th>\n",
       "      <th>bbox_lefttop_x</th>\n",
       "      <th>bbox_lefttop_y</th>\n",
       "      <th>bbox_width</th>\n",
       "      <th>bbox_height</th>\n",
       "      <th>object_type</th>\n",
       "    </tr>\n",
       "  </thead>\n",
       "  <tbody>\n",
       "    <tr>\n",
       "      <th>0</th>\n",
       "      <td>2</td>\n",
       "      <td>9076</td>\n",
       "      <td>0</td>\n",
       "      <td>1262</td>\n",
       "      <td>381</td>\n",
       "      <td>53</td>\n",
       "      <td>116</td>\n",
       "      <td>1</td>\n",
       "    </tr>\n",
       "    <tr>\n",
       "      <th>1</th>\n",
       "      <td>2</td>\n",
       "      <td>9076</td>\n",
       "      <td>1</td>\n",
       "      <td>1261</td>\n",
       "      <td>381</td>\n",
       "      <td>53</td>\n",
       "      <td>116</td>\n",
       "      <td>1</td>\n",
       "    </tr>\n",
       "    <tr>\n",
       "      <th>2</th>\n",
       "      <td>2</td>\n",
       "      <td>9076</td>\n",
       "      <td>2</td>\n",
       "      <td>1260</td>\n",
       "      <td>381</td>\n",
       "      <td>53</td>\n",
       "      <td>116</td>\n",
       "      <td>1</td>\n",
       "    </tr>\n",
       "    <tr>\n",
       "      <th>3</th>\n",
       "      <td>2</td>\n",
       "      <td>9076</td>\n",
       "      <td>3</td>\n",
       "      <td>1259</td>\n",
       "      <td>381</td>\n",
       "      <td>53</td>\n",
       "      <td>116</td>\n",
       "      <td>1</td>\n",
       "    </tr>\n",
       "    <tr>\n",
       "      <th>4</th>\n",
       "      <td>2</td>\n",
       "      <td>9076</td>\n",
       "      <td>4</td>\n",
       "      <td>1258</td>\n",
       "      <td>381</td>\n",
       "      <td>53</td>\n",
       "      <td>116</td>\n",
       "      <td>1</td>\n",
       "    </tr>\n",
       "  </tbody>\n",
       "</table>\n",
       "</div>"
      ],
      "text/plain": [
       "   object_id  object_duration  current_frame  bbox_lefttop_x  bbox_lefttop_y  \\\n",
       "0          2             9076              0            1262             381   \n",
       "1          2             9076              1            1261             381   \n",
       "2          2             9076              2            1260             381   \n",
       "3          2             9076              3            1259             381   \n",
       "4          2             9076              4            1258             381   \n",
       "\n",
       "   bbox_width  bbox_height  object_type  \n",
       "0          53          116            1  \n",
       "1          53          116            1  \n",
       "2          53          116            1  \n",
       "3          53          116            1  \n",
       "4          53          116            1  "
      ]
     },
     "execution_count": 7,
     "metadata": {},
     "output_type": "execute_result"
    }
   ],
   "source": [
    "annotations_df = virat.get_annotations(current_video['path'])\n",
    "annotations_df = annotations_df[annotations_df['object_type'] == 1]\n",
    "annotations_df.head()"
   ]
  },
  {
   "attachments": {},
   "cell_type": "markdown",
   "id": "327eaac2",
   "metadata": {},
   "source": [
    "## Model Architecture"
   ]
  },
  {
   "cell_type": "code",
   "execution_count": 8,
   "id": "ee256f77",
   "metadata": {},
   "outputs": [
    {
     "name": "stderr",
     "output_type": "stream",
     "text": [
      "Using cache found in /home/sardarchitect/.cache/torch/hub/ultralytics_yolov5_master\n",
      "YOLOv5 🚀 2023-4-30 Python-3.11.3 torch-2.0.0+cu117 CUDA:0 (NVIDIA GeForce GTX 1650, 4096MiB)\n",
      "\n"
     ]
    },
    {
     "name": "stdout",
     "output_type": "stream",
     "text": [
      "\u001b[31m\u001b[1mrequirements:\u001b[0m /home/sardarchitect/.cache/torch/hub/requirements.txt not found, check failed.\n"
     ]
    },
    {
     "name": "stderr",
     "output_type": "stream",
     "text": [
      "Fusing layers... \n",
      "YOLOv5s summary: 213 layers, 7225885 parameters, 0 gradients\n",
      "Adding AutoShape... \n"
     ]
    }
   ],
   "source": [
    "clf = model.yolov5()\n",
    "clf.conf = 0.1\n",
    "clf.classes = [0]"
   ]
  },
  {
   "attachments": {},
   "cell_type": "markdown",
   "id": "6dc53ffc",
   "metadata": {},
   "source": [
    "## Evaluation Criteria"
   ]
  },
  {
   "cell_type": "code",
   "execution_count": 9,
   "id": "4a192dcf",
   "metadata": {},
   "outputs": [
    {
     "name": "stdout",
     "output_type": "stream",
     "text": [
      "0\n",
      "0\n",
      "0.25\n",
      "0.25\n",
      "1.0\n",
      "tensor(0.25000)\n"
     ]
    }
   ],
   "source": [
    "def bbox_iou(boxA, boxB):\n",
    "    xA = max(boxA[0], boxB[0])\n",
    "    yA = max(boxA[1], boxB[1])\n",
    "    xB = min(boxA[2], boxB[2])\n",
    "    yB = min(boxA[3], boxB[3])\n",
    "    \n",
    "    intersection_width = xB - xA \n",
    "    intersection_height = yB - yA\n",
    "    \n",
    "    if intersection_width <= 0 or intersection_height <= 0:\n",
    "        return 0\n",
    "    \n",
    "    intersection_area = intersection_width * intersection_height\n",
    "    boxA_area = (boxA[2] - boxA[0]) * (boxA[3] - boxA[1])\n",
    "    boxB_area = (boxB[2] - boxB[0]) * (boxB[3] - boxB[1])\n",
    "    \n",
    "    iou = intersection_area / float(boxA_area + boxB_area - intersection_area)\n",
    "    return iou   \n",
    "\n",
    "# TEST\n",
    "boxA = [0,0,10,10]\n",
    "boxB = [10,10,20,20]\n",
    "print(bbox_iou(boxA, boxB))\n",
    "\n",
    "boxA = [10,10,20,20]\n",
    "boxB = [0,0,10,10]\n",
    "print(bbox_iou(boxA, boxB))\n",
    "\n",
    "boxA = [0,0,10,10]\n",
    "boxB = [5,5,10,10]\n",
    "print(bbox_iou(boxA, boxB))\n",
    "\n",
    "boxA = [5,5,10,10]\n",
    "boxB = [0,0,10,10]\n",
    "print(bbox_iou(boxA, boxB))\n",
    "\n",
    "boxA = [0,0,10,10]\n",
    "boxB = [0,0,10,10]\n",
    "print(bbox_iou(boxA, boxB))\n",
    "\n",
    "boxA = torch.tensor([5,5,10,10])\n",
    "boxB = torch.tensor([0,0,10,10])\n",
    "print(bbox_iou(boxA, boxB))"
   ]
  },
  {
   "cell_type": "code",
   "execution_count": 10,
   "id": "efa0a4c9",
   "metadata": {},
   "outputs": [],
   "source": [
    "import time"
   ]
  },
  {
   "cell_type": "code",
   "execution_count": 11,
   "id": "4494e371",
   "metadata": {},
   "outputs": [
    {
     "data": {
      "text/plain": [
       "0.0013665699998455239"
      ]
     },
     "execution_count": 11,
     "metadata": {},
     "output_type": "execute_result"
    }
   ],
   "source": [
    "tic = time.perf_counter()\n",
    "\n",
    "boxA = torch.tensor([5,5,10,10])\n",
    "boxB = torch.tensor([0,0,10,10])\n",
    "bbox_iou(boxA, boxB)\n",
    "\n",
    "toc = time.perf_counter()\n",
    "toc-tic"
   ]
  },
  {
   "cell_type": "code",
   "execution_count": 12,
   "id": "8b916d39",
   "metadata": {},
   "outputs": [],
   "source": [
    "import scipy.optimize\n",
    "\n",
    "def match_bboxes(bbox_gt, bbox_pred, IOU_THRESH=0.01):\n",
    "    '''\n",
    "    Given sets of ground truth and predicted bounding boxes,\n",
    "    determine best possible match.\n",
    "    '''\n",
    "    num_gt = bbox_gt.shape[0]\n",
    "    num_pred = bbox_pred.shape[0]\n",
    "    MAX_DIST = 1.0\n",
    "    MIN_IOU = 0.0\n",
    "    \n",
    "    iou_matrix = np.zeros((num_gt, num_pred))\n",
    "    \n",
    "    for i in range(num_gt):\n",
    "        for j in range(num_pred):\n",
    "            iou_matrix[i, j] = bbox_iou(bbox_gt[i], bbox_pred[j])\n",
    "    \n",
    "    if num_pred > num_gt:\n",
    "        diff = num_pred - num_gt\n",
    "        iou_matrix = np.concatenate((iou_matrix, np.full((diff, num_pred), MIN_IOU)), axis=0)\n",
    "        \n",
    "    if num_gt > num_pred:\n",
    "        diff = num_gt - num_pred\n",
    "        iou_matrix = np.concatenate((iou_matrix, np.full((num_gt, diff), MIN_IOU)), axis=1)\n",
    "        \n",
    "    idxs_gt, idxs_pred = scipy.optimize.linear_sum_assignment(1 - iou_matrix)\n",
    "    if (not idxs_gt.size) or (not idxs_pred.size):\n",
    "        ious = np.array([])\n",
    "    else:\n",
    "        ious = iou_matrix[idxs_gt, idxs_pred]\n",
    "        \n",
    "    sel_pred = idxs_pred < num_pred\n",
    "    idx_pred_actual = idxs_pred[sel_pred]\n",
    "    idx_gt_actual = idxs_gt[sel_pred]\n",
    "    ious_actual = iou_matrix[idx_gt_actual, idx_pred_actual]\n",
    "    sel_valid = (ious_actual > IOU_THRESH)\n",
    "    label = sel_valid.astype(int)\n",
    "    \n",
    "    return idx_gt_actual[sel_valid], idx_pred_actual[sel_valid], ious_actual[sel_valid], label\n",
    "\n",
    "# TEST\n",
    "bbox_gt = np.array([[0,0,5,5], [10,10,25,25], [40,40,65,65]])\n",
    "bbox_pred = np.array([[0,0,4,5], [35,35,70,70], [0,0,1,1], [10,10,26,20]])\n",
    "ap = match_bboxes(bbox_gt, bbox_pred)"
   ]
  },
  {
   "cell_type": "code",
   "execution_count": 13,
   "id": "7a7d1610",
   "metadata": {},
   "outputs": [
    {
     "data": {
      "text/plain": [
       "(array([], dtype=int64),\n",
       " array([], dtype=int64),\n",
       " array([], dtype=float64),\n",
       " array([0]))"
      ]
     },
     "execution_count": 13,
     "metadata": {},
     "output_type": "execute_result"
    }
   ],
   "source": [
    "bbox_gt = np.array([[0,0,5,5], [10,10,25,25], [40,40,65,65]])\n",
    "bbox_pred = np.array([[0,0,0,0]])\n",
    "match_bboxes(bbox_gt, bbox_pred)"
   ]
  },
  {
   "cell_type": "code",
   "execution_count": null,
   "id": "216aa1d9",
   "metadata": {},
   "outputs": [],
   "source": []
  },
  {
   "cell_type": "code",
   "execution_count": 14,
   "id": "15479e66",
   "metadata": {},
   "outputs": [],
   "source": [
    "# mAP = []\n",
    "# num_frames = int(current_video['num_frames'])\n",
    "# capture = cv.VideoCapture(current_video['path'])\n",
    "\n",
    "# for current_frame in tqdm(range(num_frames)):\n",
    "#     ret, frame = capture.read()\n",
    "#     preds = clf(frame)\n",
    "    \n",
    "#     bbox_pred = (preds.xyxy[0][:, :4]).cpu().numpy()\n",
    "#     bbox_gt = annotations_df[annotations_df['current_frame'] == current_frame].to_numpy()[:,3:7]\n",
    "#     bbox_gt[:, 2] = bbox_gt[:, 0] + bbox_gt[:, 2]\n",
    "#     bbox_gt[:, 3] = bbox_gt[:, 1] + bbox_gt[:, 3]\n",
    "\n",
    "#     mAP.append(match_bboxes(bbox_gt, bbox_pred)[3])\n",
    "# #     break\n",
    "    \n",
    "# capture.release()\n",
    "\n",
    "# TP = 0\n",
    "# TPFP = 0\n",
    "\n",
    "# for i in mAP:\n",
    "#     TPFP += len(i)\n",
    "#     TP += sum(i)\n",
    "# average_precision = TP/TPFP    \n",
    "# print(\"Average Precision:\", average_precision)"
   ]
  },
  {
   "attachments": {},
   "cell_type": "markdown",
   "id": "c1862b5c",
   "metadata": {},
   "source": [
    "## Optimization"
   ]
  },
  {
   "attachments": {},
   "cell_type": "markdown",
   "id": "83e3dc37",
   "metadata": {},
   "source": [
    "## Training Loop"
   ]
  },
  {
   "attachments": {},
   "cell_type": "markdown",
   "id": "52cedc5e",
   "metadata": {},
   "source": [
    "## Testing Loop"
   ]
  },
  {
   "cell_type": "code",
   "execution_count": 15,
   "id": "ab46f039",
   "metadata": {},
   "outputs": [],
   "source": [
    "video_df.sort_values('num_frames', inplace=True)"
   ]
  },
  {
   "cell_type": "code",
   "execution_count": 17,
   "id": "287aa331",
   "metadata": {
    "scrolled": true
   },
   "outputs": [
    {
     "data": {
      "application/vnd.jupyter.widget-view+json": {
       "model_id": "01bd556bbd1746b49827d9821d48825b",
       "version_major": 2,
       "version_minor": 0
      },
      "text/plain": [
       "  0%|          | 0/20 [00:00<?, ?it/s]"
      ]
     },
     "metadata": {},
     "output_type": "display_data"
    },
    {
     "data": {
      "application/vnd.jupyter.widget-view+json": {
       "model_id": "879b1727911946be9b20e8d0467dab43",
       "version_major": 2,
       "version_minor": 0
      },
      "text/plain": [
       "  0%|          | 0/362 [00:00<?, ?it/s]"
      ]
     },
     "metadata": {},
     "output_type": "display_data"
    },
    {
     "name": "stdout",
     "output_type": "stream",
     "text": [
      "Average Precision: 0.39672131147540984\n"
     ]
    },
    {
     "data": {
      "application/vnd.jupyter.widget-view+json": {
       "model_id": "ca3636a6162746a8a191ed4e32c3bbba",
       "version_major": 2,
       "version_minor": 0
      },
      "text/plain": [
       "  0%|          | 0/368 [00:00<?, ?it/s]"
      ]
     },
     "metadata": {},
     "output_type": "display_data"
    },
    {
     "name": "stdout",
     "output_type": "stream",
     "text": [
      "Average Precision: 1.0\n"
     ]
    },
    {
     "data": {
      "application/vnd.jupyter.widget-view+json": {
       "model_id": "691ddeede93b46c9aaadb4e09a079c38",
       "version_major": 2,
       "version_minor": 0
      },
      "text/plain": [
       "  0%|          | 0/381 [00:00<?, ?it/s]"
      ]
     },
     "metadata": {},
     "output_type": "display_data"
    },
    {
     "name": "stdout",
     "output_type": "stream",
     "text": [
      "Average Precision: 0\n"
     ]
    },
    {
     "data": {
      "application/vnd.jupyter.widget-view+json": {
       "model_id": "c9707e628d5f4cba917492fd42919b8f",
       "version_major": 2,
       "version_minor": 0
      },
      "text/plain": [
       "  0%|          | 0/400 [00:00<?, ?it/s]"
      ]
     },
     "metadata": {},
     "output_type": "display_data"
    },
    {
     "name": "stdout",
     "output_type": "stream",
     "text": [
      "Average Precision: 0.9153182308522114\n"
     ]
    },
    {
     "data": {
      "application/vnd.jupyter.widget-view+json": {
       "model_id": "8710e23e544c4fdcbdecbec9ad1f1844",
       "version_major": 2,
       "version_minor": 0
      },
      "text/plain": [
       "  0%|          | 0/429 [00:00<?, ?it/s]"
      ]
     },
     "metadata": {},
     "output_type": "display_data"
    },
    {
     "name": "stdout",
     "output_type": "stream",
     "text": [
      "Average Precision: 0.9849785407725322\n"
     ]
    },
    {
     "data": {
      "application/vnd.jupyter.widget-view+json": {
       "model_id": "19db1a197a24449d9da2b05aa506f3e1",
       "version_major": 2,
       "version_minor": 0
      },
      "text/plain": [
       "  0%|          | 0/444 [00:00<?, ?it/s]"
      ]
     },
     "metadata": {},
     "output_type": "display_data"
    },
    {
     "name": "stdout",
     "output_type": "stream",
     "text": [
      "Average Precision: 0.3614522156967432\n"
     ]
    },
    {
     "data": {
      "application/vnd.jupyter.widget-view+json": {
       "model_id": "ae86e346e77149348130d91d191970cf",
       "version_major": 2,
       "version_minor": 0
      },
      "text/plain": [
       "  0%|          | 0/445 [00:00<?, ?it/s]"
      ]
     },
     "metadata": {},
     "output_type": "display_data"
    },
    {
     "name": "stdout",
     "output_type": "stream",
     "text": [
      "Average Precision: 0.9882583170254403\n"
     ]
    },
    {
     "data": {
      "application/vnd.jupyter.widget-view+json": {
       "model_id": "eca0bcd1665046f6bc5ba687f26cea8c",
       "version_major": 2,
       "version_minor": 0
      },
      "text/plain": [
       "  0%|          | 0/461 [00:00<?, ?it/s]"
      ]
     },
     "metadata": {},
     "output_type": "display_data"
    },
    {
     "name": "stdout",
     "output_type": "stream",
     "text": [
      "Average Precision: 0.9029411764705882\n"
     ]
    },
    {
     "data": {
      "application/vnd.jupyter.widget-view+json": {
       "model_id": "b96ba80d3bb4426c98ed16325e3182bb",
       "version_major": 2,
       "version_minor": 0
      },
      "text/plain": [
       "  0%|          | 0/469 [00:00<?, ?it/s]"
      ]
     },
     "metadata": {},
     "output_type": "display_data"
    },
    {
     "name": "stdout",
     "output_type": "stream",
     "text": [
      "Average Precision: 0.9679012345679012\n"
     ]
    },
    {
     "data": {
      "application/vnd.jupyter.widget-view+json": {
       "model_id": "a4fa754c18cf44c889faa9d53031ad5f",
       "version_major": 2,
       "version_minor": 0
      },
      "text/plain": [
       "  0%|          | 0/473 [00:00<?, ?it/s]"
      ]
     },
     "metadata": {},
     "output_type": "display_data"
    },
    {
     "name": "stdout",
     "output_type": "stream",
     "text": [
      "Average Precision: 0.9623803009575923\n"
     ]
    },
    {
     "data": {
      "application/vnd.jupyter.widget-view+json": {
       "model_id": "f345ed3c41ed44e79a0cf572887c05d1",
       "version_major": 2,
       "version_minor": 0
      },
      "text/plain": [
       "  0%|          | 0/478 [00:00<?, ?it/s]"
      ]
     },
     "metadata": {},
     "output_type": "display_data"
    },
    {
     "name": "stdout",
     "output_type": "stream",
     "text": [
      "Average Precision: 0.9854166666666667\n"
     ]
    },
    {
     "data": {
      "application/vnd.jupyter.widget-view+json": {
       "model_id": "3b023676fcce491080fcb628064d357f",
       "version_major": 2,
       "version_minor": 0
      },
      "text/plain": [
       "  0%|          | 0/479 [00:00<?, ?it/s]"
      ]
     },
     "metadata": {},
     "output_type": "display_data"
    },
    {
     "name": "stdout",
     "output_type": "stream",
     "text": [
      "Average Precision: 0.6078757626178591\n"
     ]
    },
    {
     "data": {
      "application/vnd.jupyter.widget-view+json": {
       "model_id": "9eb904c2c20a4a95b532f5c3719c6158",
       "version_major": 2,
       "version_minor": 0
      },
      "text/plain": [
       "  0%|          | 0/488 [00:00<?, ?it/s]"
      ]
     },
     "metadata": {},
     "output_type": "display_data"
    },
    {
     "name": "stdout",
     "output_type": "stream",
     "text": [
      "Average Precision: 0.9943977591036415\n"
     ]
    },
    {
     "data": {
      "application/vnd.jupyter.widget-view+json": {
       "model_id": "c0b3b28238564b68a07a444d036e0f26",
       "version_major": 2,
       "version_minor": 0
      },
      "text/plain": [
       "  0%|          | 0/493 [00:00<?, ?it/s]"
      ]
     },
     "metadata": {},
     "output_type": "display_data"
    },
    {
     "name": "stdout",
     "output_type": "stream",
     "text": [
      "Average Precision: 0.827247191011236\n"
     ]
    },
    {
     "data": {
      "application/vnd.jupyter.widget-view+json": {
       "model_id": "e32134f8d9884c93a9ab4d1250837ffd",
       "version_major": 2,
       "version_minor": 0
      },
      "text/plain": [
       "  0%|          | 0/495 [00:00<?, ?it/s]"
      ]
     },
     "metadata": {},
     "output_type": "display_data"
    },
    {
     "name": "stdout",
     "output_type": "stream",
     "text": [
      "Average Precision: 0.889030612244898\n"
     ]
    },
    {
     "data": {
      "application/vnd.jupyter.widget-view+json": {
       "model_id": "b9c41ff9025f444180f91f7c021d2d95",
       "version_major": 2,
       "version_minor": 0
      },
      "text/plain": [
       "  0%|          | 0/496 [00:00<?, ?it/s]"
      ]
     },
     "metadata": {},
     "output_type": "display_data"
    },
    {
     "name": "stdout",
     "output_type": "stream",
     "text": [
      "Average Precision: 0.5776335496754867\n"
     ]
    },
    {
     "data": {
      "application/vnd.jupyter.widget-view+json": {
       "model_id": "285ba5516dba443cb6a3ec2a9d456ec1",
       "version_major": 2,
       "version_minor": 0
      },
      "text/plain": [
       "  0%|          | 0/504 [00:00<?, ?it/s]"
      ]
     },
     "metadata": {},
     "output_type": "display_data"
    },
    {
     "name": "stdout",
     "output_type": "stream",
     "text": [
      "Average Precision: 0.9787234042553191\n"
     ]
    },
    {
     "data": {
      "application/vnd.jupyter.widget-view+json": {
       "model_id": "83d44a53ee354a9b9322814198f9eb8e",
       "version_major": 2,
       "version_minor": 0
      },
      "text/plain": [
       "  0%|          | 0/507 [00:00<?, ?it/s]"
      ]
     },
     "metadata": {},
     "output_type": "display_data"
    },
    {
     "name": "stdout",
     "output_type": "stream",
     "text": [
      "Average Precision: 0.7420413521496554\n"
     ]
    },
    {
     "data": {
      "application/vnd.jupyter.widget-view+json": {
       "model_id": "d40d0187180a43339bcf1d7a1527b5fd",
       "version_major": 2,
       "version_minor": 0
      },
      "text/plain": [
       "  0%|          | 0/507 [00:00<?, ?it/s]"
      ]
     },
     "metadata": {},
     "output_type": "display_data"
    },
    {
     "name": "stdout",
     "output_type": "stream",
     "text": [
      "Average Precision: 0.28607172643869894\n"
     ]
    },
    {
     "data": {
      "application/vnd.jupyter.widget-view+json": {
       "model_id": "693b98e3566f4e01ad461426a12f86fd",
       "version_major": 2,
       "version_minor": 0
      },
      "text/plain": [
       "  0%|          | 0/508 [00:00<?, ?it/s]"
      ]
     },
     "metadata": {},
     "output_type": "display_data"
    },
    {
     "name": "stdout",
     "output_type": "stream",
     "text": [
      "Average Precision: 0.8607830950901181\n"
     ]
    },
    {
     "data": {
      "text/plain": [
       "0.7614586223536001"
      ]
     },
     "execution_count": 17,
     "metadata": {},
     "output_type": "execute_result"
    }
   ],
   "source": [
    "TOTAL_AP = []\n",
    "\n",
    "total_videos = 20\n",
    "current_video_number = 0\n",
    "\n",
    "for video_idx in tqdm(range(total_videos)):\n",
    "    \n",
    "    current_video = video_df.iloc[video_idx]    \n",
    "    annotations_df = virat.get_annotations(current_video['path'])\n",
    "    annotations_df = annotations_df[annotations_df['object_type'] == 1]\n",
    "        \n",
    "    num_frames = int(current_video['num_frames'])\n",
    "    AP = []\n",
    "    \n",
    "    capture = cv.VideoCapture(current_video['path'])\n",
    "    for current_frame in tqdm(range(num_frames)):\n",
    "\n",
    "        _, frame = capture.read()\n",
    "        preds = clf(frame)\n",
    "\n",
    "        bbox_pred = (preds.xyxy[0][:, :4]).cpu().numpy()\n",
    "        bbox_gt = (annotations_df[annotations_df['current_frame'] == current_frame].to_numpy()[:,3:7])\n",
    "        bbox_gt[:, 2] = bbox_gt[:, 0] + bbox_gt[:, 2]\n",
    "        bbox_gt[:, 3] = bbox_gt[:, 1] + bbox_gt[:, 3]\n",
    "        \n",
    "        AP.append(match_bboxes(bbox_gt, bbox_pred)[3])\n",
    "\n",
    "    capture.release()\n",
    "\n",
    "    TP = 0\n",
    "    TPFP = 0\n",
    "    for i in AP:\n",
    "        TPFP += len(i)\n",
    "        TP += sum(i)\n",
    "    \n",
    "    if TPFP == 0:\n",
    "        average_precision = 0\n",
    "    else:\n",
    "        average_precision = TP/TPFP\n",
    "    \n",
    "    TOTAL_AP.append(average_precision)\n",
    "    print(\"Average Precision:\", average_precision)\n",
    "    \n",
    "sum(TOTAL_AP) / total_videos"
   ]
  },
  {
   "attachments": {},
   "cell_type": "markdown",
   "id": "1bc4cc44",
   "metadata": {},
   "source": [
    "## Model Export"
   ]
  },
  {
   "cell_type": "code",
   "execution_count": null,
   "id": "732f0b2c",
   "metadata": {},
   "outputs": [],
   "source": []
  }
 ],
 "metadata": {
  "kernelspec": {
   "display_name": "Python 3 (ipykernel)",
   "language": "python",
   "name": "python3"
  },
  "language_info": {
   "codemirror_mode": {
    "name": "ipython",
    "version": 3
   },
   "file_extension": ".py",
   "mimetype": "text/x-python",
   "name": "python",
   "nbconvert_exporter": "python",
   "pygments_lexer": "ipython3",
   "version": "3.11.3"
  }
 },
 "nbformat": 4,
 "nbformat_minor": 5
}
