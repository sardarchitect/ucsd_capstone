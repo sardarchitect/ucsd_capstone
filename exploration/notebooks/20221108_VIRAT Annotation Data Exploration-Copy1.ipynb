{
 "cells": [
  {
   "cell_type": "markdown",
   "id": "942624fb",
   "metadata": {},
   "source": [
    "# VIRAT Dataset\n",
    "The VIRAT (Video and Image Retrieval and Analysis Tool) dataset is a publicly available video surveillance dataset for research and development purposes. It was created by the United States Department of Homeland Security (DHS) Science and Technology (S&T) Directorate, and it is widely used in the computer vision and machine learning communities for a variety of tasks, such as video surveillance, object detection, tracking, action recognition, and event recognition.\n",
    "\n",
    "The VIRAT dataset contains realistic video clips captured from multiple cameras in various indoor and outdoor environments, depicting different scenarios, such as crowded scenes, interactions between people and vehicles, and complex activities. The dataset includes over 2000 video clips with a total duration of more than 300 hours, and it covers a wide range of activities, including normal activities, anomalous events, and various challenges, such as occlusions, lighting changes, and camera motion.\n",
    "\n",
    "The VIRAT dataset is annotated with ground truth labels, including object bounding boxes, object categories, object attributes, activity labels, and event annotations, making it suitable for training and evaluating computer vision algorithms.\n",
    "\n",
    "> The VIRAT Video Dataset is designed to be realistic, natural and challenging for video surveillance domains in terms of its resolution, background clutter, diversity in scenes, and human activity/event categories than existing action recognition datasets. It has become a benchmark dataset for the computer vision community.\n",
    ">\n",
    "> More info can be found [here](https://viratdata.org/)\n",
    "\n",
    "\n",
    "### Dataset Attributes\n",
    "- Realism and natural scenes\n",
    "\t- Uncontrolled\n",
    "\t- Cluttered backgrounds\n",
    "\t- Minimized actors\n",
    "\t- People performing normal actions in standard contexts\n",
    "- Diversity:\n",
    "\t- Collected in the US\n",
    "- Quantity\n",
    "\t- Release 2.0 includes videos recorded from 11 scenes captured by HD cameras\n",
    "\t- 30 per action class examples\n",
    "- Wide range of resolution and frame rates (Spatial and temporal)\n",
    "\t- 2 - 30 Hz frame rates\n",
    "\t- 10-200 pixels per person\n",
    "\t- HD and downsampled data available\n",
    "- Ground and Aerial videos available\n",
    "- Categories:\n",
    "\t- Single-object\n",
    "\t- Two-objects\n",
    "\t- Around 12 categories per scene\n",
    "- Additional annotated videos in MEVA dataset\n",
    "\n",
    "### Dataset Format\n",
    "- Scene Directory Format: VIRAT_S_XXYYZZ\n",
    "- Filename Format: VIRAT_S_XXYYZZ_KK_SSSSSS_TTTTTT.mp4\n",
    "\t- XX: collection group ID \n",
    "\t- YY: scene ID  \n",
    "\t- ZZ: sequence ID  \n",
    "\t- KK: segment ID (within sequence)  \n",
    "\t- SSSSSS: starting seconds in %06d format. E.g., 1 min 2 sec is 000062.  \n",
    "\t- TTTTTT: ending seconds in %06d format.\n",
    "- Vehicle categories:\n",
    "\t- Car\n",
    "\t- Bike\n",
    "\t- Vehicle\n",
    "\n",
    "## Pedestrian Behaviors Covered by VIRAT\n",
    "\n",
    "| Event | Description | Annotation | Start | End |\n",
    "|:----- |:----------- |:---------- |:----- |:--- |\n",
    "| Person loading an Object to a Vehicle | An object moving from a person to a vehicle. The act of 'carrying' should not be included in this event. |  'Person', 'Object' (optional), and 'Vehicle' should be annotated. | The event begins immediately when the cargo to be loaded is “extended” toward the vehicle (i.e., before one's posture changes from one of 'carrying', to one of 'loading.'). | The event ends after the cargo is placed in the vehicle and person-cargo contact is lost. In the event of an occlusion, it ends when the loss of contact is visible.\n",
    "| Person Unloading an Object from a Vehicle | An object moving from a vehicle to a person. | Annotation: 'Person', 'Object' (optional), and 'Vehicle' should be annotated.| The event begins immediately when the cargo begins to move. If the start of the event is occluded, it begins when the cargo movement is first visible. | The event ends after the cargo is released. If a person, while holding the cargo, begins to walk away from the vehicle, the event ends (at which time the person is 'carrying'). The event also ends if the vehicle drives away while the person is still in contact with the cargo; after the vehicle has been in motion for more than 2 seconds, the person is 'carrying'.\n",
    "| Person Opening a Vehicle Trunk | A person opening a trunk. A trunk is defined as a container specifically designed to store nonhuman cargo on a vehicle. A trunk need not have a lid (i.e., the back of a pickup truck is a trunk), and it need not open from above (i.e., the back of a van, which opens via double doors, is also a trunk). | 'Person', and 'Vehicle' should be annotated with bounding boxes for as many frames as possible during the event duration. The bbox annotation of 'Trunk' is optional.| The event begins when the trunk starts to move. | The event ends after the trunk has stopped moving.\n",
    "| Person Closing a Vehicle Trunk | A person closing a trunk. | 'Person', and 'Vehicle' should be annotated with bounding boxes for as many frames as possible during the event duration. The bbox annotation of 'Trunk' is optional. | The event begins when the trunk starts to move. | The event ends after the trunk has stopped moving. |\n",
    "| Person getting into a Vehicle | A person getting into, or mounting (e.g., a motorcycle), a vehicle. | 'Person', and 'Vehicle' should be annotated.| The event begins when the vehicle's door moves, or, if there is no door, 2s before ½ of the person's body is inside the vehicle. | The event ends when the person is in the vehicle. If the vehicle has a door, the event ends after the door is shut. If not, it ends when the person is in the seated position, or has been inside the vehicle for 2 seconds (whichever comes first). |\n",
    "| Person getting out of a Vehicle | A person getting out of, or dismounting, a vehicle.| 'Person', and 'Vehicle' should be annotated.| The event begins when the vehicle's door moves. If the vehicle does not have a door, it begins 2 s before ½ of the person's body is outside the vehicle. | The event ends when standing, walking, or running begins.\n",
    "| Person gesturing | A person gesturing. Gesturing is defined as a movement, usually of the body or limbs, which expresses or emphasizes an idea, sentiment, or attitude. Examples of gesturing include pointing, waving, and sign language.| 'Person' should be annotated. | The event begins when the gesture is evident. For example, when waving, the gesture when the waver begins to raise their arm into the “waving position.” | The event ends when the motion ends |\n",
    "| Person digging (Note: not existing in Release 2.0) | A person digging. Digging may or may not involve the use of a tool (i.e., digging with one's hands is still considered 'digging'; hands are the tool).| 'Person' should be annotated.| The event begins when the tool makes contact with the ground. | The event ends 5 s after the tool has been removed from the ground, or immediately if the digging tool is dropped.| \n",
    "| Person Carrying an Object | A person carrying an object. The object may be carried in either hand, with both hands, or on one's back. Object annotation by bboxes are optional and subject to the difficulty.| 'Person', and 'Object' (optional) are annotated. |  The event begins when the person who will carry the object, makes contact with the object. If someone is carrying an object that is initially occluded, the event begins when the object is visible. |  The event ends when the person is no longer supporting the object against gravity, and contact with the object is broken. In the event of an occlusion, it ends when the loss of contact is visible. |\n",
    "| Person running | A person running for more than 2s. | 'Person' should be annotated.| When a person is visibly running. |  The event will end 2 s after the person is no longer running. If transitioning to Standing, Walking or Sitting the event will end after after Standing, Walking or Sitting. |\n",
    "| Person entering a facility | A person entering a facility |  'Person' should be annotated.| The event begins 2 s before that person crosses the facility‘s threshold. | The event ends after the person has completely disappeared from view. |\n",
    "| Person exiting a facility | A person exiting a facility |  'Person' should be annotated.| The event begins as soon as the person is visible. | The event ends 2 seconds after the person is completely out of the facility| \n",
    "\n",
    "\n",
    "## Citation\n",
    "A Large-scale Benchmark Dataset for Event Recognition in Surveillance Video\" by Sangmin Oh, Anthony Hoogs, Amitha Perera, Naresh Cuntoor, Chia-Chih Chen, Jong Taek Lee, Saurajit Mukherjee, J.K. Aggarwal, Hyungtae Lee, Larry Davis, Eran Swears, Xiaoyang Wang, Qiang Ji, Kishore Reddy, Mubarak Shah, Carl Vondrick, Hamed Pirsiavash, Deva Ramanan, Jenny Yuen, Antonio Torralba, Bi Song, Anesco Fong, Amit Roy-Chowdhury, and Mita Desai, in Proceedings of IEEE Comptuer Vision and Pattern Recognition (CVPR), 2011."
   ]
  },
  {
   "cell_type": "markdown",
   "id": "b644046a",
   "metadata": {},
   "source": [
    "# VIRAT Dataset Exploration\n",
    "### Questions about the Videos: \n",
    "- [ ] What are some summary statistics of the videos?\n",
    "    - [ ] How many videos are there?\n",
    "    - [ ] Average number of number of frames\n",
    "    - [ ] Distribution of number of frames\n",
    "- [ ] Spatio-Temporal Properties\n",
    "    - [ ] What is the temporal and spatial coverage of the data? \n",
    "    - [ ] Does the dataset cover a specific time period or multiple time periods? \n",
    "    - [ ] Does it cover a specific geographical area or multiple locations?\n",
    "- [ ] Duration Properties\n",
    "    - [ ] What is the duration and frequency of the surveillance footage? \n",
    "    - [ ] How long is each video or image clip? \n",
    "    - [ ] How frequently were the recordings made, and over what time period? \n",
    "- [ ] Limitations\n",
    "    - [ ] What are the limitations of the dataset? \n",
    "    - [ ] Are there any limitations or biases in the data that need to be considered? For example, is the dataset collected from a specific location or population, and may not be representative of broader populations or contexts?\n",
    "\n",
    "### Questions about the Annotations: \n",
    "- [ ] Annotation set properties\n",
    "    - [ ] What is the size and structure of the dataset? \n",
    "    - [ ] What are the data types of the variables?\n",
    "    - [ ] What are the key variables in the dataset? \n",
    "- [ ] What are the descriptive statistics of the variables? \n",
    "- [ ] What are the summary statistics such as mean, median, mode, standard deviation, and range for each variable?\n",
    "- [ ] Are there any outliers or missing values that need further investigation?\n",
    "- [ ] What is the temporal and spatial coverage of the data? Does the dataset cover a specific time period or multiple time periods? Does it cover a specific geographical area or multiple locations?\n",
    "- [ ] Are there any data quality or integrity issues? \n",
    "- [ ] Are there any patterns or trends in pedestrian behaviors? Can you identify any common patterns or trends in the data, such as peak pedestrian activity times, popular pedestrian routes, or common behaviors in specific locations?\n",
    "- [ ] Are there any relationships or correlations between variables? \n",
    "- [ ] What are the limitations of the dataset? Are there any limitations or biases in the data that need to be considered? For example, is the dataset collected from a specific location or population, and may not be representative of broader populations or contexts?\n",
    "- [ ] What are the different challenges or complexities in the VIRAT dataset? Are there occlusions, lighting changes, camera motion, or other factors that may impact the accuracy or robustness of computer vision algorithms? Understanding the challenges in the dataset can help you develop appropriate strategies to address them during analysis.\n",
    "- [x] How many object types are there?\n",
    "- [x] How many objects are shown per video?\n",
    "- [x] Total number of  people objects are shown per video?\n",
    "- [x] Distribution of people objects in each video\n",
    "- [x] Total number of frames that contain people objects per video and combined\n",
    "- [ ] Average size of people objects (calculate area of pixels)\n",
    "- [ ] Unique people objects shown per video? Overall?"
   ]
  },
  {
   "cell_type": "markdown",
   "id": "f2d044b9",
   "metadata": {},
   "source": [
    "## Import Packages"
   ]
  },
  {
   "cell_type": "code",
   "execution_count": 1,
   "id": "31f9bc8a",
   "metadata": {},
   "outputs": [],
   "source": [
    "import pandas as pd\n",
    "import numpy as np\n",
    "import os\n",
    "import matplotlib.pyplot as plt\n",
    "import cv2 as cv"
   ]
  },
  {
   "cell_type": "markdown",
   "id": "e70aedb5",
   "metadata": {},
   "source": [
    "## Import Dataset "
   ]
  },
  {
   "cell_type": "code",
   "execution_count": 25,
   "id": "d45fc3eb",
   "metadata": {},
   "outputs": [],
   "source": [
    "data_dir = '/mnt/d/data/virat/'\n",
    "annotation_dir = data_dir + 'annotations/'\n",
    "video_dir = data_dir + 'videos/'"
   ]
  },
  {
   "cell_type": "markdown",
   "id": "41092d87",
   "metadata": {},
   "source": [
    "# Videos"
   ]
  },
  {
   "cell_type": "code",
   "execution_count": 2,
   "id": "511f1d6e",
   "metadata": {},
   "outputs": [
    {
     "ename": "NameError",
     "evalue": "name 'get_dirs' is not defined",
     "output_type": "error",
     "traceback": [
      "\u001b[0;31m---------------------------------------------------------------------------\u001b[0m",
      "\u001b[0;31mNameError\u001b[0m                                 Traceback (most recent call last)",
      "Cell \u001b[0;32mIn[2], line 1\u001b[0m\n\u001b[0;32m----> 1\u001b[0m _,annotations_dir,videos_dir \u001b[38;5;241m=\u001b[39m \u001b[43mget_dirs\u001b[49m()\n",
      "\u001b[0;31mNameError\u001b[0m: name 'get_dirs' is not defined"
     ]
    }
   ],
   "source": [
    "_,annotations_dir,videos_dir = get_dirs()"
   ]
  },
  {
   "cell_type": "markdown",
   "id": "bfa1b2ce",
   "metadata": {},
   "source": [
    "# Videos"
   ]
  },
  {
   "cell_type": "code",
   "execution_count": 3,
   "id": "d45daf60",
   "metadata": {},
   "outputs": [
    {
     "ename": "NameError",
     "evalue": "name 'videos_dir' is not defined",
     "output_type": "error",
     "traceback": [
      "\u001b[0;31m---------------------------------------------------------------------------\u001b[0m",
      "\u001b[0;31mNameError\u001b[0m                                 Traceback (most recent call last)",
      "Cell \u001b[0;32mIn[3], line 2\u001b[0m\n\u001b[1;32m      1\u001b[0m videos_list \u001b[38;5;241m=\u001b[39m []\n\u001b[0;32m----> 2\u001b[0m \u001b[38;5;28;01mfor\u001b[39;00m i, video \u001b[38;5;129;01min\u001b[39;00m \u001b[38;5;28menumerate\u001b[39m(os\u001b[38;5;241m.\u001b[39mlistdir(\u001b[43mvideos_dir\u001b[49m)):\n\u001b[1;32m      3\u001b[0m     video_path \u001b[38;5;241m=\u001b[39m (videos_dir\u001b[38;5;241m+\u001b[39mvideo)\n\u001b[1;32m      4\u001b[0m     capture \u001b[38;5;241m=\u001b[39m cv\u001b[38;5;241m.\u001b[39mVideoCapture(video_path)\n",
      "\u001b[0;31mNameError\u001b[0m: name 'videos_dir' is not defined"
     ]
    }
   ],
   "source": [
    "videos_list = []\n",
    "for i, video in enumerate(os.listdir(videos_dir)):\n",
    "    video_path = (videos_dir+video)\n",
    "    capture = cv.VideoCapture(video_path)\n",
    "    total_frame_count = int(capture.get(cv.CAP_PROP_FRAME_COUNT))\n",
    "    videos_list.append([video, total_frame_count])"
   ]
  },
  {
   "cell_type": "code",
   "execution_count": 4,
   "id": "1e088bc3",
   "metadata": {},
   "outputs": [
    {
     "data": {
      "text/html": [
       "<div>\n",
       "<style scoped>\n",
       "    .dataframe tbody tr th:only-of-type {\n",
       "        vertical-align: middle;\n",
       "    }\n",
       "\n",
       "    .dataframe tbody tr th {\n",
       "        vertical-align: top;\n",
       "    }\n",
       "\n",
       "    .dataframe thead th {\n",
       "        text-align: right;\n",
       "    }\n",
       "</style>\n",
       "<table border=\"1\" class=\"dataframe\">\n",
       "  <thead>\n",
       "    <tr style=\"text-align: right;\">\n",
       "      <th></th>\n",
       "      <th>video_name</th>\n",
       "      <th>frame_count</th>\n",
       "    </tr>\n",
       "  </thead>\n",
       "  <tbody>\n",
       "  </tbody>\n",
       "</table>\n",
       "</div>"
      ],
      "text/plain": [
       "Empty DataFrame\n",
       "Columns: [video_name, frame_count]\n",
       "Index: []"
      ]
     },
     "execution_count": 4,
     "metadata": {},
     "output_type": "execute_result"
    }
   ],
   "source": [
    "videos_df = pd.DataFrame.from_records(videos_list, columns=['video_name', 'frame_count'])\n",
    "videos_df.head()"
   ]
  },
  {
   "cell_type": "code",
   "execution_count": null,
   "id": "83216575",
   "metadata": {},
   "outputs": [],
   "source": [
    "## Summary statistics\n",
    "videos_df.describe()"
   ]
  },
  {
   "cell_type": "code",
   "execution_count": null,
   "id": "7a374bad",
   "metadata": {},
   "outputs": [],
   "source": [
    "# Total number of frames (combined)\n",
    "total_frames = videos_df['frame_count'].sum()\n",
    "print(total_frames)"
   ]
  },
  {
   "cell_type": "code",
   "execution_count": null,
   "id": "dff94c28",
   "metadata": {},
   "outputs": [],
   "source": [
    "# Distribution of total number of frames per video (sorted)\n",
    "videos_df.sort_values(by='frame_count', ascending=False).plot(x='video_name', y='frame_count', kind='line')"
   ]
  },
  {
   "cell_type": "markdown",
   "id": "bdcc4271",
   "metadata": {},
   "source": [
    "# Annotations"
   ]
  },
  {
   "cell_type": "code",
   "execution_count": null,
   "id": "c3cb4ce7",
   "metadata": {},
   "outputs": [],
   "source": [
    "# Create empty dataframe with appropriate columns\n",
    "objects_df = pd.DataFrame(data=None, columns=[\"video_name\",\"object_id\",\"object_duration\",\"current_frame\",\"bbox_lefttop_x\",\"bbox_lefttop_y\",\"bbox_width\",\"bbox_height\",\"object_type\"], dtype=\"int64\")\n",
    "objects_df.head()"
   ]
  },
  {
   "cell_type": "code",
   "execution_count": null,
   "id": "4512b08a",
   "metadata": {},
   "outputs": [],
   "source": [
    "# Find all objects.txt files for all videos\n",
    "# Iterate through each person object file and append to existing dataframe\n",
    "\n",
    "video_list = videos_df.copy()\n",
    "video_list = video_list['video_name'].str.replace('.mp4', '', regex=True)\n",
    "\n",
    "for current_video in video_list:\n",
    "    try:\n",
    "        temp_df = virat_txt_to_df(annotations_dir, current_video, table_category='objects')\n",
    "    except:\n",
    "        print('Exception occured at ',current_video)\n",
    "    temp_df['video_name'] = current_video\n",
    "    temp_df = temp_df[temp_df['object_type'] == 1]\n",
    "    objects_df = pd.concat([objects_df, temp_df])"
   ]
  },
  {
   "cell_type": "code",
   "execution_count": null,
   "id": "1c45fe94",
   "metadata": {},
   "outputs": [],
   "source": [
    "objects_df = objects_df.reset_index()\n",
    "objects_df = objects_df.drop(columns='index')"
   ]
  },
  {
   "cell_type": "code",
   "execution_count": null,
   "id": "04b34881",
   "metadata": {},
   "outputs": [],
   "source": [
    "objects_df.head()"
   ]
  },
  {
   "cell_type": "markdown",
   "id": "93dd6163",
   "metadata": {},
   "source": [
    "## Objects Analysis"
   ]
  },
  {
   "cell_type": "code",
   "execution_count": null,
   "id": "375e62b3",
   "metadata": {},
   "outputs": [],
   "source": [
    "# How many unique people are shown per video?\n",
    "unique_obj = objects_df.groupby(['video_name'])['object_id'].agg(lambda x:len(x.unique()))\n",
    "unique_obj.sort_values(ascending=False).plot()\n",
    "print(unique_obj.sort_values(ascending=False))"
   ]
  },
  {
   "cell_type": "code",
   "execution_count": null,
   "id": "7ff06a03",
   "metadata": {},
   "outputs": [],
   "source": [
    "# Distribution of people objects in each video\n",
    "selected_video = \"VIRAT_S_010005_08_000647_000693\"\n",
    "selected_video_df = videos_df[videos_df['video_name'].str.contains(selected_video)]\n",
    "selected_video_len = selected_video_df.frame_count.values[0]\n",
    "selected_video_anno = objects_df[objects_df['video_name'] == selected_video].sort_values('current_frame')\n",
    "number_obj_per_frame = selected_video_anno.groupby('current_frame')['current_frame'].count()"
   ]
  },
  {
   "cell_type": "code",
   "execution_count": null,
   "id": "6b2f05d3",
   "metadata": {},
   "outputs": [],
   "source": [
    "number_obj_per_frame.plot(kind='line')"
   ]
  },
  {
   "cell_type": "code",
   "execution_count": null,
   "id": "b24868f6",
   "metadata": {},
   "outputs": [],
   "source": [
    "# Average size of people objects (calculate area of pixels)\n"
   ]
  },
  {
   "cell_type": "code",
   "execution_count": null,
   "id": "5ae7d513",
   "metadata": {},
   "outputs": [],
   "source": [
    "# Unique people objects shown per video? Overall?\n"
   ]
  },
  {
   "cell_type": "markdown",
   "id": "c5b8f4b3",
   "metadata": {},
   "source": [
    "## Data Cleaning\n",
    "The annotation text files provided by VIRAT dataset seem to contain some encoding errors (see screenshot below). Some manual cleanup will help remove these discrepencies and help load in the data, albeit leaving us with some frames without labels (which is okay). "
   ]
  },
  {
   "cell_type": "code",
   "execution_count": 26,
   "id": "7631d3b6",
   "metadata": {},
   "outputs": [
    {
     "data": {
      "image/png": "[encoded data removed]",
      "text/plain": [
       "<IPython.core.display.Image object>"
      ]
     },
     "execution_count": 26,
     "metadata": {},
     "output_type": "execute_result"
    }
   ],
   "source": [
    "from IPython.display import Image\n",
    "Image(filename='../assets/virat_dataset_processing.png') "
   ]
  },
  {
   "cell_type": "markdown",
   "id": "fda170e0",
   "metadata": {},
   "source": [
    "## Viewing the Annotation Data for a Single Video"
   ]
  },
  {
   "cell_type": "code",
   "execution_count": 9,
   "id": "bfd3366b",
   "metadata": {},
   "outputs": [],
   "source": [
    "video = \"VIRAT_S_000002\"\n",
    "video_event_path = annotation_dir + f'{video}.viratdata.events.txt'\n",
    "video_object_path = annotation_dir + f'{video}.viratdata.objects.txt'\n",
    "video_mapping_path = annotation_dir + f'{video}.viratdata.mapping.txt'\n",
    "\n",
    "video_event = pd.read_csv(video_event_path, delim_whitespace=True, header=None)\n",
    "video_object = pd.read_csv(video_object_path, delim_whitespace=True, header=None)\n",
    "video_mapping = pd.read_csv(video_mapping_path, delim_whitespace=True, header=None)"
   ]
  },
  {
   "cell_type": "code",
   "execution_count": 10,
   "id": "b5cf16be",
   "metadata": {},
   "outputs": [],
   "source": [
    "# Column names \n",
    "event_columns = {\n",
    "0: \"event_id\",        \n",
    "1: \"event_type\",      \n",
    "2: \"duration\", \n",
    "3: \"start_frame\",     \n",
    "4: \"end_frame\",       \n",
    "5: \"current_frame\",   \n",
    "6: \"bbox_lefttop_x\", \n",
    "7: \"bbox_lefttop_y\", \n",
    "8: \"bbox_width\",      \n",
    "9: \"bbox_height\",    \n",
    "}\n",
    "\n",
    "object_columns = {\n",
    "0: \"object_id\",        \n",
    "1: \"object_duration\", \n",
    "2: \"current_frame\",\n",
    "3: \"bbox_lefttop_x\", \n",
    "4: \"bbox_lefttop_y\", \n",
    "5: \"bbox_width\",      \n",
    "6: \"bbox_height\",\n",
    "7: \"object_type\"\n",
    "}\n",
    "\n",
    "mapping_columns = {\n",
    "0: \"event_id\",\n",
    "1: \"event_type\",\n",
    "2: \"event_duration\",\n",
    "3: \"start_frame\",\n",
    "4: \"end_frame\",\n",
    "5: \"num_obj\" ,\n",
    "}\n",
    "\n",
    "event_type = {\n",
    "    1: \"Person loading an Object to a Vehicle\",\n",
    "    2: \"Person Unloading an Object from a Car/Vehicle\",\n",
    "    3: \"Person Opening a Vehicle/Car Trunk\",\n",
    "    4: \"Person Closing a Vehicle/Car Trunk\",\n",
    "    5: \"Person getting into a Vehicle\",\n",
    "    6: \"Person getting out of a Vehicle\",\n",
    "    7: \"Person gesturing\",\n",
    "    8: \"Person digging\",\n",
    "    9: \"Person carrying an object\",\n",
    "    10: \"Person running\",\n",
    "    11: \"Person entering a facility\",\n",
    "    12: \"Person exiting a facility\",\n",
    "}\n",
    "\n",
    "object_type = {\n",
    "    0: \"person\",\n",
    "    1: \"car\",\n",
    "    2: \"vehicles\",\n",
    "    3: \"object\",\n",
    "    4: \"bike, bicycles\"\n",
    "}"
   ]
  },
  {
   "cell_type": "code",
   "execution_count": 11,
   "id": "d07dc7a0",
   "metadata": {},
   "outputs": [],
   "source": [
    "video_event = video_event.rename(event_columns, axis=1)\n",
    "video_object = video_object.rename(object_columns, axis=1)\n",
    "video_mapping = video_mapping.rename(mapping_columns, axis=1)"
   ]
  },
  {
   "cell_type": "code",
   "execution_count": 12,
   "id": "93da19bd",
   "metadata": {},
   "outputs": [
    {
     "name": "stdout",
     "output_type": "stream",
     "text": [
      "<class 'pandas.core.frame.DataFrame'>\n",
      "RangeIndex: 1042 entries, 0 to 1041\n",
      "Data columns (total 10 columns):\n",
      " #   Column          Non-Null Count  Dtype\n",
      "---  ------          --------------  -----\n",
      " 0   event_id        1042 non-null   int64\n",
      " 1   event_type      1042 non-null   int64\n",
      " 2   duration        1042 non-null   int64\n",
      " 3   start_frame     1042 non-null   int64\n",
      " 4   end_frame       1042 non-null   int64\n",
      " 5   current_frame   1042 non-null   int64\n",
      " 6   bbox_lefttop_x  1042 non-null   int64\n",
      " 7   bbox_lefttop_y  1042 non-null   int64\n",
      " 8   bbox_width      1042 non-null   int64\n",
      " 9   bbox_height     1042 non-null   int64\n",
      "dtypes: int64(10)\n",
      "memory usage: 81.5 KB\n",
      "None\n",
      "\n",
      "\n",
      "\n",
      "<class 'pandas.core.frame.DataFrame'>\n",
      "RangeIndex: 118777 entries, 0 to 118776\n",
      "Data columns (total 8 columns):\n",
      " #   Column           Non-Null Count   Dtype\n",
      "---  ------           --------------   -----\n",
      " 0   object_id        118777 non-null  int64\n",
      " 1   object_duration  118777 non-null  int64\n",
      " 2   current_frame    118777 non-null  int64\n",
      " 3   bbox_lefttop_x   118777 non-null  int64\n",
      " 4   bbox_lefttop_y   118777 non-null  int64\n",
      " 5   bbox_width       118777 non-null  int64\n",
      " 6   bbox_height      118777 non-null  int64\n",
      " 7   object_type      118777 non-null  int64\n",
      "dtypes: int64(8)\n",
      "memory usage: 7.2 MB\n",
      "None\n",
      "\n",
      "\n",
      "\n"
     ]
    }
   ],
   "source": [
    "print(video_event.info())\n",
    "print('\\n\\n')\n",
    "print(video_object.info())\n",
    "print('\\n\\n')\n",
    "# print(video_mapping.info())"
   ]
  },
  {
   "cell_type": "markdown",
   "id": "8fa5c42f",
   "metadata": {},
   "source": [
    "From the above we can see that our selected sample video contains \n",
    "- 1042 \"events\" \n",
    "- 118,777 \"objects\"\n",
    "- ? mappings\n",
    "\n",
    "Given this information, let's ask some interesting questions we might want to try and answer regarding this dataset. \n",
    "\n",
    "Some questions regarding \"events\" we can try to answer are:\n",
    "- What types of events have been identified in the selected video?\n",
    "- What is the frequency of these events in the selected video?\n",
    "- What is the distribution of these events (which events occur most often in the selected video?)\n",
    "- At what frames do we see these events occur?\n",
    "- What are the average durations of different types of events in the selected video?\n",
    "\n",
    "Other questions regarding the \"objects\" in the selected video are: \n",
    "- What types of objects have been identified in the selected video?\n",
    "- What is the frequency of these objects in the selected video?\n",
    "- What is the distribution of these objects (which object occur most often in the selected video?)\n",
    "- At what frames do we see these objects?\n",
    "- What are the average durations of different types of objects in the selected video?\n",
    "\n",
    "We can also try to connect the objects to the events using the \"mapping\" annotations. \n",
    "\n",
    "Let's try to see if we can get further insights into our selected video using the questions I have asked above. Later, we can extend this analysis to our entire dataset and see if we can find general patterns in the dataset that may lead to bias."
   ]
  },
  {
   "cell_type": "markdown",
   "id": "c2d2c834",
   "metadata": {},
   "source": [
    "## Events"
   ]
  },
  {
   "cell_type": "code",
   "execution_count": 13,
   "id": "245ca785",
   "metadata": {},
   "outputs": [
    {
     "data": {
      "text/html": [
       "<div>\n",
       "<style scoped>\n",
       "    .dataframe tbody tr th:only-of-type {\n",
       "        vertical-align: middle;\n",
       "    }\n",
       "\n",
       "    .dataframe tbody tr th {\n",
       "        vertical-align: top;\n",
       "    }\n",
       "\n",
       "    .dataframe thead th {\n",
       "        text-align: right;\n",
       "    }\n",
       "</style>\n",
       "<table border=\"1\" class=\"dataframe\">\n",
       "  <thead>\n",
       "    <tr style=\"text-align: right;\">\n",
       "      <th></th>\n",
       "      <th>event_id</th>\n",
       "      <th>event_type</th>\n",
       "      <th>duration</th>\n",
       "      <th>start_frame</th>\n",
       "      <th>end_frame</th>\n",
       "      <th>current_frame</th>\n",
       "      <th>bbox_lefttop_x</th>\n",
       "      <th>bbox_lefttop_y</th>\n",
       "      <th>bbox_width</th>\n",
       "      <th>bbox_height</th>\n",
       "    </tr>\n",
       "  </thead>\n",
       "  <tbody>\n",
       "    <tr>\n",
       "      <th>0</th>\n",
       "      <td>0</td>\n",
       "      <td>6</td>\n",
       "      <td>134</td>\n",
       "      <td>2486</td>\n",
       "      <td>2619</td>\n",
       "      <td>2486</td>\n",
       "      <td>786</td>\n",
       "      <td>501</td>\n",
       "      <td>248</td>\n",
       "      <td>210</td>\n",
       "    </tr>\n",
       "    <tr>\n",
       "      <th>1</th>\n",
       "      <td>0</td>\n",
       "      <td>6</td>\n",
       "      <td>134</td>\n",
       "      <td>2486</td>\n",
       "      <td>2619</td>\n",
       "      <td>2487</td>\n",
       "      <td>786</td>\n",
       "      <td>501</td>\n",
       "      <td>248</td>\n",
       "      <td>210</td>\n",
       "    </tr>\n",
       "    <tr>\n",
       "      <th>2</th>\n",
       "      <td>0</td>\n",
       "      <td>6</td>\n",
       "      <td>134</td>\n",
       "      <td>2486</td>\n",
       "      <td>2619</td>\n",
       "      <td>2488</td>\n",
       "      <td>786</td>\n",
       "      <td>501</td>\n",
       "      <td>248</td>\n",
       "      <td>210</td>\n",
       "    </tr>\n",
       "    <tr>\n",
       "      <th>3</th>\n",
       "      <td>0</td>\n",
       "      <td>6</td>\n",
       "      <td>134</td>\n",
       "      <td>2486</td>\n",
       "      <td>2619</td>\n",
       "      <td>2489</td>\n",
       "      <td>786</td>\n",
       "      <td>501</td>\n",
       "      <td>248</td>\n",
       "      <td>210</td>\n",
       "    </tr>\n",
       "    <tr>\n",
       "      <th>4</th>\n",
       "      <td>0</td>\n",
       "      <td>6</td>\n",
       "      <td>134</td>\n",
       "      <td>2486</td>\n",
       "      <td>2619</td>\n",
       "      <td>2490</td>\n",
       "      <td>786</td>\n",
       "      <td>501</td>\n",
       "      <td>248</td>\n",
       "      <td>210</td>\n",
       "    </tr>\n",
       "  </tbody>\n",
       "</table>\n",
       "</div>"
      ],
      "text/plain": [
       "   event_id  event_type  duration  start_frame  end_frame  current_frame  \\\n",
       "0         0           6       134         2486       2619           2486   \n",
       "1         0           6       134         2486       2619           2487   \n",
       "2         0           6       134         2486       2619           2488   \n",
       "3         0           6       134         2486       2619           2489   \n",
       "4         0           6       134         2486       2619           2490   \n",
       "\n",
       "   bbox_lefttop_x  bbox_lefttop_y  bbox_width  bbox_height  \n",
       "0             786             501         248          210  \n",
       "1             786             501         248          210  \n",
       "2             786             501         248          210  \n",
       "3             786             501         248          210  \n",
       "4             786             501         248          210  "
      ]
     },
     "execution_count": 13,
     "metadata": {},
     "output_type": "execute_result"
    }
   ],
   "source": [
    "video_event.head()"
   ]
  },
  {
   "cell_type": "code",
   "execution_count": 14,
   "id": "8371fbef",
   "metadata": {},
   "outputs": [
    {
     "data": {
      "text/plain": [
       "event_type\n",
       "Person carrying an object                        529\n",
       "Person getting into a Vehicle                    134\n",
       "Person getting out of a Vehicle                  134\n",
       "Person Unloading an Object from a Car/Vehicle    121\n",
       "Person Opening a Vehicle/Car Trunk                65\n",
       "Person Closing a Vehicle/Car Trunk                59\n",
       "dtype: int64"
      ]
     },
     "execution_count": 14,
     "metadata": {},
     "output_type": "execute_result"
    }
   ],
   "source": [
    "# What types of events have been identified in the selected video?\n",
    "# What is the frequency of these events in the selected video?\n",
    "\n",
    "video_event.replace({\"event_type\" : event_type}, inplace=False).value_counts('event_type')"
   ]
  },
  {
   "cell_type": "code",
   "execution_count": 15,
   "id": "b0fc2097",
   "metadata": {},
   "outputs": [
    {
     "data": {
      "text/plain": [
       "<BarContainer object of 6 artists>"
      ]
     },
     "execution_count": 15,
     "metadata": {},
     "output_type": "execute_result"
    },
    {
     "data": {
      "image/png": "[encoded data removed]",
      "text/plain": [
       "<Figure size 1000x300 with 1 Axes>"
      ]
     },
     "metadata": {},
     "output_type": "display_data"
    }
   ],
   "source": [
    "# What is the distribution of these events (which events occur most often in the selected video?)\n",
    "plt.figure(figsize=(10,3))\n",
    "plt.bar(x=video_event.value_counts('event_type').index, height=video_event.value_counts('event_type').values)\n"
   ]
  },
  {
   "cell_type": "code",
   "execution_count": 16,
   "id": "70c79f94",
   "metadata": {},
   "outputs": [
    {
     "data": {
      "image/png": "[encoded data removed]",
      "text/plain": [
       "<Figure size 640x480 with 1 Axes>"
      ]
     },
     "metadata": {},
     "output_type": "display_data"
    }
   ],
   "source": [
    "# At what frames do we see these events occur?\n",
    "events_dict = {}\n",
    "for i in range(len(video_event)):\n",
    "    current_event = video_event.iloc[i]\n",
    "    events_dict[current_event['event_id']] = current_event['start_frame'], current_event['end_frame'], current_event['event_type']\n",
    "\n",
    "for key in events_dict:\n",
    "    event_duration = np.arange(events_dict[key][0], events_dict[key][1])\n",
    "    current_key = [key for i in range(len(event_duration))]\n",
    "    plt.scatter(event_duration, current_key)"
   ]
  },
  {
   "cell_type": "markdown",
   "id": "17d681bf",
   "metadata": {},
   "source": [
    "## Objects"
   ]
  },
  {
   "cell_type": "code",
   "execution_count": 17,
   "id": "c67cdd82",
   "metadata": {},
   "outputs": [
    {
     "data": {
      "text/html": [
       "<div>\n",
       "<style scoped>\n",
       "    .dataframe tbody tr th:only-of-type {\n",
       "        vertical-align: middle;\n",
       "    }\n",
       "\n",
       "    .dataframe tbody tr th {\n",
       "        vertical-align: top;\n",
       "    }\n",
       "\n",
       "    .dataframe thead th {\n",
       "        text-align: right;\n",
       "    }\n",
       "</style>\n",
       "<table border=\"1\" class=\"dataframe\">\n",
       "  <thead>\n",
       "    <tr style=\"text-align: right;\">\n",
       "      <th></th>\n",
       "      <th>object_id</th>\n",
       "      <th>object_duration</th>\n",
       "      <th>current_frame</th>\n",
       "      <th>bbox_lefttop_x</th>\n",
       "      <th>bbox_lefttop_y</th>\n",
       "      <th>bbox_width</th>\n",
       "      <th>bbox_height</th>\n",
       "      <th>object_type</th>\n",
       "    </tr>\n",
       "  </thead>\n",
       "  <tbody>\n",
       "    <tr>\n",
       "      <th>0</th>\n",
       "      <td>2</td>\n",
       "      <td>9076</td>\n",
       "      <td>0</td>\n",
       "      <td>1262</td>\n",
       "      <td>381</td>\n",
       "      <td>53</td>\n",
       "      <td>116</td>\n",
       "      <td>1</td>\n",
       "    </tr>\n",
       "    <tr>\n",
       "      <th>1</th>\n",
       "      <td>2</td>\n",
       "      <td>9076</td>\n",
       "      <td>1</td>\n",
       "      <td>1261</td>\n",
       "      <td>381</td>\n",
       "      <td>53</td>\n",
       "      <td>116</td>\n",
       "      <td>1</td>\n",
       "    </tr>\n",
       "    <tr>\n",
       "      <th>2</th>\n",
       "      <td>2</td>\n",
       "      <td>9076</td>\n",
       "      <td>2</td>\n",
       "      <td>1260</td>\n",
       "      <td>381</td>\n",
       "      <td>53</td>\n",
       "      <td>116</td>\n",
       "      <td>1</td>\n",
       "    </tr>\n",
       "    <tr>\n",
       "      <th>3</th>\n",
       "      <td>2</td>\n",
       "      <td>9076</td>\n",
       "      <td>3</td>\n",
       "      <td>1259</td>\n",
       "      <td>381</td>\n",
       "      <td>53</td>\n",
       "      <td>116</td>\n",
       "      <td>1</td>\n",
       "    </tr>\n",
       "    <tr>\n",
       "      <th>4</th>\n",
       "      <td>2</td>\n",
       "      <td>9076</td>\n",
       "      <td>4</td>\n",
       "      <td>1258</td>\n",
       "      <td>381</td>\n",
       "      <td>53</td>\n",
       "      <td>116</td>\n",
       "      <td>1</td>\n",
       "    </tr>\n",
       "  </tbody>\n",
       "</table>\n",
       "</div>"
      ],
      "text/plain": [
       "   object_id  object_duration  current_frame  bbox_lefttop_x  bbox_lefttop_y  \\\n",
       "0          2             9076              0            1262             381   \n",
       "1          2             9076              1            1261             381   \n",
       "2          2             9076              2            1260             381   \n",
       "3          2             9076              3            1259             381   \n",
       "4          2             9076              4            1258             381   \n",
       "\n",
       "   bbox_width  bbox_height  object_type  \n",
       "0          53          116            1  \n",
       "1          53          116            1  \n",
       "2          53          116            1  \n",
       "3          53          116            1  \n",
       "4          53          116            1  "
      ]
     },
     "execution_count": 17,
     "metadata": {},
     "output_type": "execute_result"
    }
   ],
   "source": [
    "video_object.head()"
   ]
  },
  {
   "cell_type": "code",
   "execution_count": 18,
   "id": "70ca15d5",
   "metadata": {},
   "outputs": [
    {
     "data": {
      "text/plain": [
       "object_type\n",
       "0    71311\n",
       "1    43532\n",
       "2     3324\n",
       "4      610\n",
       "dtype: int64"
      ]
     },
     "execution_count": 18,
     "metadata": {},
     "output_type": "execute_result"
    }
   ],
   "source": [
    "video_object.value_counts('object_type')"
   ]
  },
  {
   "cell_type": "code",
   "execution_count": 19,
   "id": "6a2f12dd",
   "metadata": {},
   "outputs": [
    {
     "data": {
      "text/plain": [
       "object_type\n",
       "person            71311\n",
       "car               43532\n",
       "vehicles           3324\n",
       "bike, bicycles      610\n",
       "dtype: int64"
      ]
     },
     "execution_count": 19,
     "metadata": {},
     "output_type": "execute_result"
    }
   ],
   "source": [
    "# What types of events have been identified in the selected video?\n",
    "# What is the frequency of these events in the selected video?\n",
    "\n",
    "video_object.replace({\"object_type\" : object_type}, inplace=False).value_counts('object_type')"
   ]
  },
  {
   "cell_type": "code",
   "execution_count": 20,
   "id": "de5c4668",
   "metadata": {},
   "outputs": [
    {
     "data": {
      "text/plain": [
       "<BarContainer object of 4 artists>"
      ]
     },
     "execution_count": 20,
     "metadata": {},
     "output_type": "execute_result"
    },
    {
     "data": {
      "image/png": "[encoded data removed]",
      "text/plain": [
       "<Figure size 1000x300 with 1 Axes>"
      ]
     },
     "metadata": {},
     "output_type": "display_data"
    }
   ],
   "source": [
    "# What is the distribution of these events (which events occur most often in the selected video?)\n",
    "plt.figure(figsize=(10,3))\n",
    "plt.bar(x=video_object.value_counts('object_type').index, height=video_object.value_counts('object_type').values)\n"
   ]
  },
  {
   "cell_type": "code",
   "execution_count": 21,
   "id": "155c6960",
   "metadata": {},
   "outputs": [
    {
     "ename": "KeyError",
     "evalue": "'event_type'",
     "output_type": "error",
     "traceback": [
      "\u001b[0;31m---------------------------------------------------------------------------\u001b[0m",
      "\u001b[0;31mKeyError\u001b[0m                                  Traceback (most recent call last)",
      "File \u001b[0;32m~/anaconda3/envs/mle/lib/python3.9/site-packages/pandas/core/indexes/base.py:3802\u001b[0m, in \u001b[0;36mIndex.get_loc\u001b[0;34m(self, key, method, tolerance)\u001b[0m\n\u001b[1;32m   3801\u001b[0m \u001b[38;5;28;01mtry\u001b[39;00m:\n\u001b[0;32m-> 3802\u001b[0m     \u001b[38;5;28;01mreturn\u001b[39;00m \u001b[38;5;28;43mself\u001b[39;49m\u001b[38;5;241;43m.\u001b[39;49m\u001b[43m_engine\u001b[49m\u001b[38;5;241;43m.\u001b[39;49m\u001b[43mget_loc\u001b[49m\u001b[43m(\u001b[49m\u001b[43mcasted_key\u001b[49m\u001b[43m)\u001b[49m\n\u001b[1;32m   3803\u001b[0m \u001b[38;5;28;01mexcept\u001b[39;00m \u001b[38;5;167;01mKeyError\u001b[39;00m \u001b[38;5;28;01mas\u001b[39;00m err:\n",
      "File \u001b[0;32m~/anaconda3/envs/mle/lib/python3.9/site-packages/pandas/_libs/index.pyx:138\u001b[0m, in \u001b[0;36mpandas._libs.index.IndexEngine.get_loc\u001b[0;34m()\u001b[0m\n",
      "File \u001b[0;32m~/anaconda3/envs/mle/lib/python3.9/site-packages/pandas/_libs/index.pyx:165\u001b[0m, in \u001b[0;36mpandas._libs.index.IndexEngine.get_loc\u001b[0;34m()\u001b[0m\n",
      "File \u001b[0;32mpandas/_libs/hashtable_class_helper.pxi:5745\u001b[0m, in \u001b[0;36mpandas._libs.hashtable.PyObjectHashTable.get_item\u001b[0;34m()\u001b[0m\n",
      "File \u001b[0;32mpandas/_libs/hashtable_class_helper.pxi:5753\u001b[0m, in \u001b[0;36mpandas._libs.hashtable.PyObjectHashTable.get_item\u001b[0;34m()\u001b[0m\n",
      "\u001b[0;31mKeyError\u001b[0m: 'event_type'",
      "\nThe above exception was the direct cause of the following exception:\n",
      "\u001b[0;31mKeyError\u001b[0m                                  Traceback (most recent call last)",
      "Cell \u001b[0;32mIn[21], line 5\u001b[0m\n\u001b[1;32m      3\u001b[0m \u001b[38;5;28;01mfor\u001b[39;00m i \u001b[38;5;129;01min\u001b[39;00m \u001b[38;5;28mrange\u001b[39m(\u001b[38;5;28mlen\u001b[39m(video_object)):\n\u001b[1;32m      4\u001b[0m     current_object \u001b[38;5;241m=\u001b[39m video_object\u001b[38;5;241m.\u001b[39miloc[i]\n\u001b[0;32m----> 5\u001b[0m     objects_dict[current_object[\u001b[38;5;124m'\u001b[39m\u001b[38;5;124mobject_id\u001b[39m\u001b[38;5;124m'\u001b[39m]] \u001b[38;5;241m=\u001b[39m current_object[\u001b[38;5;124m'\u001b[39m\u001b[38;5;124mobject_duration\u001b[39m\u001b[38;5;124m'\u001b[39m], \u001b[43mcurrent_object\u001b[49m\u001b[43m[\u001b[49m\u001b[38;5;124;43m'\u001b[39;49m\u001b[38;5;124;43mevent_type\u001b[39;49m\u001b[38;5;124;43m'\u001b[39;49m\u001b[43m]\u001b[49m\n\u001b[1;32m      7\u001b[0m \u001b[38;5;28;01mfor\u001b[39;00m key \u001b[38;5;129;01min\u001b[39;00m events_dict:\n\u001b[1;32m      8\u001b[0m     event_duration \u001b[38;5;241m=\u001b[39m np\u001b[38;5;241m.\u001b[39marange(events_dict[key][\u001b[38;5;241m0\u001b[39m], events_dict[key][\u001b[38;5;241m1\u001b[39m])\n",
      "File \u001b[0;32m~/anaconda3/envs/mle/lib/python3.9/site-packages/pandas/core/series.py:981\u001b[0m, in \u001b[0;36mSeries.__getitem__\u001b[0;34m(self, key)\u001b[0m\n\u001b[1;32m    978\u001b[0m     \u001b[38;5;28;01mreturn\u001b[39;00m \u001b[38;5;28mself\u001b[39m\u001b[38;5;241m.\u001b[39m_values[key]\n\u001b[1;32m    980\u001b[0m \u001b[38;5;28;01melif\u001b[39;00m key_is_scalar:\n\u001b[0;32m--> 981\u001b[0m     \u001b[38;5;28;01mreturn\u001b[39;00m \u001b[38;5;28;43mself\u001b[39;49m\u001b[38;5;241;43m.\u001b[39;49m\u001b[43m_get_value\u001b[49m\u001b[43m(\u001b[49m\u001b[43mkey\u001b[49m\u001b[43m)\u001b[49m\n\u001b[1;32m    983\u001b[0m \u001b[38;5;28;01mif\u001b[39;00m is_hashable(key):\n\u001b[1;32m    984\u001b[0m     \u001b[38;5;66;03m# Otherwise index.get_value will raise InvalidIndexError\u001b[39;00m\n\u001b[1;32m    985\u001b[0m     \u001b[38;5;28;01mtry\u001b[39;00m:\n\u001b[1;32m    986\u001b[0m         \u001b[38;5;66;03m# For labels that don't resolve as scalars like tuples and frozensets\u001b[39;00m\n",
      "File \u001b[0;32m~/anaconda3/envs/mle/lib/python3.9/site-packages/pandas/core/series.py:1089\u001b[0m, in \u001b[0;36mSeries._get_value\u001b[0;34m(self, label, takeable)\u001b[0m\n\u001b[1;32m   1086\u001b[0m     \u001b[38;5;28;01mreturn\u001b[39;00m \u001b[38;5;28mself\u001b[39m\u001b[38;5;241m.\u001b[39m_values[label]\n\u001b[1;32m   1088\u001b[0m \u001b[38;5;66;03m# Similar to Index.get_value, but we do not fall back to positional\u001b[39;00m\n\u001b[0;32m-> 1089\u001b[0m loc \u001b[38;5;241m=\u001b[39m \u001b[38;5;28;43mself\u001b[39;49m\u001b[38;5;241;43m.\u001b[39;49m\u001b[43mindex\u001b[49m\u001b[38;5;241;43m.\u001b[39;49m\u001b[43mget_loc\u001b[49m\u001b[43m(\u001b[49m\u001b[43mlabel\u001b[49m\u001b[43m)\u001b[49m\n\u001b[1;32m   1090\u001b[0m \u001b[38;5;28;01mreturn\u001b[39;00m \u001b[38;5;28mself\u001b[39m\u001b[38;5;241m.\u001b[39mindex\u001b[38;5;241m.\u001b[39m_get_values_for_loc(\u001b[38;5;28mself\u001b[39m, loc, label)\n",
      "File \u001b[0;32m~/anaconda3/envs/mle/lib/python3.9/site-packages/pandas/core/indexes/base.py:3804\u001b[0m, in \u001b[0;36mIndex.get_loc\u001b[0;34m(self, key, method, tolerance)\u001b[0m\n\u001b[1;32m   3802\u001b[0m     \u001b[38;5;28;01mreturn\u001b[39;00m \u001b[38;5;28mself\u001b[39m\u001b[38;5;241m.\u001b[39m_engine\u001b[38;5;241m.\u001b[39mget_loc(casted_key)\n\u001b[1;32m   3803\u001b[0m \u001b[38;5;28;01mexcept\u001b[39;00m \u001b[38;5;167;01mKeyError\u001b[39;00m \u001b[38;5;28;01mas\u001b[39;00m err:\n\u001b[0;32m-> 3804\u001b[0m     \u001b[38;5;28;01mraise\u001b[39;00m \u001b[38;5;167;01mKeyError\u001b[39;00m(key) \u001b[38;5;28;01mfrom\u001b[39;00m \u001b[38;5;21;01merr\u001b[39;00m\n\u001b[1;32m   3805\u001b[0m \u001b[38;5;28;01mexcept\u001b[39;00m \u001b[38;5;167;01mTypeError\u001b[39;00m:\n\u001b[1;32m   3806\u001b[0m     \u001b[38;5;66;03m# If we have a listlike key, _check_indexing_error will raise\u001b[39;00m\n\u001b[1;32m   3807\u001b[0m     \u001b[38;5;66;03m#  InvalidIndexError. Otherwise we fall through and re-raise\u001b[39;00m\n\u001b[1;32m   3808\u001b[0m     \u001b[38;5;66;03m#  the TypeError.\u001b[39;00m\n\u001b[1;32m   3809\u001b[0m     \u001b[38;5;28mself\u001b[39m\u001b[38;5;241m.\u001b[39m_check_indexing_error(key)\n",
      "\u001b[0;31mKeyError\u001b[0m: 'event_type'"
     ]
    }
   ],
   "source": [
    "# At what frames do we see these events occur?\n",
    "objects_dict = {}\n",
    "for i in range(len(video_object)):\n",
    "    current_object = video_object.iloc[i]\n",
    "    objects_dict[current_object['object_id']] = current_object['object_duration'], current_object['event_type']\n",
    "\n",
    "for key in events_dict:\n",
    "    event_duration = np.arange(events_dict[key][0], events_dict[key][1])\n",
    "    current_key = [key for i in range(len(event_duration))]\n",
    "    plt.scatter(event_duration, current_key)"
   ]
  },
  {
   "cell_type": "code",
   "execution_count": null,
   "id": "fbd83a10",
   "metadata": {},
   "outputs": [],
   "source": []
  },
  {
   "cell_type": "code",
   "execution_count": null,
   "id": "2384a5e6",
   "metadata": {},
   "outputs": [],
   "source": []
  },
  {
   "cell_type": "code",
   "execution_count": null,
   "id": "291d3035",
   "metadata": {},
   "outputs": [],
   "source": []
  },
  {
   "cell_type": "code",
   "execution_count": null,
   "id": "78cc1715",
   "metadata": {},
   "outputs": [],
   "source": []
  },
  {
   "cell_type": "code",
   "execution_count": null,
   "id": "6db041cb",
   "metadata": {},
   "outputs": [],
   "source": []
  }
 ],
 "metadata": {
  "kernelspec": {
   "display_name": "Python 3 (ipykernel)",
   "language": "python",
   "name": "python3"
  },
  "language_info": {
   "codemirror_mode": {
    "name": "ipython",
    "version": 3
   },
   "file_extension": ".py",
   "mimetype": "text/x-python",
   "name": "python",
   "nbconvert_exporter": "python",
   "pygments_lexer": "ipython3",
   "version": "3.9.16"
  }
 },
 "nbformat": 4,
 "nbformat_minor": 5
}
