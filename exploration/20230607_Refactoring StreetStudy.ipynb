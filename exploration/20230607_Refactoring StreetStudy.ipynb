{
 "cells": [
  {
   "cell_type": "code",
   "execution_count": 1,
   "id": "4d072304",
   "metadata": {},
   "outputs": [],
   "source": [
    "import sys\n",
    "sys.path.append('../')"
   ]
  },
  {
   "cell_type": "code",
   "execution_count": 2,
   "id": "b665101e",
   "metadata": {},
   "outputs": [],
   "source": [
    "import cv2 as cv\n",
    "import torch\n",
    "import numpy as np\n",
    "from sort.sort import Sort\n",
    "import time\n",
    "import matplotlib.pyplot as plt"
   ]
  },
  {
   "cell_type": "code",
   "execution_count": 3,
   "id": "31713e2a",
   "metadata": {},
   "outputs": [],
   "source": [
    "from streetstudy.data import virat\n",
    "from streetstudy.common import display\n",
    "from streetstudy.common import evaluation\n",
    "from streetstudy.common import postprocess\n",
    "from streetstudy.common import utils\n",
    "from streetstudy.model import yolo"
   ]
  },
  {
   "cell_type": "code",
   "execution_count": 4,
   "id": "40846c04",
   "metadata": {},
   "outputs": [],
   "source": [
    "video_path = \"/mnt/d/data/virat/videos/VIRAT_S_000002.mp4\""
   ]
  },
  {
   "cell_type": "markdown",
   "id": "3bd829af",
   "metadata": {
    "scrolled": true
   },
   "source": [
    "tick = time.time()\n",
    "\n",
    "video_dict = utils.get_video_metadata(video_path)\n",
    "model = yolo.YoloModel(conf=0.2)\n",
    "frame_iterator = iter(utils.frame_generator(path=video_dict['path']))\n",
    "\n",
    "for frame_number in range(video_dict['length']):\n",
    "    frame = next(frame_iterator)\n",
    "    model.predict(frame, frame_number)\n",
    "        \n",
    "tock = time.time()\n",
    "print(f\"{tock - tick:.4f} seconds\")"
   ]
  },
  {
   "cell_type": "markdown",
   "id": "54df1083",
   "metadata": {},
   "source": [
    "preds = model.predictions\n",
    "print(preds)"
   ]
  },
  {
   "cell_type": "markdown",
   "id": "c1b52b76",
   "metadata": {},
   "source": [
    "%matplotlib inline\n",
    "\n",
    "def plot_analysis(video_width, video_height, preds, frame, frame_number):\n",
    "    fig, axs = plt.subplots(2,2, layout=\"constrained\", figsize=(10,5))\n",
    "\n",
    "    for row in range(2):\n",
    "        for col in range(2):\n",
    "            axs[row, col].set(xlim=(0, video_width), ylim=(video_height, 0))    \n",
    "            axs[row, col].set_axis_off()\n",
    "            axs[row, col].set_facecolor(\"b\")\n",
    "\n",
    "    postprocess.heatmap(axs[0,0], preds, frame_number)\n",
    "    postprocess.bounding_boxes(axs[0,1], preds, frame_number)\n",
    "    postprocess.directional_arrows(axs[1,0], preds, frame_number)\n",
    "\n",
    "    axs[0,0].imshow(cv.cvtColor(frame, cv.COLOR_BGR2RGB))\n",
    "    axs[0,1].imshow(cv.cvtColor(frame, cv.COLOR_BGR2RGB))\n",
    "    axs[1,0].imshow(cv.cvtColor(frame, cv.COLOR_BGR2RGB))\n",
    "    \n",
    "    fig.show()\n",
    "\n",
    "plot_analysis(video_dict['width'], video_dict['height'], preds, frame, frame_number)"
   ]
  },
  {
   "cell_type": "markdown",
   "id": "7b30f41a",
   "metadata": {},
   "source": [
    "# Number of unique people in video\n",
    "unique_objs = np.unique((preds[:, 5]))\n",
    "num_unique = len(unique_objs)\n",
    "print(num_unique)"
   ]
  },
  {
   "cell_type": "markdown",
   "id": "d74b0598",
   "metadata": {},
   "source": [
    "## Dwell Times Through Binary Classification"
   ]
  },
  {
   "cell_type": "code",
   "execution_count": 5,
   "id": "8042c211",
   "metadata": {},
   "outputs": [
    {
     "data": {
      "text/plain": [
       "'/mnt/d/data/virat/videos/VIRAT_S_000002.mp4'"
      ]
     },
     "execution_count": 5,
     "metadata": {},
     "output_type": "execute_result"
    }
   ],
   "source": [
    "video_path"
   ]
  },
  {
   "cell_type": "code",
   "execution_count": 10,
   "id": "f809ddc6",
   "metadata": {},
   "outputs": [
    {
     "name": "stdout",
     "output_type": "stream",
     "text": [
      "Index(['current_frame', 'bbox_lefttop_x', 'bbox_lefttop_y',\n",
      "       'bbox_rightbottom_x', 'bbox_rightbottom_y', 'event_type', 'dwelling'],\n",
      "      dtype='object')\n"
     ]
    }
   ],
   "source": [
    "dwelling_events = [1,2,3,4,5,6,7,8]\n",
    "\n",
    "virat_df = virat.get_dataset_df()\n",
    "virat_anno_df = virat.get_annotations_df(video_path, type='events', object_id=True)\n",
    "virat_anno_df = virat_anno_df[['current_frame', 'bbox_lefttop_x', 'bbox_lefttop_y', 'bbox_rightbottom_x', 'bbox_rightbottom_y', 'event_type']]\n",
    "virat_anno_df['dwelling'] = 0\n",
    "print(virat_anno_df.columns)"
   ]
  },
  {
   "cell_type": "code",
   "execution_count": 11,
   "id": "87185202",
   "metadata": {},
   "outputs": [
    {
     "data": {
      "text/plain": [
       "array([6, 3, 4, 5, 2, 9])"
      ]
     },
     "execution_count": 11,
     "metadata": {},
     "output_type": "execute_result"
    }
   ],
   "source": [
    "virat_anno_df['event_type'].unique()"
   ]
  },
  {
   "cell_type": "code",
   "execution_count": 12,
   "id": "d119ca05",
   "metadata": {},
   "outputs": [],
   "source": [
    "for _, row in virat_anno_df.iterrows():\n",
    "    if row['event_type'] in dwelling_events:\n",
    "        row['dwelling'] = 1\n",
    "    else:\n",
    "        row['dwelling'] = 0"
   ]
  },
  {
   "cell_type": "code",
   "execution_count": null,
   "id": "fed8a3bd",
   "metadata": {},
   "outputs": [],
   "source": []
  }
 ],
 "metadata": {
  "kernelspec": {
   "display_name": "Python 3 (ipykernel)",
   "language": "python",
   "name": "python3"
  },
  "language_info": {
   "codemirror_mode": {
    "name": "ipython",
    "version": 3
   },
   "file_extension": ".py",
   "mimetype": "text/x-python",
   "name": "python",
   "nbconvert_exporter": "python",
   "pygments_lexer": "ipython3",
   "version": "3.11.3"
  }
 },
 "nbformat": 4,
 "nbformat_minor": 5
}
