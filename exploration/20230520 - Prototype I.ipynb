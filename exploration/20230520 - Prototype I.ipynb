{
 "cells": [
  {
   "cell_type": "markdown",
   "id": "b90f713d",
   "metadata": {},
   "source": [
    "## Imports"
   ]
  },
  {
   "cell_type": "code",
   "execution_count": 1,
   "id": "651768e9",
   "metadata": {},
   "outputs": [],
   "source": [
    "import os\n",
    "import sys\n",
    "sys.path.append('/home/sardarchitect/repos/github.com/ucsd_capstone/')"
   ]
  },
  {
   "cell_type": "code",
   "execution_count": 2,
   "id": "dda286e5",
   "metadata": {},
   "outputs": [],
   "source": [
    "import numpy as np\n",
    "import pandas as pd\n",
    "import cv2 as cv\n",
    "import torch\n",
    "import matplotlib.pyplot as plt\n",
    "import seaborn as sns\n",
    "from tqdm import tqdm"
   ]
  },
  {
   "cell_type": "markdown",
   "id": "8c9b48d2",
   "metadata": {},
   "source": [
    "## Upload Video"
   ]
  },
  {
   "cell_type": "code",
   "execution_count": 3,
   "id": "4388e07a",
   "metadata": {},
   "outputs": [],
   "source": [
    "# Select uploaded file\n",
    "video_path = '/home/sardarchitect/repos/github.com/ucsd_capstone/virat/videos/VIRAT_S_010003_11_000956_000982.mp4'"
   ]
  },
  {
   "cell_type": "markdown",
   "id": "36aa2efa",
   "metadata": {},
   "source": [
    "## Preprocessing"
   ]
  },
  {
   "cell_type": "markdown",
   "id": "75839526",
   "metadata": {},
   "source": [
    "## Inference"
   ]
  },
  {
   "cell_type": "code",
   "execution_count": 4,
   "id": "7be49534",
   "metadata": {},
   "outputs": [
    {
     "name": "stderr",
     "output_type": "stream",
     "text": [
      "Using cache found in /home/sardarchitect/.cache/torch/hub/ultralytics_yolov5_master\n"
     ]
    },
    {
     "name": "stdout",
     "output_type": "stream",
     "text": [
      "\u001b[31m\u001b[1mrequirements:\u001b[0m /home/sardarchitect/.cache/torch/hub/requirements.txt not found, check failed.\n"
     ]
    },
    {
     "name": "stderr",
     "output_type": "stream",
     "text": [
      "YOLOv5 🚀 2023-4-30 Python-3.11.3 torch-2.0.0+cu117 CUDA:0 (NVIDIA GeForce GTX 1650, 4096MiB)\n",
      "\n",
      "Fusing layers... \n",
      "YOLOv5s summary: 213 layers, 7225885 parameters, 0 gradients\n",
      "Adding AutoShape... \n",
      "100%|█████████████████████████████████████████████████████████████████████████████████████████████████████████████████████████████████████████████████████████████████████████████████████████| 539/539 [00:09<00:00, 59.02it/s]\n"
     ]
    }
   ],
   "source": [
    "from streetstudy.model import yolo\n",
    "model = yolo.yolov5()\n",
    "predictions = yolo.predict(model, video_path)"
   ]
  },
  {
   "cell_type": "code",
   "execution_count": 5,
   "id": "36cad440",
   "metadata": {},
   "outputs": [
    {
     "data": {
      "text/plain": [
       "torch.Size([467, 7])"
      ]
     },
     "execution_count": 5,
     "metadata": {},
     "output_type": "execute_result"
    }
   ],
   "source": [
    "predictions.shape"
   ]
  },
  {
   "cell_type": "markdown",
   "id": "f9401291",
   "metadata": {},
   "source": [
    "## Post-processing"
   ]
  },
  {
   "cell_type": "code",
   "execution_count": 6,
   "id": "8a3249cc",
   "metadata": {
    "scrolled": true
   },
   "outputs": [
    {
     "data": {
      "image/png": "[encoded data removed]",
      "text/plain": [
       "<Figure size 432x288 with 1 Axes>"
      ]
     },
     "metadata": {
      "needs_background": "light"
     },
     "output_type": "display_data"
    }
   ],
   "source": [
    "from streetstudy.common import display\n",
    "%matplotlib inline\n",
    "\n",
    "x = (predictions[:, 1] + (predictions[:, 3] / 2)).cpu().numpy()\n",
    "df = np.column_stack((x,(predictions[:, 2] + (predictions[:, 4])).cpu().numpy()))\n",
    "\n",
    "df = pd.DataFrame(df, columns=['x', 'y'])\n",
    "display.display_heatmap(df)"
   ]
  },
  {
   "cell_type": "markdown",
   "id": "79acfc1e",
   "metadata": {},
   "source": [
    "## Conclusion"
   ]
  },
  {
   "cell_type": "code",
   "execution_count": null,
   "id": "bf53d1c3",
   "metadata": {},
   "outputs": [],
   "source": []
  }
 ],
 "metadata": {
  "kernelspec": {
   "display_name": "Python 3 (ipykernel)",
   "language": "python",
   "name": "python3"
  },
  "language_info": {
   "codemirror_mode": {
    "name": "ipython",
    "version": 3
   },
   "file_extension": ".py",
   "mimetype": "text/x-python",
   "name": "python",
   "nbconvert_exporter": "python",
   "pygments_lexer": "ipython3",
   "version": "3.11.3"
  }
 },
 "nbformat": 4,
 "nbformat_minor": 5
}
