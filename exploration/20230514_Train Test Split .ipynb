{
 "cells": [
  {
   "cell_type": "code",
   "execution_count": 1,
   "id": "c120b108",
   "metadata": {},
   "outputs": [],
   "source": [
    "import os\n",
    "from sklearn.model_selection import train_test_split\n",
    "import shutil"
   ]
  },
  {
   "cell_type": "code",
   "execution_count": 2,
   "id": "c5f336dd",
   "metadata": {},
   "outputs": [],
   "source": [
    "images = [os.path.join('/home/sardarchitect/repos/github.com/ucsd_capstone/virat/yolo_sample/images/', x) for x in os.listdir('/home/sardarchitect/repos/github.com/ucsd_capstone/virat/yolo_sample/images/')]\n",
    "annotations = [os.path.join('/home/sardarchitect/repos/github.com/ucsd_capstone/virat/yolo_sample/labels/', x) for x in os.listdir('/home/sardarchitect/repos/github.com/ucsd_capstone/virat/yolo_sample/labels/')]"
   ]
  },
  {
   "cell_type": "code",
   "execution_count": 3,
   "id": "e037e45f",
   "metadata": {},
   "outputs": [],
   "source": [
    "images.sort()\n",
    "annotations.sort()"
   ]
  },
  {
   "cell_type": "code",
   "execution_count": 4,
   "id": "d5d72586",
   "metadata": {},
   "outputs": [],
   "source": [
    "train_images, val_images, train_annotations, val_annotations = train_test_split(images, annotations, test_size = 0.2, random_state = 1)\n",
    "val_images, test_images, val_annotations, test_annotations = train_test_split(val_images, val_annotations, test_size = 0.5, random_state = 1)\n"
   ]
  },
  {
   "cell_type": "code",
   "execution_count": 5,
   "id": "385a49ff",
   "metadata": {},
   "outputs": [
    {
     "name": "stdout",
     "output_type": "stream",
     "text": [
      "584\n",
      "584\n",
      "73\n",
      "73\n",
      "73\n",
      "73\n"
     ]
    }
   ],
   "source": [
    "print(len(train_images))\n",
    "print(len(train_annotations))\n",
    "\n",
    "print(len(val_images))\n",
    "print(len(val_annotations))\n",
    "\n",
    "print(len(test_images))\n",
    "print(len(test_annotations))"
   ]
  },
  {
   "cell_type": "code",
   "execution_count": 6,
   "id": "24c79838",
   "metadata": {},
   "outputs": [],
   "source": [
    "def move_files_to_folder(list_of_files, destination_folder):\n",
    "    for f in list_of_files:\n",
    "        try:\n",
    "            shutil.move(f, destination_folder)\n",
    "        except:\n",
    "            print(f)\n",
    "            assert False"
   ]
  },
  {
   "cell_type": "code",
   "execution_count": 9,
   "id": "efd497e9",
   "metadata": {},
   "outputs": [],
   "source": [
    "move_files_to_folder(train_images, '/home/sardarchitect/repos/github.com/ucsd_capstone/virat/yolo_sample/images/train/')\n",
    "move_files_to_folder(val_images, '/home/sardarchitect/repos/github.com/ucsd_capstone/virat/yolo_sample/images/val/')\n",
    "move_files_to_folder(test_images, '/home/sardarchitect/repos/github.com/ucsd_capstone/virat/yolo_sample/images/test/')\n",
    "move_files_to_folder(train_annotations, '/home/sardarchitect/repos/github.com/ucsd_capstone/virat/yolo_sample/labels/train/')\n",
    "move_files_to_folder(val_annotations, '/home/sardarchitect/repos/github.com/ucsd_capstone/virat/yolo_sample/labels/val/')\n",
    "move_files_to_folder(test_annotations, '/home/sardarchitect/repos/github.com/ucsd_capstone/virat/yolo_sample/labels/test/')"
   ]
  },
  {
   "cell_type": "code",
   "execution_count": null,
   "id": "59edd622",
   "metadata": {},
   "outputs": [],
   "source": []
  }
 ],
 "metadata": {
  "kernelspec": {
   "display_name": "Python 3 (ipykernel)",
   "language": "python",
   "name": "python3"
  },
  "language_info": {
   "codemirror_mode": {
    "name": "ipython",
    "version": 3
   },
   "file_extension": ".py",
   "mimetype": "text/x-python",
   "name": "python",
   "nbconvert_exporter": "python",
   "pygments_lexer": "ipython3",
   "version": "3.11.3"
  }
 },
 "nbformat": 4,
 "nbformat_minor": 5
}
