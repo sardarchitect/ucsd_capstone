{
 "cells": [
  {
   "cell_type": "code",
   "execution_count": 1,
   "id": "eeb367b9",
   "metadata": {},
   "outputs": [],
   "source": [
    "import sys\n",
    "sys.path.append(\"/mnt/d/repos/github.com/ucsd_capstone/\")\n",
    "from pedtracker import utils"
   ]
  },
  {
   "cell_type": "code",
   "execution_count": 2,
   "id": "31f9bc8a",
   "metadata": {},
   "outputs": [],
   "source": [
    "import pandas as pd\n",
    "import numpy as np\n",
    "import os\n",
    "import matplotlib.pyplot as plt\n",
    "import cv2 as cv\n",
    "import json"
   ]
  },
  {
   "cell_type": "markdown",
   "id": "942624fb",
   "metadata": {},
   "source": [
    "# VIRAT Dataset ---------------------------------------------------------------------------\n",
    "The VIRAT (Video and Image Retrieval and Analysis Tool) dataset is a publicly available video surveillance dataset for research and development purposes. It was funded by the Defense Advanced Research Projects Agency (DARPA), and it is widely used in the computer vision and machine learning communities for a variety of tasks, such as video surveillance, object detection, tracking, action recognition, and event recognition.\n",
    "\n",
    "The VIRAT dataset contains realistic video clips captured from multiple cameras in various indoor and outdoor environments, depicting different scenarios, such as crowded scenes, interactions between people and vehicles, and complex activities. The dataset includes over 300 video clips with a total duration of more than 8.5 hours, and it covers a wide range of activities, including normal activities, anomalous events, and various challenges, such as occlusions, lighting changes, and camera motion.\n",
    "\n",
    "The VIRAT dataset is annotated with ground truth labels, including object bounding boxes, object categories, object attributes, activity labels, and event annotations, making it suitable for training and evaluating computer vision algorithms.\n",
    "\n",
    "> The VIRAT Video Dataset is designed to be realistic, natural and challenging for video surveillance domains in terms of its resolution, background clutter, diversity in scenes, and human activity/event categories than existing action recognition datasets. It has become a benchmark dataset for the computer vision community.\n",
    ">\n",
    "> More info can be found [here](https://viratdata.org/)\n",
    "\n",
    "\n",
    "### Dataset Attributes\n",
    "- Realism and natural scenes\n",
    "\t- Uncontrolled\n",
    "\t- Cluttered backgrounds\n",
    "\t- Minimized actors\n",
    "\t- People performing normal actions in standard contexts\n",
    "- Diversity:\n",
    "\t- Collected in the US\n",
    "- Quantity\n",
    "\t- Release 2.0 includes videos recorded from 11 scenes captured by HD cameras\n",
    "\t- 30 per action class examples\n",
    "- Wide range of resolution and frame rates (Spatial and temporal)\n",
    "\t- 2 - 30 Hz frame rates\n",
    "\t- 10-200 pixels per person\n",
    "\t- HD and downsampled data available\n",
    "- Ground and Aerial videos available\n",
    "- Categories:\n",
    "\t- Single-object\n",
    "\t- Two-objects\n",
    "\t- Around 12 categories per scene\n",
    "- Additional annotated videos in MEVA dataset\n",
    "\n",
    "### Dataset Format\n",
    "- Scene Directory Format: VIRAT_S_XXYYZZ\n",
    "- Filename Format: VIRAT_S_XXYYZZ_KK_SSSSSS_TTTTTT.mp4\n",
    "\t- XX: collection group ID \n",
    "\t- YY: scene ID  \n",
    "\t- ZZ: sequence ID  \n",
    "\t- KK: segment ID (within sequence)  \n",
    "\t- SSSSSS: starting seconds in %06d format. E.g., 1 min 2 sec is 000062.  \n",
    "\t- TTTTTT: ending seconds in %06d format.\n",
    "- Vehicle categories:\n",
    "\t- Car\n",
    "\t- Bike\n",
    "\t- Vehicle\n",
    "\n",
    "## Pedestrian Behaviors Covered by VIRAT\n",
    "\n",
    "| Event | Description | Annotation | Start | End |\n",
    "|:----- |:----------- |:---------- |:----- |:--- |\n",
    "| Person loading an Object to a Vehicle | An object moving from a person to a vehicle. The act of 'carrying' should not be included in this event. |  'Person', 'Object' (optional), and 'Vehicle' should be annotated. | The event begins immediately when the cargo to be loaded is “extended” toward the vehicle (i.e., before one's posture changes from one of 'carrying', to one of 'loading.'). | The event ends after the cargo is placed in the vehicle and person-cargo contact is lost. In the event of an occlusion, it ends when the loss of contact is visible.\n",
    "| Person Unloading an Object from a Vehicle | An object moving from a vehicle to a person. | Annotation: 'Person', 'Object' (optional), and 'Vehicle' should be annotated.| The event begins immediately when the cargo begins to move. If the start of the event is occluded, it begins when the cargo movement is first visible. | The event ends after the cargo is released. If a person, while holding the cargo, begins to walk away from the vehicle, the event ends (at which time the person is 'carrying'). The event also ends if the vehicle drives away while the person is still in contact with the cargo; after the vehicle has been in motion for more than 2 seconds, the person is 'carrying'.\n",
    "| Person Opening a Vehicle Trunk | A person opening a trunk. A trunk is defined as a container specifically designed to store nonhuman cargo on a vehicle. A trunk need not have a lid (i.e., the back of a pickup truck is a trunk), and it need not open from above (i.e., the back of a van, which opens via double doors, is also a trunk). | 'Person', and 'Vehicle' should be annotated with bounding boxes for as many frames as possible during the event duration. The bbox annotation of 'Trunk' is optional.| The event begins when the trunk starts to move. | The event ends after the trunk has stopped moving.\n",
    "| Person Closing a Vehicle Trunk | A person closing a trunk. | 'Person', and 'Vehicle' should be annotated with bounding boxes for as many frames as possible during the event duration. The bbox annotation of 'Trunk' is optional. | The event begins when the trunk starts to move. | The event ends after the trunk has stopped moving. |\n",
    "| Person getting into a Vehicle | A person getting into, or mounting (e.g., a motorcycle), a vehicle. | 'Person', and 'Vehicle' should be annotated.| The event begins when the vehicle's door moves, or, if there is no door, 2s before ½ of the person's body is inside the vehicle. | The event ends when the person is in the vehicle. If the vehicle has a door, the event ends after the door is shut. If not, it ends when the person is in the seated position, or has been inside the vehicle for 2 seconds (whichever comes first). |\n",
    "| Person getting out of a Vehicle | A person getting out of, or dismounting, a vehicle.| 'Person', and 'Vehicle' should be annotated.| The event begins when the vehicle's door moves. If the vehicle does not have a door, it begins 2 s before ½ of the person's body is outside the vehicle. | The event ends when standing, walking, or running begins.\n",
    "| Person gesturing | A person gesturing. Gesturing is defined as a movement, usually of the body or limbs, which expresses or emphasizes an idea, sentiment, or attitude. Examples of gesturing include pointing, waving, and sign language.| 'Person' should be annotated. | The event begins when the gesture is evident. For example, when waving, the gesture when the waver begins to raise their arm into the “waving position.” | The event ends when the motion ends |\n",
    "| Person digging (Note: not existing in Release 2.0) | A person digging. Digging may or may not involve the use of a tool (i.e., digging with one's hands is still considered 'digging'; hands are the tool).| 'Person' should be annotated.| The event begins when the tool makes contact with the ground. | The event ends 5 s after the tool has been removed from the ground, or immediately if the digging tool is dropped.| \n",
    "| Person Carrying an Object | A person carrying an object. The object may be carried in either hand, with both hands, or on one's back. Object annotation by bboxes are optional and subject to the difficulty.| 'Person', and 'Object' (optional) are annotated. |  The event begins when the person who will carry the object, makes contact with the object. If someone is carrying an object that is initially occluded, the event begins when the object is visible. |  The event ends when the person is no longer supporting the object against gravity, and contact with the object is broken. In the event of an occlusion, it ends when the loss of contact is visible. |\n",
    "| Person running | A person running for more than 2s. | 'Person' should be annotated.| When a person is visibly running. |  The event will end 2 s after the person is no longer running. If transitioning to Standing, Walking or Sitting the event will end after after Standing, Walking or Sitting. |\n",
    "| Person entering a facility | A person entering a facility |  'Person' should be annotated.| The event begins 2 s before that person crosses the facility‘s threshold. | The event ends after the person has completely disappeared from view. |\n",
    "| Person exiting a facility | A person exiting a facility |  'Person' should be annotated.| The event begins as soon as the person is visible. | The event ends 2 seconds after the person is completely out of the facility| \n",
    "\n",
    "\n",
    "## Citation\n",
    "A Large-scale Benchmark Dataset for Event Recognition in Surveillance Video\" by Sangmin Oh, Anthony Hoogs, Amitha Perera, Naresh Cuntoor, Chia-Chih Chen, Jong Taek Lee, Saurajit Mukherjee, J.K. Aggarwal, Hyungtae Lee, Larry Davis, Eran Swears, Xiaoyang Wang, Qiang Ji, Kishore Reddy, Mubarak Shah, Carl Vondrick, Hamed Pirsiavash, Deva Ramanan, Jenny Yuen, Antonio Torralba, Bi Song, Anesco Fong, Amit Roy-Chowdhury, and Mita Desai, in Proceedings of IEEE Comptuer Vision and Pattern Recognition (CVPR), 2011."
   ]
  },
  {
   "cell_type": "markdown",
   "id": "e70aedb5",
   "metadata": {},
   "source": [
    "# Import Dataset "
   ]
  },
  {
   "cell_type": "code",
   "execution_count": 3,
   "id": "d45fc3eb",
   "metadata": {},
   "outputs": [],
   "source": [
    "data_dir = '/mnt/d/data/virat/'\n",
    "annotation_dir = data_dir + 'annotations_original/'\n",
    "video_dir = data_dir + 'videos/'\n",
    "annotation_cols_dir = '/mnt/d/repos/github.com/ucsd_capstone/pedtracker/virat/'"
   ]
  },
  {
   "cell_type": "markdown",
   "id": "ed0f6542",
   "metadata": {},
   "source": [
    "# Videos ---------------------------------------------------------------------------"
   ]
  },
  {
   "cell_type": "markdown",
   "id": "b644046a",
   "metadata": {},
   "source": [
    "# VIRAT Dataset Exploration\n",
    "### Questions about the Videos: \n",
    "- [x] Summary Statistics\n",
    "    - [x] How many videos are there?\n",
    "    - [x] Average number of number of frames\n",
    "    - [x] Distribution of number of frames\n",
    "- [x] Spatio-Temporal Properties\n",
    "    - [x] What is the temporal and spatial coverage of the data? \n",
    "    - [x] Does the dataset cover a specific time period or multiple time periods? \n",
    "- [ ] Limitations\n",
    "    - [ ] What are the limitations of the dataset? \n",
    "    - [ ] Are there any limitations or biases in the data that need to be considered? For example, is the dataset collected from a specific location or population, and may not be representative of broader populations or contexts?\n",
    "    - [ ] Are there occlusions, lighting changes, camera motion, or other factors that may impact the accuracy or robustness of computer vision algorithms?\n"
   ]
  },
  {
   "cell_type": "code",
   "execution_count": 4,
   "id": "a47a1f5b",
   "metadata": {},
   "outputs": [
    {
     "data": {
      "text/html": [
       "<div>\n",
       "<style scoped>\n",
       "    .dataframe tbody tr th:only-of-type {\n",
       "        vertical-align: middle;\n",
       "    }\n",
       "\n",
       "    .dataframe tbody tr th {\n",
       "        vertical-align: top;\n",
       "    }\n",
       "\n",
       "    .dataframe thead th {\n",
       "        text-align: right;\n",
       "    }\n",
       "</style>\n",
       "<table border=\"1\" class=\"dataframe\">\n",
       "  <thead>\n",
       "    <tr style=\"text-align: right;\">\n",
       "      <th></th>\n",
       "      <th>path</th>\n",
       "      <th>num_frames</th>\n",
       "      <th>duration</th>\n",
       "    </tr>\n",
       "    <tr>\n",
       "      <th>name</th>\n",
       "      <th></th>\n",
       "      <th></th>\n",
       "      <th></th>\n",
       "    </tr>\n",
       "  </thead>\n",
       "  <tbody>\n",
       "    <tr>\n",
       "      <th>VIRAT_S_000001</th>\n",
       "      <td>/mnt/d/data/virat/videos/VIRAT_S_000001.mp4</td>\n",
       "      <td>20655</td>\n",
       "      <td>689</td>\n",
       "    </tr>\n",
       "    <tr>\n",
       "      <th>VIRAT_S_000002</th>\n",
       "      <td>/mnt/d/data/virat/videos/VIRAT_S_000002.mp4</td>\n",
       "      <td>9075</td>\n",
       "      <td>302</td>\n",
       "    </tr>\n",
       "    <tr>\n",
       "      <th>VIRAT_S_000003</th>\n",
       "      <td>/mnt/d/data/virat/videos/VIRAT_S_000003.mp4</td>\n",
       "      <td>20940</td>\n",
       "      <td>698</td>\n",
       "    </tr>\n",
       "    <tr>\n",
       "      <th>VIRAT_S_000004</th>\n",
       "      <td>/mnt/d/data/virat/videos/VIRAT_S_000004.mp4</td>\n",
       "      <td>17640</td>\n",
       "      <td>588</td>\n",
       "    </tr>\n",
       "    <tr>\n",
       "      <th>VIRAT_S_000006</th>\n",
       "      <td>/mnt/d/data/virat/videos/VIRAT_S_000006.mp4</td>\n",
       "      <td>17805</td>\n",
       "      <td>594</td>\n",
       "    </tr>\n",
       "  </tbody>\n",
       "</table>\n",
       "</div>"
      ],
      "text/plain": [
       "                                                       path  num_frames  \\\n",
       "name                                                                      \n",
       "VIRAT_S_000001  /mnt/d/data/virat/videos/VIRAT_S_000001.mp4       20655   \n",
       "VIRAT_S_000002  /mnt/d/data/virat/videos/VIRAT_S_000002.mp4        9075   \n",
       "VIRAT_S_000003  /mnt/d/data/virat/videos/VIRAT_S_000003.mp4       20940   \n",
       "VIRAT_S_000004  /mnt/d/data/virat/videos/VIRAT_S_000004.mp4       17640   \n",
       "VIRAT_S_000006  /mnt/d/data/virat/videos/VIRAT_S_000006.mp4       17805   \n",
       "\n",
       "                duration  \n",
       "name                      \n",
       "VIRAT_S_000001       689  \n",
       "VIRAT_S_000002       302  \n",
       "VIRAT_S_000003       698  \n",
       "VIRAT_S_000004       588  \n",
       "VIRAT_S_000006       594  "
      ]
     },
     "execution_count": 4,
     "metadata": {},
     "output_type": "execute_result"
    }
   ],
   "source": [
    "videos = []\n",
    "for i, video in enumerate(os.listdir(video_dir)):\n",
    "    video_path = video_dir + video\n",
    "    capture = cv.VideoCapture(video_path)\n",
    "    fps = capture.get(cv.CAP_PROP_FPS)\n",
    "    num_frames = int(capture.get(cv.CAP_PROP_FRAME_COUNT))\n",
    "    duration = int(num_frames/fps)\n",
    "    videos.append([video.removesuffix('.mp4'), video_path, num_frames, duration])\n",
    "    capture.release()\n",
    "\n",
    "videos_df = pd.DataFrame(videos, columns=['name', 'path', 'num_frames', 'duration'])\n",
    "videos_df.set_index('name', inplace=True)\n",
    "videos_df.head()"
   ]
  },
  {
   "cell_type": "markdown",
   "id": "b9e89100",
   "metadata": {},
   "source": [
    "## Summary Statistics"
   ]
  },
  {
   "cell_type": "code",
   "execution_count": 5,
   "id": "8a805880",
   "metadata": {},
   "outputs": [
    {
     "data": {
      "text/html": [
       "<div>\n",
       "<style scoped>\n",
       "    .dataframe tbody tr th:only-of-type {\n",
       "        vertical-align: middle;\n",
       "    }\n",
       "\n",
       "    .dataframe tbody tr th {\n",
       "        vertical-align: top;\n",
       "    }\n",
       "\n",
       "    .dataframe thead th {\n",
       "        text-align: right;\n",
       "    }\n",
       "</style>\n",
       "<table border=\"1\" class=\"dataframe\">\n",
       "  <thead>\n",
       "    <tr style=\"text-align: right;\">\n",
       "      <th></th>\n",
       "      <th>num_frames</th>\n",
       "      <th>duration</th>\n",
       "    </tr>\n",
       "  </thead>\n",
       "  <tbody>\n",
       "    <tr>\n",
       "      <th>count</th>\n",
       "      <td>329.000000</td>\n",
       "      <td>329.000000</td>\n",
       "    </tr>\n",
       "    <tr>\n",
       "      <th>mean</th>\n",
       "      <td>2653.258359</td>\n",
       "      <td>93.662614</td>\n",
       "    </tr>\n",
       "    <tr>\n",
       "      <th>std</th>\n",
       "      <td>3788.204434</td>\n",
       "      <td>125.619994</td>\n",
       "    </tr>\n",
       "    <tr>\n",
       "      <th>min</th>\n",
       "      <td>318.000000</td>\n",
       "      <td>13.000000</td>\n",
       "    </tr>\n",
       "    <tr>\n",
       "      <th>25%</th>\n",
       "      <td>834.000000</td>\n",
       "      <td>32.000000</td>\n",
       "    </tr>\n",
       "    <tr>\n",
       "      <th>50%</th>\n",
       "      <td>1607.000000</td>\n",
       "      <td>59.000000</td>\n",
       "    </tr>\n",
       "    <tr>\n",
       "      <th>75%</th>\n",
       "      <td>2691.000000</td>\n",
       "      <td>104.000000</td>\n",
       "    </tr>\n",
       "    <tr>\n",
       "      <th>max</th>\n",
       "      <td>29580.000000</td>\n",
       "      <td>986.000000</td>\n",
       "    </tr>\n",
       "  </tbody>\n",
       "</table>\n",
       "</div>"
      ],
      "text/plain": [
       "         num_frames    duration\n",
       "count    329.000000  329.000000\n",
       "mean    2653.258359   93.662614\n",
       "std     3788.204434  125.619994\n",
       "min      318.000000   13.000000\n",
       "25%      834.000000   32.000000\n",
       "50%     1607.000000   59.000000\n",
       "75%     2691.000000  104.000000\n",
       "max    29580.000000  986.000000"
      ]
     },
     "execution_count": 5,
     "metadata": {},
     "output_type": "execute_result"
    }
   ],
   "source": [
    "# How many videos are there?\n",
    "# Average number of number of frames\n",
    "videos_df.describe()"
   ]
  },
  {
   "cell_type": "code",
   "execution_count": 6,
   "id": "6a46e142",
   "metadata": {},
   "outputs": [
    {
     "name": "stdout",
     "output_type": "stream",
     "text": [
      "872922 frames\n",
      "8.56 hours of video\n"
     ]
    }
   ],
   "source": [
    "# Total number of frames in all videos\n",
    "print(videos_df['num_frames'].sum(), \"frames\")\n",
    "print(round(videos_df['duration'].sum() / 60 / 60, 2), \"hours of video\")"
   ]
  },
  {
   "cell_type": "code",
   "execution_count": 7,
   "id": "512560f0",
   "metadata": {},
   "outputs": [
    {
     "data": {
      "text/plain": [
       "[<matplotlib.lines.Line2D at 0x7f65cb0b3e80>]"
      ]
     },
     "execution_count": 7,
     "metadata": {},
     "output_type": "execute_result"
    },
    {
     "data": {
      "image/png": "[encoded data removed]",
      "text/plain": [
       "<Figure size 1200x500 with 1 Axes>"
      ]
     },
     "metadata": {},
     "output_type": "display_data"
    }
   ],
   "source": [
    "# Distribution of number of frames\n",
    "plt.figure(figsize=(12,5))\n",
    "videos_df_sorted = videos_df.sort_values(by='num_frames', ascending=False)\n",
    "plt.plot(np.arange(len(videos_df_sorted)), videos_df_sorted['num_frames'])"
   ]
  },
  {
   "cell_type": "markdown",
   "id": "47be6a02",
   "metadata": {},
   "source": [
    "## Spatio-Temporal Properties\n",
    "### What is the temporal and spatial coverage of the data?\n",
    "Data was collected at multiple sites distributed throughout the USA. A variety of camera viewpoints and resolutions were included, and actions are performed by many different people. Diverse types of human actions and human-vehicle interactions are included, with a large number of examples (>30) per action class. The dataset is designed to capture these ranges, with 2–30Hz frame rates and 10–200 pixels in person-height.\n",
    "\n",
    "### Does the dataset cover a specific time period or multiple time periods? \n",
    "Seems like the data covers daytime videos, mostly in \n",
    "\n",
    "## Limitations\n",
    "### What are the limitations of the dataset? \n",
    "\n",
    "### Are there any limitations or biases in the data that need to be considered? For example, is the dataset collected from a specific location or population, and may not be representative of broader populations or contexts?\n",
    "\n",
    "### Are there occlusions, lighting changes, camera motion, or other factors that may impact the accuracy or robustness of computer vision algorithms?"
   ]
  },
  {
   "cell_type": "markdown",
   "id": "f4176479",
   "metadata": {},
   "source": [
    "# Annotations ---------------------------------------------------------------------------"
   ]
  },
  {
   "cell_type": "markdown",
   "id": "ed46bda7",
   "metadata": {},
   "source": [
    "### Questions about the Annotations: \n",
    "- [ ] Outliers\n",
    "    - [ ] Are there any outliers\n",
    "    - [x] Are there any missing values?\n",
    "    - [x] Are there any data quality or integrity issues?\n",
    "- [ ] Summary and Descriptive Statistics\n",
    "    - [ ] What is the size and structure of the dataset? \n",
    "    - [ ] What are the key variables in the dataset?\n",
    "    - [ ] Mean, median, mode, standard deviation, and range for each variable?\n",
    "    - [ ] How many object types are there?\n",
    "    - [ ] How many objects are shown per video and what type?\n",
    "    - [ ] Visualize the distribution of \"people\" in each video\n",
    "    - [ ] Average size of people objects (calculate area of pixels)\n",
    "    - [ ] Unique people shown per video? Total number of unique people shown in all videos?\n",
    "- [ ] Correlations\n",
    "    - [ ] Are there any relationships or correlations between variables?\n",
    "- [ ] Limitations\n",
    "    - [ ] What are the limitations of the annotations? "
   ]
  },
  {
   "cell_type": "markdown",
   "id": "4b7d1e82",
   "metadata": {},
   "source": [
    "## Data Cleaning and Import"
   ]
  },
  {
   "cell_type": "code",
   "execution_count": 8,
   "id": "9df958b8",
   "metadata": {
    "scrolled": true
   },
   "outputs": [
    {
     "data": {
      "text/html": [
       "<div>\n",
       "<style scoped>\n",
       "    .dataframe tbody tr th:only-of-type {\n",
       "        vertical-align: middle;\n",
       "    }\n",
       "\n",
       "    .dataframe tbody tr th {\n",
       "        vertical-align: top;\n",
       "    }\n",
       "\n",
       "    .dataframe thead th {\n",
       "        text-align: right;\n",
       "    }\n",
       "</style>\n",
       "<table border=\"1\" class=\"dataframe\">\n",
       "  <thead>\n",
       "    <tr style=\"text-align: right;\">\n",
       "      <th></th>\n",
       "      <th>path</th>\n",
       "      <th>num_frames</th>\n",
       "      <th>duration</th>\n",
       "      <th>event_file</th>\n",
       "      <th>object_file</th>\n",
       "      <th>mapping_file</th>\n",
       "    </tr>\n",
       "    <tr>\n",
       "      <th>name</th>\n",
       "      <th></th>\n",
       "      <th></th>\n",
       "      <th></th>\n",
       "      <th></th>\n",
       "      <th></th>\n",
       "      <th></th>\n",
       "    </tr>\n",
       "  </thead>\n",
       "  <tbody>\n",
       "    <tr>\n",
       "      <th>VIRAT_S_000001</th>\n",
       "      <td>/mnt/d/data/virat/videos/VIRAT_S_000001.mp4</td>\n",
       "      <td>20655</td>\n",
       "      <td>689</td>\n",
       "      <td>VIRAT_S_000001.viratdata.events.txt</td>\n",
       "      <td>VIRAT_S_000001.viratdata.objects.txt</td>\n",
       "      <td>VIRAT_S_000001.viratdata.mapping.txt</td>\n",
       "    </tr>\n",
       "    <tr>\n",
       "      <th>VIRAT_S_000002</th>\n",
       "      <td>/mnt/d/data/virat/videos/VIRAT_S_000002.mp4</td>\n",
       "      <td>9075</td>\n",
       "      <td>302</td>\n",
       "      <td>VIRAT_S_000002.viratdata.events.txt</td>\n",
       "      <td>VIRAT_S_000002.viratdata.objects.txt</td>\n",
       "      <td>VIRAT_S_000002.viratdata.mapping.txt</td>\n",
       "    </tr>\n",
       "    <tr>\n",
       "      <th>VIRAT_S_000003</th>\n",
       "      <td>/mnt/d/data/virat/videos/VIRAT_S_000003.mp4</td>\n",
       "      <td>20940</td>\n",
       "      <td>698</td>\n",
       "      <td>VIRAT_S_000003.viratdata.events.txt</td>\n",
       "      <td>VIRAT_S_000003.viratdata.objects.txt</td>\n",
       "      <td>VIRAT_S_000003.viratdata.mapping.txt</td>\n",
       "    </tr>\n",
       "    <tr>\n",
       "      <th>VIRAT_S_000004</th>\n",
       "      <td>/mnt/d/data/virat/videos/VIRAT_S_000004.mp4</td>\n",
       "      <td>17640</td>\n",
       "      <td>588</td>\n",
       "      <td>VIRAT_S_000004.viratdata.events.txt</td>\n",
       "      <td>VIRAT_S_000004.viratdata.objects.txt</td>\n",
       "      <td>VIRAT_S_000004.viratdata.mapping.txt</td>\n",
       "    </tr>\n",
       "    <tr>\n",
       "      <th>VIRAT_S_000006</th>\n",
       "      <td>/mnt/d/data/virat/videos/VIRAT_S_000006.mp4</td>\n",
       "      <td>17805</td>\n",
       "      <td>594</td>\n",
       "      <td>VIRAT_S_000006.viratdata.events.txt</td>\n",
       "      <td>VIRAT_S_000006.viratdata.objects.txt</td>\n",
       "      <td>VIRAT_S_000006.viratdata.mapping.txt</td>\n",
       "    </tr>\n",
       "  </tbody>\n",
       "</table>\n",
       "</div>"
      ],
      "text/plain": [
       "                                                       path  num_frames  \\\n",
       "name                                                                      \n",
       "VIRAT_S_000001  /mnt/d/data/virat/videos/VIRAT_S_000001.mp4       20655   \n",
       "VIRAT_S_000002  /mnt/d/data/virat/videos/VIRAT_S_000002.mp4        9075   \n",
       "VIRAT_S_000003  /mnt/d/data/virat/videos/VIRAT_S_000003.mp4       20940   \n",
       "VIRAT_S_000004  /mnt/d/data/virat/videos/VIRAT_S_000004.mp4       17640   \n",
       "VIRAT_S_000006  /mnt/d/data/virat/videos/VIRAT_S_000006.mp4       17805   \n",
       "\n",
       "                duration                           event_file  \\\n",
       "name                                                            \n",
       "VIRAT_S_000001       689  VIRAT_S_000001.viratdata.events.txt   \n",
       "VIRAT_S_000002       302  VIRAT_S_000002.viratdata.events.txt   \n",
       "VIRAT_S_000003       698  VIRAT_S_000003.viratdata.events.txt   \n",
       "VIRAT_S_000004       588  VIRAT_S_000004.viratdata.events.txt   \n",
       "VIRAT_S_000006       594  VIRAT_S_000006.viratdata.events.txt   \n",
       "\n",
       "                                         object_file  \\\n",
       "name                                                   \n",
       "VIRAT_S_000001  VIRAT_S_000001.viratdata.objects.txt   \n",
       "VIRAT_S_000002  VIRAT_S_000002.viratdata.objects.txt   \n",
       "VIRAT_S_000003  VIRAT_S_000003.viratdata.objects.txt   \n",
       "VIRAT_S_000004  VIRAT_S_000004.viratdata.objects.txt   \n",
       "VIRAT_S_000006  VIRAT_S_000006.viratdata.objects.txt   \n",
       "\n",
       "                                        mapping_file  \n",
       "name                                                  \n",
       "VIRAT_S_000001  VIRAT_S_000001.viratdata.mapping.txt  \n",
       "VIRAT_S_000002  VIRAT_S_000002.viratdata.mapping.txt  \n",
       "VIRAT_S_000003  VIRAT_S_000003.viratdata.mapping.txt  \n",
       "VIRAT_S_000004  VIRAT_S_000004.viratdata.mapping.txt  \n",
       "VIRAT_S_000006  VIRAT_S_000006.viratdata.mapping.txt  "
      ]
     },
     "execution_count": 8,
     "metadata": {},
     "output_type": "execute_result"
    }
   ],
   "source": [
    "# Extend the video dataframe to relate the various annotation files to the videos\n",
    "videos_df['event_file'] = ''\n",
    "videos_df['object_file'] = ''\n",
    "videos_df['mapping_file'] = ''\n",
    "for index, row in videos_df.iterrows():\n",
    "    for file in os.listdir(annotation_dir):\n",
    "        if row.name in file and \"events\" in file:\n",
    "            videos_df.loc[index, 'event_file'] = file\n",
    "        if row.name in file and \"objects\" in file:\n",
    "            videos_df.loc[index, 'object_file'] = file\n",
    "        if row.name in file and \"mapping\" in file:\n",
    "            videos_df.loc[index, 'mapping_file'] = file\n",
    "\n",
    "videos_df.head()"
   ]
  },
  {
   "cell_type": "markdown",
   "id": "f361014f",
   "metadata": {},
   "source": [
    "Let's find all the videos we have that do NOT have a annotation file connected to it. These files should just be removed from our analysis and training. We may use them for inference, although not having any annotations makes it harder for us to quantify our model performance."
   ]
  },
  {
   "cell_type": "code",
   "execution_count": 9,
   "id": "897e3b39",
   "metadata": {},
   "outputs": [
    {
     "name": "stdout",
     "output_type": "stream",
     "text": [
      "54\n",
      "14\n",
      "54\n",
      "0\n",
      "0\n",
      "0\n"
     ]
    }
   ],
   "source": [
    "print(len(videos_df[videos_df['event_file']=='']))\n",
    "print(len(videos_df[videos_df['object_file']=='']))\n",
    "print(len(videos_df[videos_df['mapping_file']=='']))\n",
    "print(len(videos_df[videos_df['event_file'].isnull()]))\n",
    "print(len(videos_df[videos_df['object_file'].isnull()]))\n",
    "print(len(videos_df[videos_df['mapping_file'].isnull()]))"
   ]
  },
  {
   "cell_type": "markdown",
   "id": "36d2df55",
   "metadata": {},
   "source": [
    "Seems like we have around 54 videos that do not have an events file associated with it, but there are only 14 that do not have an objects file. For analysis purposes, we can remove all videos that do not have either an events file, or an objects file. We may be able to train on videos that only have an objects file since those videos at least contain the bounding boxes around our subjects, even though we may be missing the subject's \"actions\". "
   ]
  },
  {
   "cell_type": "code",
   "execution_count": 10,
   "id": "4776a4e9",
   "metadata": {},
   "outputs": [],
   "source": [
    "videos_df.drop(videos_df[videos_df['event_file']==''].index, inplace=True)\n",
    "videos_df.drop(videos_df[videos_df['object_file']==''].index, inplace=True)\n",
    "videos_df.drop(videos_df[videos_df['mapping_file']==''].index, inplace=True)"
   ]
  },
  {
   "cell_type": "markdown",
   "id": "42933521",
   "metadata": {},
   "source": [
    "We are left with 275 videos out of our original 329. That's around 83% of our original set. Now, let's check try opening each file and see if we find any other errors."
   ]
  },
  {
   "cell_type": "code",
   "execution_count": 11,
   "id": "a8541998",
   "metadata": {
    "scrolled": true
   },
   "outputs": [],
   "source": [
    "# Check to see integrity of all data\n",
    "videos_error_list = []\n",
    "for index, row in videos_df.iterrows():\n",
    "    video_event = annotation_dir + row['event_file']\n",
    "    video_object = annotation_dir + row['object_file']\n",
    "    video_mapping = annotation_dir + row['mapping_file']\n",
    "    \n",
    "    try:\n",
    "        video_event = pd.read_csv(video_event, delim_whitespace=True, header=None)\n",
    "    except:\n",
    "        print(\"events file for \", index, \" threw an exception\")\n",
    "        videos_error_list.append(index)\n",
    "    try:\n",
    "        video_object = pd.read_csv(video_object, delim_whitespace=True, header=None)\n",
    "    except:\n",
    "        print(\"objects file for \", index, \" threw an exception\")\n",
    "        videos_error_list.append(index)\n",
    "    try:\n",
    "        video_mapping = pd.read_csv(video_mapping, delim_whitespace=True, header=None)\n",
    "    except:\n",
    "        print(\"mapping file for \", index, \" threw an exception\")\n",
    "        videos_error_list.append(index)"
   ]
  },
  {
   "cell_type": "code",
   "execution_count": 12,
   "id": "ffd31896",
   "metadata": {
    "scrolled": true
   },
   "outputs": [
    {
     "data": {
      "text/plain": [
       "set()"
      ]
     },
     "execution_count": 12,
     "metadata": {},
     "output_type": "execute_result"
    }
   ],
   "source": [
    "videos_error_list = set(videos_error_list)\n",
    "videos_error_list"
   ]
  },
  {
   "cell_type": "markdown",
   "id": "4d0a7f07",
   "metadata": {},
   "source": [
    "Looks like there are around 4-5 videos out of our total 275 that have some sort of issue. Let's open up these object files and see what may be happening."
   ]
  },
  {
   "cell_type": "markdown",
   "id": "f29fc215",
   "metadata": {},
   "source": [
    "The annotation text files provided by VIRAT dataset seem to contain some encoding errors (see screenshot below). Some manual cleanup will help remove these discrepencies and help load in the data, albeit leaving us with some frames without labels (which is okay). Note: Make sure to archive or save the original, unmodified dataset so you have a backup copy. I have saved the original annotations in the \"annotations_original\" folder and have saved the modified annotations in the \"annotations\" folder."
   ]
  },
  {
   "cell_type": "code",
   "execution_count": 41,
   "id": "bc018b02",
   "metadata": {},
   "outputs": [],
   "source": [
    "annotation_dir = data_dir + 'annotations/'"
   ]
  },
  {
   "cell_type": "code",
   "execution_count": 42,
   "id": "f0a5e6d4",
   "metadata": {
    "scrolled": true
   },
   "outputs": [
    {
     "data": {
      "image/png": "[encoded data removed]",
      "text/plain": [
       "<IPython.core.display.Image object>"
      ]
     },
     "execution_count": 42,
     "metadata": {},
     "output_type": "execute_result"
    }
   ],
   "source": [
    "from IPython.display import Image\n",
    "Image(filename='../assets/virat_dataset_processing.png')"
   ]
  },
  {
   "cell_type": "markdown",
   "id": "5782dca9",
   "metadata": {},
   "source": [
    "After cleaning up the encoding errors on the 58 or so files, we can re-run our script above to make sure we do not get any encoding errors."
   ]
  },
  {
   "cell_type": "code",
   "execution_count": 43,
   "id": "a93829ae",
   "metadata": {},
   "outputs": [
    {
     "data": {
      "text/plain": [
       "0"
      ]
     },
     "execution_count": 43,
     "metadata": {},
     "output_type": "execute_result"
    }
   ],
   "source": [
    "# Check to see integrity of all data\n",
    "videos_error_list = []\n",
    "for index, row in videos_df.iterrows():\n",
    "    video_event = annotation_dir + row['event_file']\n",
    "    video_object = annotation_dir + row['object_file']\n",
    "    video_mapping = annotation_dir + row['mapping_file']\n",
    "    \n",
    "    try:\n",
    "        video_event = pd.read_csv(video_event, delim_whitespace=True, header=None)\n",
    "    except:\n",
    "        print(\"events file for \", index, \" threw an exception\")\n",
    "        videos_error_list.append(index)\n",
    "    try:\n",
    "        video_object = pd.read_csv(video_object, delim_whitespace=True, header=None)\n",
    "    except:\n",
    "        print(\"objects file for \", index, \" threw an exception\")\n",
    "        videos_error_list.append(index)\n",
    "    try:\n",
    "        video_mapping = pd.read_csv(video_mapping, delim_whitespace=True, header=None)\n",
    "    except:\n",
    "        print(\"mapping file for \", index, \" threw an exception\")\n",
    "        videos_error_list.append(index)\n",
    "videos_error_list = set(videos_error_list)\n",
    "len(videos_error_list)"
   ]
  },
  {
   "cell_type": "markdown",
   "id": "ac7db30f",
   "metadata": {},
   "source": [
    "Looks like we are all set"
   ]
  },
  {
   "cell_type": "markdown",
   "id": "76a80720",
   "metadata": {},
   "source": [
    "We will start by just analyzing a single video. This will help us understand the steps involved to create a data analysis pipeline for the entire data. Let's choose an arbitrary video VIRAT_S_000002"
   ]
  },
  {
   "cell_type": "code",
   "execution_count": 44,
   "id": "e0d74f43",
   "metadata": {},
   "outputs": [],
   "source": [
    "## Load data from single annotation files\n",
    "video = videos_df.iloc[0]\n",
    "video_event = pd.read_csv(annotation_dir + video['event_file'], delim_whitespace=True, header=None)\n",
    "video_object = pd.read_csv(annotation_dir + video['object_file'], delim_whitespace=True, header=None)\n",
    "video_mapping = pd.read_csv(annotation_dir + video['mapping_file'], delim_whitespace=True, header=None)"
   ]
  },
  {
   "cell_type": "code",
   "execution_count": 45,
   "id": "ef386ce0",
   "metadata": {},
   "outputs": [],
   "source": [
    "with open(annotation_cols_dir+'events.json') as json_file:\n",
    "    events = json.loads(json_file.read())\n",
    "with open(annotation_cols_dir+'events_type.json') as json_file:\n",
    "    events_type = json.loads(json_file.read())\n",
    "with open(annotation_cols_dir+'mapping.json') as json_file:\n",
    "    mapping = json.loads(json_file.read())\n",
    "with open(annotation_cols_dir+'objects.json') as json_file:\n",
    "    objects = json.loads(json_file.read())\n",
    "with open(annotation_cols_dir+'objects_type.json') as json_file:\n",
    "    objects_type = json.loads(json_file.read())\n",
    "    \n",
    "# To rename our Pandas columns, we need to convert the dictionary keys from String to Int\n",
    "def dict_key_string_to_int(dictionary):\n",
    "    dictionary= {int(k):v for k, v in dictionary.items()}\n",
    "    return dictionary\n",
    "\n",
    "events = dict_key_string_to_int(events)\n",
    "events_type = dict_key_string_to_int(events_type)\n",
    "mapping = dict_key_string_to_int(mapping)\n",
    "objects = dict_key_string_to_int(objects)\n",
    "objects_type = dict_key_string_to_int(objects_type)"
   ]
  },
  {
   "cell_type": "code",
   "execution_count": 47,
   "id": "1f9041d3",
   "metadata": {},
   "outputs": [
    {
     "name": "stdout",
     "output_type": "stream",
     "text": [
      "1633\n"
     ]
    },
    {
     "data": {
      "text/html": [
       "<div>\n",
       "<style scoped>\n",
       "    .dataframe tbody tr th:only-of-type {\n",
       "        vertical-align: middle;\n",
       "    }\n",
       "\n",
       "    .dataframe tbody tr th {\n",
       "        vertical-align: top;\n",
       "    }\n",
       "\n",
       "    .dataframe thead th {\n",
       "        text-align: right;\n",
       "    }\n",
       "</style>\n",
       "<table border=\"1\" class=\"dataframe\">\n",
       "  <thead>\n",
       "    <tr style=\"text-align: right;\">\n",
       "      <th></th>\n",
       "      <th>event_id</th>\n",
       "      <th>event_type</th>\n",
       "      <th>duration</th>\n",
       "      <th>start_frame</th>\n",
       "      <th>end_frame</th>\n",
       "      <th>current_frame</th>\n",
       "      <th>bbox_lefttop_x</th>\n",
       "      <th>bbox_lefttop_y</th>\n",
       "      <th>bbox_width</th>\n",
       "      <th>bbox_height</th>\n",
       "    </tr>\n",
       "  </thead>\n",
       "  <tbody>\n",
       "    <tr>\n",
       "      <th>0</th>\n",
       "      <td>0</td>\n",
       "      <td>1</td>\n",
       "      <td>59</td>\n",
       "      <td>3676</td>\n",
       "      <td>3734</td>\n",
       "      <td>3676</td>\n",
       "      <td>710</td>\n",
       "      <td>454</td>\n",
       "      <td>224</td>\n",
       "      <td>228</td>\n",
       "    </tr>\n",
       "    <tr>\n",
       "      <th>1</th>\n",
       "      <td>0</td>\n",
       "      <td>1</td>\n",
       "      <td>59</td>\n",
       "      <td>3676</td>\n",
       "      <td>3734</td>\n",
       "      <td>3677</td>\n",
       "      <td>710</td>\n",
       "      <td>454</td>\n",
       "      <td>224</td>\n",
       "      <td>228</td>\n",
       "    </tr>\n",
       "    <tr>\n",
       "      <th>2</th>\n",
       "      <td>0</td>\n",
       "      <td>1</td>\n",
       "      <td>59</td>\n",
       "      <td>3676</td>\n",
       "      <td>3734</td>\n",
       "      <td>3678</td>\n",
       "      <td>710</td>\n",
       "      <td>454</td>\n",
       "      <td>224</td>\n",
       "      <td>228</td>\n",
       "    </tr>\n",
       "    <tr>\n",
       "      <th>3</th>\n",
       "      <td>0</td>\n",
       "      <td>1</td>\n",
       "      <td>59</td>\n",
       "      <td>3676</td>\n",
       "      <td>3734</td>\n",
       "      <td>3679</td>\n",
       "      <td>710</td>\n",
       "      <td>454</td>\n",
       "      <td>224</td>\n",
       "      <td>228</td>\n",
       "    </tr>\n",
       "    <tr>\n",
       "      <th>4</th>\n",
       "      <td>0</td>\n",
       "      <td>1</td>\n",
       "      <td>59</td>\n",
       "      <td>3676</td>\n",
       "      <td>3734</td>\n",
       "      <td>3680</td>\n",
       "      <td>710</td>\n",
       "      <td>454</td>\n",
       "      <td>224</td>\n",
       "      <td>228</td>\n",
       "    </tr>\n",
       "  </tbody>\n",
       "</table>\n",
       "</div>"
      ],
      "text/plain": [
       "   event_id  event_type  duration  start_frame  end_frame  current_frame  \\\n",
       "0         0           1        59         3676       3734           3676   \n",
       "1         0           1        59         3676       3734           3677   \n",
       "2         0           1        59         3676       3734           3678   \n",
       "3         0           1        59         3676       3734           3679   \n",
       "4         0           1        59         3676       3734           3680   \n",
       "\n",
       "   bbox_lefttop_x  bbox_lefttop_y  bbox_width  bbox_height  \n",
       "0             710             454         224          228  \n",
       "1             710             454         224          228  \n",
       "2             710             454         224          228  \n",
       "3             710             454         224          228  \n",
       "4             710             454         224          228  "
      ]
     },
     "execution_count": 47,
     "metadata": {},
     "output_type": "execute_result"
    }
   ],
   "source": [
    "video_event = video_event.rename(events, axis=1)\n",
    "video_object = video_object.rename(objects, axis=1)\n",
    "video_mapping = video_mapping.rename(mapping, axis=1)\n",
    "print(len(video_event))\n",
    "video_event.head()"
   ]
  },
  {
   "cell_type": "code",
   "execution_count": 48,
   "id": "5fb83e6c",
   "metadata": {},
   "outputs": [
    {
     "name": "stdout",
     "output_type": "stream",
     "text": [
      "219982\n"
     ]
    },
    {
     "data": {
      "text/html": [
       "<div>\n",
       "<style scoped>\n",
       "    .dataframe tbody tr th:only-of-type {\n",
       "        vertical-align: middle;\n",
       "    }\n",
       "\n",
       "    .dataframe tbody tr th {\n",
       "        vertical-align: top;\n",
       "    }\n",
       "\n",
       "    .dataframe thead th {\n",
       "        text-align: right;\n",
       "    }\n",
       "</style>\n",
       "<table border=\"1\" class=\"dataframe\">\n",
       "  <thead>\n",
       "    <tr style=\"text-align: right;\">\n",
       "      <th></th>\n",
       "      <th>object_id</th>\n",
       "      <th>object_duration</th>\n",
       "      <th>current_frame</th>\n",
       "      <th>bbox_lefttop_x</th>\n",
       "      <th>bbox_lefttop_y</th>\n",
       "      <th>bbox_width</th>\n",
       "      <th>bbox_height</th>\n",
       "      <th>object_type</th>\n",
       "    </tr>\n",
       "  </thead>\n",
       "  <tbody>\n",
       "    <tr>\n",
       "      <th>0</th>\n",
       "      <td>1</td>\n",
       "      <td>385</td>\n",
       "      <td>3455</td>\n",
       "      <td>1</td>\n",
       "      <td>663</td>\n",
       "      <td>76</td>\n",
       "      <td>132</td>\n",
       "      <td>1</td>\n",
       "    </tr>\n",
       "    <tr>\n",
       "      <th>1</th>\n",
       "      <td>1</td>\n",
       "      <td>385</td>\n",
       "      <td>3456</td>\n",
       "      <td>1</td>\n",
       "      <td>663</td>\n",
       "      <td>76</td>\n",
       "      <td>132</td>\n",
       "      <td>1</td>\n",
       "    </tr>\n",
       "    <tr>\n",
       "      <th>2</th>\n",
       "      <td>1</td>\n",
       "      <td>385</td>\n",
       "      <td>3457</td>\n",
       "      <td>1</td>\n",
       "      <td>663</td>\n",
       "      <td>76</td>\n",
       "      <td>132</td>\n",
       "      <td>1</td>\n",
       "    </tr>\n",
       "    <tr>\n",
       "      <th>3</th>\n",
       "      <td>1</td>\n",
       "      <td>385</td>\n",
       "      <td>3458</td>\n",
       "      <td>1</td>\n",
       "      <td>663</td>\n",
       "      <td>76</td>\n",
       "      <td>132</td>\n",
       "      <td>1</td>\n",
       "    </tr>\n",
       "    <tr>\n",
       "      <th>4</th>\n",
       "      <td>1</td>\n",
       "      <td>385</td>\n",
       "      <td>3459</td>\n",
       "      <td>1</td>\n",
       "      <td>663</td>\n",
       "      <td>76</td>\n",
       "      <td>132</td>\n",
       "      <td>1</td>\n",
       "    </tr>\n",
       "  </tbody>\n",
       "</table>\n",
       "</div>"
      ],
      "text/plain": [
       "   object_id  object_duration  current_frame  bbox_lefttop_x  bbox_lefttop_y  \\\n",
       "0          1              385           3455               1             663   \n",
       "1          1              385           3456               1             663   \n",
       "2          1              385           3457               1             663   \n",
       "3          1              385           3458               1             663   \n",
       "4          1              385           3459               1             663   \n",
       "\n",
       "   bbox_width  bbox_height  object_type  \n",
       "0          76          132            1  \n",
       "1          76          132            1  \n",
       "2          76          132            1  \n",
       "3          76          132            1  \n",
       "4          76          132            1  "
      ]
     },
     "execution_count": 48,
     "metadata": {},
     "output_type": "execute_result"
    }
   ],
   "source": [
    "print(len(video_object))\n",
    "video_object.head()"
   ]
  },
  {
   "cell_type": "code",
   "execution_count": 49,
   "id": "5bd5d961",
   "metadata": {
    "scrolled": false
   },
   "outputs": [
    {
     "name": "stdout",
     "output_type": "stream",
     "text": [
      "9\n"
     ]
    },
    {
     "data": {
      "text/html": [
       "<div>\n",
       "<style scoped>\n",
       "    .dataframe tbody tr th:only-of-type {\n",
       "        vertical-align: middle;\n",
       "    }\n",
       "\n",
       "    .dataframe tbody tr th {\n",
       "        vertical-align: top;\n",
       "    }\n",
       "\n",
       "    .dataframe thead th {\n",
       "        text-align: right;\n",
       "    }\n",
       "</style>\n",
       "<table border=\"1\" class=\"dataframe\">\n",
       "  <thead>\n",
       "    <tr style=\"text-align: right;\">\n",
       "      <th></th>\n",
       "      <th>event_id</th>\n",
       "      <th>event_type</th>\n",
       "      <th>event_duration</th>\n",
       "      <th>start_frame</th>\n",
       "      <th>end_frame</th>\n",
       "      <th>num_obj</th>\n",
       "      <th>6</th>\n",
       "      <th>7</th>\n",
       "      <th>8</th>\n",
       "      <th>9</th>\n",
       "      <th>...</th>\n",
       "      <th>28</th>\n",
       "      <th>29</th>\n",
       "      <th>30</th>\n",
       "      <th>31</th>\n",
       "      <th>32</th>\n",
       "      <th>33</th>\n",
       "      <th>34</th>\n",
       "      <th>35</th>\n",
       "      <th>36</th>\n",
       "      <th>37</th>\n",
       "    </tr>\n",
       "  </thead>\n",
       "  <tbody>\n",
       "    <tr>\n",
       "      <th>0</th>\n",
       "      <td>0</td>\n",
       "      <td>1</td>\n",
       "      <td>59</td>\n",
       "      <td>3676</td>\n",
       "      <td>3734</td>\n",
       "      <td>3</td>\n",
       "      <td>0</td>\n",
       "      <td>1</td>\n",
       "      <td>0</td>\n",
       "      <td>1</td>\n",
       "      <td>...</td>\n",
       "      <td>0</td>\n",
       "      <td>0</td>\n",
       "      <td>0</td>\n",
       "      <td>0</td>\n",
       "      <td>0</td>\n",
       "      <td>0</td>\n",
       "      <td>0</td>\n",
       "      <td>0</td>\n",
       "      <td>0</td>\n",
       "      <td>0</td>\n",
       "    </tr>\n",
       "    <tr>\n",
       "      <th>1</th>\n",
       "      <td>1</td>\n",
       "      <td>5</td>\n",
       "      <td>172</td>\n",
       "      <td>3670</td>\n",
       "      <td>3841</td>\n",
       "      <td>2</td>\n",
       "      <td>0</td>\n",
       "      <td>1</td>\n",
       "      <td>0</td>\n",
       "      <td>1</td>\n",
       "      <td>...</td>\n",
       "      <td>0</td>\n",
       "      <td>0</td>\n",
       "      <td>0</td>\n",
       "      <td>0</td>\n",
       "      <td>0</td>\n",
       "      <td>0</td>\n",
       "      <td>0</td>\n",
       "      <td>0</td>\n",
       "      <td>0</td>\n",
       "      <td>0</td>\n",
       "    </tr>\n",
       "    <tr>\n",
       "      <th>2</th>\n",
       "      <td>2</td>\n",
       "      <td>5</td>\n",
       "      <td>217</td>\n",
       "      <td>10413</td>\n",
       "      <td>10629</td>\n",
       "      <td>2</td>\n",
       "      <td>0</td>\n",
       "      <td>0</td>\n",
       "      <td>0</td>\n",
       "      <td>0</td>\n",
       "      <td>...</td>\n",
       "      <td>0</td>\n",
       "      <td>0</td>\n",
       "      <td>0</td>\n",
       "      <td>0</td>\n",
       "      <td>0</td>\n",
       "      <td>0</td>\n",
       "      <td>0</td>\n",
       "      <td>0</td>\n",
       "      <td>0</td>\n",
       "      <td>0</td>\n",
       "    </tr>\n",
       "    <tr>\n",
       "      <th>3</th>\n",
       "      <td>3</td>\n",
       "      <td>2</td>\n",
       "      <td>66</td>\n",
       "      <td>10068</td>\n",
       "      <td>10133</td>\n",
       "      <td>3</td>\n",
       "      <td>0</td>\n",
       "      <td>0</td>\n",
       "      <td>0</td>\n",
       "      <td>0</td>\n",
       "      <td>...</td>\n",
       "      <td>0</td>\n",
       "      <td>0</td>\n",
       "      <td>0</td>\n",
       "      <td>0</td>\n",
       "      <td>0</td>\n",
       "      <td>0</td>\n",
       "      <td>0</td>\n",
       "      <td>0</td>\n",
       "      <td>0</td>\n",
       "      <td>0</td>\n",
       "    </tr>\n",
       "    <tr>\n",
       "      <th>4</th>\n",
       "      <td>4</td>\n",
       "      <td>6</td>\n",
       "      <td>131</td>\n",
       "      <td>9614</td>\n",
       "      <td>9744</td>\n",
       "      <td>2</td>\n",
       "      <td>0</td>\n",
       "      <td>0</td>\n",
       "      <td>0</td>\n",
       "      <td>0</td>\n",
       "      <td>...</td>\n",
       "      <td>0</td>\n",
       "      <td>0</td>\n",
       "      <td>0</td>\n",
       "      <td>0</td>\n",
       "      <td>0</td>\n",
       "      <td>0</td>\n",
       "      <td>0</td>\n",
       "      <td>0</td>\n",
       "      <td>0</td>\n",
       "      <td>0</td>\n",
       "    </tr>\n",
       "  </tbody>\n",
       "</table>\n",
       "<p>5 rows × 38 columns</p>\n",
       "</div>"
      ],
      "text/plain": [
       "   event_id  event_type  event_duration  start_frame  end_frame  num_obj  6  \\\n",
       "0         0           1              59         3676       3734        3  0   \n",
       "1         1           5             172         3670       3841        2  0   \n",
       "2         2           5             217        10413      10629        2  0   \n",
       "3         3           2              66        10068      10133        3  0   \n",
       "4         4           6             131         9614       9744        2  0   \n",
       "\n",
       "   7  8  9  ...  28  29  30  31  32  33  34  35  36  37  \n",
       "0  1  0  1  ...   0   0   0   0   0   0   0   0   0   0  \n",
       "1  1  0  1  ...   0   0   0   0   0   0   0   0   0   0  \n",
       "2  0  0  0  ...   0   0   0   0   0   0   0   0   0   0  \n",
       "3  0  0  0  ...   0   0   0   0   0   0   0   0   0   0  \n",
       "4  0  0  0  ...   0   0   0   0   0   0   0   0   0   0  \n",
       "\n",
       "[5 rows x 38 columns]"
      ]
     },
     "execution_count": 49,
     "metadata": {},
     "output_type": "execute_result"
    }
   ],
   "source": [
    "print(len(video_mapping))\n",
    "video_mapping.head()"
   ]
  },
  {
   "cell_type": "markdown",
   "id": "22be1d6b",
   "metadata": {},
   "source": [
    "From the above we can see that our selected sample video contains \n",
    "- 1633 \"events\" \n",
    "- 219,982 \"objects\"\n",
    "- 9 mappings\n",
    "\n",
    "Given this information, let's ask some interesting questions we might want to try and answer regarding this dataset.\n",
    "Some questions regarding \"events\" we can try to answer are:\n",
    "- What types of events have been identified in the selected video?\n",
    "- What is the frequency of these events in the selected video?\n",
    "- What is the distribution of these events (which events occur most often in the selected video?)\n",
    "- At what frames do we see these events occur?\n",
    "- What are the average durations of different types of events in the selected video?\n",
    "\n",
    "Other questions regarding the \"objects\" in the selected video are: \n",
    "- What types of objects have been identified in the selected video?\n",
    "- What is the frequency of these objects in the selected video?\n",
    "- What is the distribution of these objects (which object occur most often in the selected video?)\n",
    "- At what frames do we see these objects?\n",
    "- What are the average durations of different types of objects in the selected video?\n",
    "\n",
    "We can also try to connect the objects to the events using the \"mapping\" annotations. \n",
    "\n",
    "There are other\n",
    "- What is the size and structure of the dataset? \n",
    "- What are the key variables in the dataset?\n",
    "- Mean, median, mode, standard deviation, and range for each variable?\n",
    "- How many object types are there?\n",
    "- How many objects are shown per video and what type?\n",
    "- Visualize the distribution of \"people\" in each video\n",
    "- Average size of people objects (calculate area of pixels)\n",
    "- Unique people shown per video? Total number of unique people shown in all videos?\n",
    "\n",
    "Let's try to see if we can get further insights into our selected video using the questions I have asked above. Later, we can extend this analysis to our entire dataset and see if we can find general patterns in the dataset that may lead to bias."
   ]
  },
  {
   "cell_type": "markdown",
   "id": "adc42c34",
   "metadata": {},
   "source": [
    "## Summary and Descriptive Statistics"
   ]
  },
  {
   "cell_type": "code",
   "execution_count": 23,
   "id": "82e33373",
   "metadata": {},
   "outputs": [
    {
     "data": {
      "text/plain": [
       "event_type\n",
       "Person carrying an object                        725\n",
       "Person getting into a Vehicle                    540\n",
       "Person getting out of a Vehicle                  243\n",
       "Person Unloading an Object from a Car/Vehicle     66\n",
       "Person loading an Object to a Vehicle             59\n",
       "dtype: int64"
      ]
     },
     "execution_count": 23,
     "metadata": {},
     "output_type": "execute_result"
    }
   ],
   "source": [
    "# What types of events have been identified in the selected video?\n",
    "# What is the frequency of these events in the selected video?\n",
    "\n",
    "video_event.replace({\"event_type\" : events_type}, inplace=False).value_counts('event_type')"
   ]
  },
  {
   "cell_type": "code",
   "execution_count": 24,
   "id": "412ecc74",
   "metadata": {},
   "outputs": [
    {
     "data": {
      "text/plain": [
       "<BarContainer object of 5 artists>"
      ]
     },
     "execution_count": 24,
     "metadata": {},
     "output_type": "execute_result"
    },
    {
     "data": {
      "image/png": "[encoded data removed]",
      "text/plain": [
       "<Figure size 1000x300 with 1 Axes>"
      ]
     },
     "metadata": {},
     "output_type": "display_data"
    }
   ],
   "source": [
    "# What is the distribution of these events (which events occur most often in the selected video?)\n",
    "plt.figure(figsize=(10,3))\n",
    "plt.bar(x=video_event.value_counts('event_type').index, height=video_event.value_counts('event_type').values)\n"
   ]
  },
  {
   "cell_type": "code",
   "execution_count": 25,
   "id": "b630d4fd",
   "metadata": {},
   "outputs": [
    {
     "data": {
      "image/png": "[encoded data removed]",
      "text/plain": [
       "<Figure size 640x480 with 1 Axes>"
      ]
     },
     "metadata": {},
     "output_type": "display_data"
    }
   ],
   "source": [
    "# At what frames do we see these events occur?\n",
    "events_dict = {}\n",
    "for i in range(len(video_event)):\n",
    "    current_event = video_event.iloc[i]\n",
    "    events_dict[current_event['event_id']] = current_event['start_frame'], current_event['end_frame'], current_event['event_type']\n",
    "\n",
    "for key in events_dict:\n",
    "    event_duration = np.arange(events_dict[key][0], events_dict[key][1])\n",
    "    current_key = [key for i in range(len(event_duration))]\n",
    "    plt.scatter(event_duration, current_key)"
   ]
  },
  {
   "cell_type": "code",
   "execution_count": 26,
   "id": "f24039dd",
   "metadata": {},
   "outputs": [
    {
     "data": {
      "text/plain": [
       "object_type\n",
       "0    123826\n",
       "1     84008\n",
       "2     10869\n",
       "4      1279\n",
       "dtype: int64"
      ]
     },
     "execution_count": 26,
     "metadata": {},
     "output_type": "execute_result"
    }
   ],
   "source": [
    "video_object.value_counts('object_type')"
   ]
  },
  {
   "cell_type": "code",
   "execution_count": 27,
   "id": "67de0a91",
   "metadata": {},
   "outputs": [
    {
     "data": {
      "text/plain": [
       "object_type\n",
       "person            123826\n",
       "car                84008\n",
       "vehicles           10869\n",
       "bike, bicycles      1279\n",
       "dtype: int64"
      ]
     },
     "execution_count": 27,
     "metadata": {},
     "output_type": "execute_result"
    }
   ],
   "source": [
    "# What types of events have been identified in the selected video?\n",
    "# What is the frequency of these events in the selected video?\n",
    "\n",
    "video_object.replace({\"object_type\" : objects_type}, inplace=False).value_counts('object_type')"
   ]
  },
  {
   "cell_type": "code",
   "execution_count": 28,
   "id": "e4c296be",
   "metadata": {},
   "outputs": [
    {
     "data": {
      "text/plain": [
       "<BarContainer object of 4 artists>"
      ]
     },
     "execution_count": 28,
     "metadata": {},
     "output_type": "execute_result"
    },
    {
     "data": {
      "image/png": "[encoded data removed]",
      "text/plain": [
       "<Figure size 1000x300 with 1 Axes>"
      ]
     },
     "metadata": {},
     "output_type": "display_data"
    }
   ],
   "source": [
    "# What is the distribution of these events (which events occur most often in the selected video?)\n",
    "plt.figure(figsize=(10,3))\n",
    "plt.bar(x=video_object.value_counts('object_type').index, height=video_object.value_counts('object_type').values)\n"
   ]
  },
  {
   "cell_type": "markdown",
   "id": "529df8cd",
   "metadata": {},
   "source": [
    "# Combined Annotations"
   ]
  },
  {
   "cell_type": "code",
   "execution_count": 29,
   "id": "016932f9",
   "metadata": {},
   "outputs": [],
   "source": [
    "# Find all objects.txt files for all videos\n",
    "# Iterate through each person object file and append to existing dataframe"
   ]
  },
  {
   "cell_type": "code",
   "execution_count": 30,
   "id": "afaf5a6d",
   "metadata": {},
   "outputs": [],
   "source": [
    "# How many unique people are shown per video?"
   ]
  },
  {
   "cell_type": "code",
   "execution_count": 31,
   "id": "f4efa10c",
   "metadata": {},
   "outputs": [],
   "source": [
    "# Distribution of people objects in each video\n"
   ]
  },
  {
   "cell_type": "code",
   "execution_count": 32,
   "id": "ce74bf45",
   "metadata": {},
   "outputs": [],
   "source": [
    "# Average size of people objects (calculate area of pixels)\n"
   ]
  },
  {
   "cell_type": "code",
   "execution_count": 33,
   "id": "53f0ac08",
   "metadata": {},
   "outputs": [],
   "source": [
    "# Unique people objects shown per video? Overall?\n"
   ]
  },
  {
   "cell_type": "markdown",
   "id": "7aca38a3",
   "metadata": {},
   "source": [
    "## Outliers"
   ]
  },
  {
   "cell_type": "code",
   "execution_count": 34,
   "id": "29dbbd34",
   "metadata": {},
   "outputs": [],
   "source": [
    "# Are there any outliers"
   ]
  },
  {
   "cell_type": "markdown",
   "id": "15ece01b",
   "metadata": {},
   "source": [
    "## Correlations"
   ]
  },
  {
   "cell_type": "code",
   "execution_count": 35,
   "id": "dc1b334b",
   "metadata": {},
   "outputs": [],
   "source": [
    "# Are there any relationships or correlations between variables?"
   ]
  },
  {
   "cell_type": "markdown",
   "id": "72ba3bfe",
   "metadata": {},
   "source": [
    "## Limitations"
   ]
  },
  {
   "cell_type": "code",
   "execution_count": 36,
   "id": "15830eea",
   "metadata": {},
   "outputs": [],
   "source": [
    "# What are the limitations of the annotations? "
   ]
  }
 ],
 "metadata": {
  "kernelspec": {
   "display_name": "Python 3 (ipykernel)",
   "language": "python",
   "name": "python3"
  },
  "language_info": {
   "codemirror_mode": {
    "name": "ipython",
    "version": 3
   },
   "file_extension": ".py",
   "mimetype": "text/x-python",
   "name": "python",
   "nbconvert_exporter": "python",
   "pygments_lexer": "ipython3",
   "version": "3.11.3"
  }
 },
 "nbformat": 4,
 "nbformat_minor": 5
}
