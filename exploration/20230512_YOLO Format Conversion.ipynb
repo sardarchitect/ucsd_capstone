{
 "cells": [
  {
   "cell_type": "code",
   "execution_count": 1,
   "id": "b1d2ddc8",
   "metadata": {},
   "outputs": [],
   "source": [
    "import sys\n",
    "from tqdm.auto import tqdm\n",
    "sys.path.append('/home/sardarchitect/repos/github.com/ucsd_capstone/')\n",
    "sys.path.append('/home/sardarchitect/repos/github.com/ucsd_capstone/streetstudy/')"
   ]
  },
  {
   "cell_type": "code",
   "execution_count": 2,
   "id": "fa219e46",
   "metadata": {},
   "outputs": [],
   "source": [
    "import os\n",
    "from sklearn.model_selection import train_test_split\n",
    "import shutil\n",
    "from streetstudy.data import virat"
   ]
  },
  {
   "cell_type": "code",
   "execution_count": 3,
   "id": "9b35a250",
   "metadata": {},
   "outputs": [],
   "source": [
    "selected_videos = virat.get_dataset_df()\n",
    "selected_videos.sort_values('num_frames', inplace=True)"
   ]
  },
  {
   "cell_type": "code",
   "execution_count": 4,
   "id": "7073459b",
   "metadata": {},
   "outputs": [],
   "source": [
    "selected_videos = selected_videos.loc[['VIRAT_S_010200_04_000568_000620', 'VIRAT_S_010202_02_000161_000189', 'VIRAT_S_000002', 'VIRAT_S_000102']]"
   ]
  },
  {
   "cell_type": "code",
   "execution_count": 7,
   "id": "12579af4",
   "metadata": {
    "scrolled": false
   },
   "outputs": [
    {
     "data": {
      "application/vnd.jupyter.widget-view+json": {
       "model_id": "d76ca21f59ea4074b50d7f7a9ae264e4",
       "version_major": 2,
       "version_minor": 0
      },
      "text/plain": [
       "  0%|          | 0/4 [00:00<?, ?it/s]"
      ]
     },
     "metadata": {},
     "output_type": "display_data"
    },
    {
     "data": {
      "application/vnd.jupyter.widget-view+json": {
       "model_id": "7523e457ed9d47a59fc23711ecb1bca6",
       "version_major": 2,
       "version_minor": 0
      },
      "text/plain": [
       "  0%|          | 0/1112 [00:00<?, ?it/s]"
      ]
     },
     "metadata": {},
     "output_type": "display_data"
    },
    {
     "data": {
      "application/vnd.jupyter.widget-view+json": {
       "model_id": "3e20cf6e5b9947618d4b567a33c9a203",
       "version_major": 2,
       "version_minor": 0
      },
      "text/plain": [
       "  0%|          | 0/531 [00:00<?, ?it/s]"
      ]
     },
     "metadata": {},
     "output_type": "display_data"
    },
    {
     "data": {
      "application/vnd.jupyter.widget-view+json": {
       "model_id": "b3678599e51345498a55968ad273eb40",
       "version_major": 2,
       "version_minor": 0
      },
      "text/plain": [
       "  0%|          | 0/9075 [00:00<?, ?it/s]"
      ]
     },
     "metadata": {},
     "output_type": "display_data"
    },
    {
     "data": {
      "application/vnd.jupyter.widget-view+json": {
       "model_id": "5894114ad7c5466485f19f7cefe79c42",
       "version_major": 2,
       "version_minor": 0
      },
      "text/plain": [
       "  0%|          | 0/29580 [00:00<?, ?it/s]"
      ]
     },
     "metadata": {},
     "output_type": "display_data"
    }
   ],
   "source": [
    "save_dir = '/home/sardarchitect/repos/github.com/ucsd_capstone/virat/yolo_sample'\n",
    "for i in tqdm(range(len(selected_videos))):\n",
    "    current_video = selected_videos.iloc[i]\n",
    "    annotation_df = virat.get_annotations_df(current_video.path, format='yolo', normalize=True)\n",
    "    \n",
    "    virat.build_virat_to_yolo_directory(current_video, annotation_df, save_dir)"
   ]
  },
  {
   "cell_type": "code",
   "execution_count": 8,
   "id": "fd88a8a9",
   "metadata": {},
   "outputs": [
    {
     "data": {
      "text/plain": [
       "0"
      ]
     },
     "execution_count": 8,
     "metadata": {},
     "output_type": "execute_result"
    }
   ],
   "source": [
    "import os\n",
    "sum(os.path.getsize(f) for f in os.listdir(save_dir+'/images') if os.path.isfile(f))"
   ]
  },
  {
   "cell_type": "code",
   "execution_count": 9,
   "id": "2ebe12a2",
   "metadata": {},
   "outputs": [],
   "source": [
    "images = [os.path.join('/home/sardarchitect/repos/github.com/ucsd_capstone/virat/yolo_sample/images/', x) for x in os.listdir('/home/sardarchitect/repos/github.com/ucsd_capstone/virat/yolo_sample/images/')]\n",
    "annotations = [os.path.join('/home/sardarchitect/repos/github.com/ucsd_capstone/virat/yolo_sample/labels/', x) for x in os.listdir('/home/sardarchitect/repos/github.com/ucsd_capstone/virat/yolo_sample/labels/')]\n",
    "images.sort()\n",
    "annotations.sort()"
   ]
  },
  {
   "cell_type": "code",
   "execution_count": 10,
   "id": "fca18d17",
   "metadata": {},
   "outputs": [],
   "source": [
    "train_images, val_images, train_annotations, val_annotations = train_test_split(images, annotations, test_size = 0.2, random_state = 1)\n",
    "val_images, test_images, val_annotations, test_annotations = train_test_split(val_images, val_annotations, test_size = 0.5, random_state = 1)"
   ]
  },
  {
   "cell_type": "code",
   "execution_count": 11,
   "id": "aee5a6da",
   "metadata": {},
   "outputs": [
    {
     "name": "stdout",
     "output_type": "stream",
     "text": [
      "32239\n",
      "32239\n",
      "4030\n",
      "4030\n",
      "4030\n",
      "4030\n"
     ]
    }
   ],
   "source": [
    "print(len(train_images))\n",
    "print(len(train_annotations))\n",
    "\n",
    "print(len(val_images))\n",
    "print(len(val_annotations))\n",
    "\n",
    "print(len(test_images))\n",
    "print(len(test_annotations))"
   ]
  },
  {
   "cell_type": "code",
   "execution_count": 12,
   "id": "bb309694",
   "metadata": {},
   "outputs": [],
   "source": [
    "def move_files_to_folder(list_of_files, destination_folder):\n",
    "    for f in list_of_files:\n",
    "        try:\n",
    "            shutil.move(f, destination_folder)\n",
    "        except:\n",
    "            print(f)\n",
    "            assert False"
   ]
  },
  {
   "cell_type": "code",
   "execution_count": 18,
   "id": "926ccf58",
   "metadata": {},
   "outputs": [],
   "source": [
    "# move_files_to_folder(train_images, '/home/sardarchitect/repos/github.com/ucsd_capstone/virat/yolo_sample/images/train/')\n",
    "# move_files_to_folder(val_images, '/home/sardarchitect/repos/github.com/ucsd_capstone/virat/yolo_sample/images/val/')\n",
    "# move_files_to_folder(test_images, '/home/sardarchitect/repos/github.com/ucsd_capstone/virat/yolo_sample/images/test/')\n",
    "move_files_to_folder(train_annotations, '/home/sardarchitect/repos/github.com/ucsd_capstone/virat/yolo_sample/labels/train/')\n",
    "# move_files_to_folder(val_annotations, '/home/sardarchitect/repos/github.com/ucsd_capstone/virat/yolo_sample/labels/val/')\n",
    "# move_files_to_folder(test_annotations, '/home/sardarchitect/repos/github.com/ucsd_capstone/virat/yolo_sample/labels/test/')"
   ]
  },
  {
   "cell_type": "code",
   "execution_count": null,
   "id": "92746307",
   "metadata": {},
   "outputs": [],
   "source": []
  }
 ],
 "metadata": {
  "kernelspec": {
   "display_name": "Python 3 (ipykernel)",
   "language": "python",
   "name": "python3"
  },
  "language_info": {
   "codemirror_mode": {
    "name": "ipython",
    "version": 3
   },
   "file_extension": ".py",
   "mimetype": "text/x-python",
   "name": "python",
   "nbconvert_exporter": "python",
   "pygments_lexer": "ipython3",
   "version": "3.11.3"
  }
 },
 "nbformat": 4,
 "nbformat_minor": 5
}
