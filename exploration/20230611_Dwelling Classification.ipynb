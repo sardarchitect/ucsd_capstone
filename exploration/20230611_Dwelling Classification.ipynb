{
 "cells": [
  {
   "cell_type": "markdown",
   "id": "619442a6",
   "metadata": {},
   "source": [
    "## Imports"
   ]
  },
  {
   "cell_type": "code",
   "execution_count": 1,
   "id": "7fcb2bdc",
   "metadata": {},
   "outputs": [],
   "source": [
    "import numpy as np"
   ]
  },
  {
   "cell_type": "code",
   "execution_count": 2,
   "id": "0a90f6bb",
   "metadata": {},
   "outputs": [],
   "source": [
    "import sys\n",
    "sys.path.append('../')\n",
    "from streetstudy.data import virat"
   ]
  },
  {
   "cell_type": "markdown",
   "id": "5b56eb74",
   "metadata": {},
   "source": [
    "## Load Data"
   ]
  },
  {
   "cell_type": "code",
   "execution_count": 3,
   "id": "c273da32",
   "metadata": {},
   "outputs": [],
   "source": [
    "video_df = virat.get_dataset_df()"
   ]
  },
  {
   "cell_type": "code",
   "execution_count": 4,
   "id": "a0186599",
   "metadata": {},
   "outputs": [],
   "source": [
    "video_path = \"/mnt/d/data/virat/videos/VIRAT_S_000002.mp4\"\n",
    "events_df = virat.get_annotations_df(video_path, type='events')\n",
    "objects_df = virat.get_annotations_df(video_path, type='object')\n",
    "mapping_df = virat.get_annotations_df(video_path, type='mapping')"
   ]
  },
  {
   "cell_type": "code",
   "execution_count": 5,
   "id": "244777f9",
   "metadata": {
    "scrolled": true
   },
   "outputs": [
    {
     "name": "stdout",
     "output_type": "stream",
     "text": [
      "Index(['event_id', 'event_type', 'duration', 'start_frame', 'end_frame',\n",
      "       'current_frame', 'bbox_lefttop_x', 'bbox_lefttop_y', 'bbox_width',\n",
      "       'bbox_height', 'bbox_rightbottom_x', 'bbox_rightbottom_y'],\n",
      "      dtype='object')\n",
      "Index(['object_id', 'object_duration', 'current_frame', 'bbox_lefttop_x',\n",
      "       'bbox_lefttop_y', 'bbox_width', 'bbox_height', 'object_type'],\n",
      "      dtype='object')\n",
      "Index([      'event_id',     'event_type', 'event_duration',    'start_frame',\n",
      "            'end_frame',        'num_obj',                6,                7,\n",
      "                      8,                9,               10,               11,\n",
      "                     12,               13,               14,               15,\n",
      "                     16,               17,               18,               19,\n",
      "                     20,               21,               22,               23,\n",
      "                     24,               25,               26,               27],\n",
      "      dtype='object')\n"
     ]
    }
   ],
   "source": [
    "print(events_df.columns)\n",
    "print(objects_df.columns)\n",
    "print(mapping_df.columns)"
   ]
  },
  {
   "cell_type": "markdown",
   "id": "6a42a376",
   "metadata": {},
   "source": [
    "## Preprocess Data"
   ]
  },
  {
   "cell_type": "code",
   "execution_count": 73,
   "id": "1b42aa29",
   "metadata": {},
   "outputs": [
    {
     "data": {
      "text/plain": [
       "(array([0]), array([0]))"
      ]
     },
     "execution_count": 73,
     "metadata": {},
     "output_type": "execute_result"
    }
   ],
   "source": [
    "X = np.array([[1,3,5,61], [2,68,7,9]])\n",
    "condition_1 = (X[:, 2]  == 5)\n",
    "condition_2 = (X[:, 2]  < 10)\n",
    "np.where([condition_1 & condition_2], [1], [0]).nonzero()"
   ]
  },
  {
   "cell_type": "code",
   "execution_count": 48,
   "id": "a3b84f29",
   "metadata": {},
   "outputs": [],
   "source": [
    "def get_object(obj_list, map_df, obj_id):\n",
    "    selected_obj = obj_list[obj_list[:, 0] == obj_id]\n",
    "    selected_obj = np.hstack((selected_obj, np.ones((selected_obj.shape[0], 1)) * -1))\n",
    "    \n",
    "    selected_events = mapping_df[mapping_df[object_id + 7] == 1]\n",
    "    for _, event in selected_events.iterrows():\n",
    "        condition_1 = selected_obj[:, 2] >= event['start_frame']\n",
    "        condition_2 = selected_obj[:, 2] <= event['start_frame']\n",
    "          \n",
    "        selected_obj[(condition_1)&(condition_2)][:, -1]\n",
    "        print(selected_obj)\n",
    "#         selected_obj[:, -1] = np.select(condition_1 & condition_2, 1, default=0)\n",
    "    \n",
    "    return selected_obj"
   ]
  },
  {
   "cell_type": "code",
   "execution_count": 45,
   "id": "0afc8b6c",
   "metadata": {},
   "outputs": [
    {
     "name": "stdout",
     "output_type": "stream",
     "text": [
      "(43532, 8)\n",
      "ID: 2\n",
      "ID: 3\n",
      "ID: 4\n",
      "[[ 4.000e+00  9.076e+03  0.000e+00 ...  1.070e+02  1.000e+00 -1.000e+00]\n",
      " [ 4.000e+00  9.076e+03  1.000e+00 ...  1.070e+02  1.000e+00 -1.000e+00]\n",
      " [ 4.000e+00  9.076e+03  2.000e+00 ...  1.070e+02  1.000e+00 -1.000e+00]\n",
      " ...\n",
      " [ 4.000e+00  9.076e+03  9.073e+03 ...  1.530e+02  1.000e+00 -1.000e+00]\n",
      " [ 4.000e+00  9.076e+03  9.074e+03 ...  1.530e+02  1.000e+00 -1.000e+00]\n",
      " [ 4.000e+00  9.076e+03  9.075e+03 ...  1.530e+02  1.000e+00 -1.000e+00]]\n",
      "[[ 4.000e+00  9.076e+03  0.000e+00 ...  1.070e+02  1.000e+00 -1.000e+00]\n",
      " [ 4.000e+00  9.076e+03  1.000e+00 ...  1.070e+02  1.000e+00 -1.000e+00]\n",
      " [ 4.000e+00  9.076e+03  2.000e+00 ...  1.070e+02  1.000e+00 -1.000e+00]\n",
      " ...\n",
      " [ 4.000e+00  9.076e+03  9.073e+03 ...  1.530e+02  1.000e+00 -1.000e+00]\n",
      " [ 4.000e+00  9.076e+03  9.074e+03 ...  1.530e+02  1.000e+00 -1.000e+00]\n",
      " [ 4.000e+00  9.076e+03  9.075e+03 ...  1.530e+02  1.000e+00 -1.000e+00]]\n",
      "[[ 4.000e+00  9.076e+03  0.000e+00 ...  1.070e+02  1.000e+00 -1.000e+00]\n",
      " [ 4.000e+00  9.076e+03  1.000e+00 ...  1.070e+02  1.000e+00 -1.000e+00]\n",
      " [ 4.000e+00  9.076e+03  2.000e+00 ...  1.070e+02  1.000e+00 -1.000e+00]\n",
      " ...\n",
      " [ 4.000e+00  9.076e+03  9.073e+03 ...  1.530e+02  1.000e+00 -1.000e+00]\n",
      " [ 4.000e+00  9.076e+03  9.074e+03 ...  1.530e+02  1.000e+00 -1.000e+00]\n",
      " [ 4.000e+00  9.076e+03  9.075e+03 ...  1.530e+02  1.000e+00 -1.000e+00]]\n",
      "[[ 4.000e+00  9.076e+03  0.000e+00 ...  1.070e+02  1.000e+00 -1.000e+00]\n",
      " [ 4.000e+00  9.076e+03  1.000e+00 ...  1.070e+02  1.000e+00 -1.000e+00]\n",
      " [ 4.000e+00  9.076e+03  2.000e+00 ...  1.070e+02  1.000e+00 -1.000e+00]\n",
      " ...\n",
      " [ 4.000e+00  9.076e+03  9.073e+03 ...  1.530e+02  1.000e+00 -1.000e+00]\n",
      " [ 4.000e+00  9.076e+03  9.074e+03 ...  1.530e+02  1.000e+00 -1.000e+00]\n",
      " [ 4.000e+00  9.076e+03  9.075e+03 ...  1.530e+02  1.000e+00 -1.000e+00]]\n",
      "[[ 4.000e+00  9.076e+03  0.000e+00 ...  1.070e+02  1.000e+00 -1.000e+00]\n",
      " [ 4.000e+00  9.076e+03  1.000e+00 ...  1.070e+02  1.000e+00 -1.000e+00]\n",
      " [ 4.000e+00  9.076e+03  2.000e+00 ...  1.070e+02  1.000e+00 -1.000e+00]\n",
      " ...\n",
      " [ 4.000e+00  9.076e+03  9.073e+03 ...  1.530e+02  1.000e+00 -1.000e+00]\n",
      " [ 4.000e+00  9.076e+03  9.074e+03 ...  1.530e+02  1.000e+00 -1.000e+00]\n",
      " [ 4.000e+00  9.076e+03  9.075e+03 ...  1.530e+02  1.000e+00 -1.000e+00]]\n",
      "ID: 6\n",
      "ID: 7\n",
      "ID: 8\n",
      "[[ 8.000e+00  6.457e+03  2.619e+03 ...  7.400e+01  1.000e+00 -1.000e+00]\n",
      " [ 8.000e+00  6.457e+03  2.620e+03 ...  7.400e+01  1.000e+00 -1.000e+00]\n",
      " [ 8.000e+00  6.457e+03  2.621e+03 ...  7.400e+01  1.000e+00 -1.000e+00]\n",
      " ...\n",
      " [ 8.000e+00  6.457e+03  9.073e+03 ...  1.460e+02  1.000e+00 -1.000e+00]\n",
      " [ 8.000e+00  6.457e+03  9.074e+03 ...  1.460e+02  1.000e+00 -1.000e+00]\n",
      " [ 8.000e+00  6.457e+03  9.075e+03 ...  1.460e+02  1.000e+00 -1.000e+00]]\n",
      "[[ 8.000e+00  6.457e+03  2.619e+03 ...  7.400e+01  1.000e+00 -1.000e+00]\n",
      " [ 8.000e+00  6.457e+03  2.620e+03 ...  7.400e+01  1.000e+00 -1.000e+00]\n",
      " [ 8.000e+00  6.457e+03  2.621e+03 ...  7.400e+01  1.000e+00 -1.000e+00]\n",
      " ...\n",
      " [ 8.000e+00  6.457e+03  9.073e+03 ...  1.460e+02  1.000e+00 -1.000e+00]\n",
      " [ 8.000e+00  6.457e+03  9.074e+03 ...  1.460e+02  1.000e+00 -1.000e+00]\n",
      " [ 8.000e+00  6.457e+03  9.075e+03 ...  1.460e+02  1.000e+00 -1.000e+00]]\n",
      "[[ 8.000e+00  6.457e+03  2.619e+03 ...  7.400e+01  1.000e+00 -1.000e+00]\n",
      " [ 8.000e+00  6.457e+03  2.620e+03 ...  7.400e+01  1.000e+00 -1.000e+00]\n",
      " [ 8.000e+00  6.457e+03  2.621e+03 ...  7.400e+01  1.000e+00 -1.000e+00]\n",
      " ...\n",
      " [ 8.000e+00  6.457e+03  9.073e+03 ...  1.460e+02  1.000e+00 -1.000e+00]\n",
      " [ 8.000e+00  6.457e+03  9.074e+03 ...  1.460e+02  1.000e+00 -1.000e+00]\n",
      " [ 8.000e+00  6.457e+03  9.075e+03 ...  1.460e+02  1.000e+00 -1.000e+00]]\n",
      "[[ 8.000e+00  6.457e+03  2.619e+03 ...  7.400e+01  1.000e+00 -1.000e+00]\n",
      " [ 8.000e+00  6.457e+03  2.620e+03 ...  7.400e+01  1.000e+00 -1.000e+00]\n",
      " [ 8.000e+00  6.457e+03  2.621e+03 ...  7.400e+01  1.000e+00 -1.000e+00]\n",
      " ...\n",
      " [ 8.000e+00  6.457e+03  9.073e+03 ...  1.460e+02  1.000e+00 -1.000e+00]\n",
      " [ 8.000e+00  6.457e+03  9.074e+03 ...  1.460e+02  1.000e+00 -1.000e+00]\n",
      " [ 8.000e+00  6.457e+03  9.075e+03 ...  1.460e+02  1.000e+00 -1.000e+00]]\n",
      "ID: 9\n"
     ]
    }
   ],
   "source": [
    "objects_list = objects_df.to_numpy()\n",
    "print(objects_list.shape)\n",
    "unique_objects = objects_df['object_id'].unique()\n",
    "for object_id in unique_objects:\n",
    "    print(\"ID:\", object_id)\n",
    "    X = get_object(objects_list, mapping_df, object_id)"
   ]
  },
  {
   "cell_type": "code",
   "execution_count": null,
   "id": "8240d3e9",
   "metadata": {},
   "outputs": [],
   "source": []
  },
  {
   "cell_type": "code",
   "execution_count": null,
   "id": "477e9dc2",
   "metadata": {},
   "outputs": [],
   "source": [
    "dwelling_events = [1,2,3,4,5,6,7,8]"
   ]
  },
  {
   "cell_type": "code",
   "execution_count": null,
   "id": "ac2ea16b",
   "metadata": {},
   "outputs": [],
   "source": [
    "dwelling_df = events_df[[\"current_frame\", \"bbox_lefttop_x\", \"bbox_lefttop_y\", \"bbox_rightbottom_x\", \"bbox_rightbottom_y\", \"event_type\"]]"
   ]
  },
  {
   "cell_type": "code",
   "execution_count": null,
   "id": "d2d50e02",
   "metadata": {},
   "outputs": [],
   "source": [
    "for _, row in dwelling_df.iterrows():\n",
    "    if row['event_type'] in dwelling_events:\n",
    "        row['event_type'] = 1\n",
    "    else:\n",
    "        row['event_type'] = 0"
   ]
  },
  {
   "cell_type": "code",
   "execution_count": null,
   "id": "ee67d5a1",
   "metadata": {},
   "outputs": [],
   "source": [
    "X = dwelling_df.drop(columns='event_type', inplace=False).to_numpy()\n",
    "y = dwelling_df['event_type'].to_numpy()\n",
    "print(X.shape, y.shape)"
   ]
  },
  {
   "cell_type": "code",
   "execution_count": null,
   "id": "4c473722",
   "metadata": {},
   "outputs": [],
   "source": [
    "from sklearn.model_selection import train_test_split\n",
    "from sklearn.linear_model import LogisticRegression\n"
   ]
  },
  {
   "cell_type": "code",
   "execution_count": null,
   "id": "c326efde",
   "metadata": {},
   "outputs": [],
   "source": [
    "X_train, X_test, y_train, y_test = train_test_split(X, y, test_size=0.33, random_state=42, shuffle=False)\n",
    "clf = LogisticRegression()\n",
    "clf.fit(X_train, y_train)"
   ]
  },
  {
   "cell_type": "code",
   "execution_count": null,
   "id": "44a587cf",
   "metadata": {},
   "outputs": [],
   "source": [
    "preds = clf.predict(X_test)\n",
    "clf.score(X_test, y_test)"
   ]
  },
  {
   "cell_type": "code",
   "execution_count": null,
   "id": "ff58e70c",
   "metadata": {},
   "outputs": [],
   "source": []
  },
  {
   "cell_type": "code",
   "execution_count": null,
   "id": "5d653b84",
   "metadata": {},
   "outputs": [],
   "source": []
  }
 ],
 "metadata": {
  "kernelspec": {
   "display_name": "Python 3 (ipykernel)",
   "language": "python",
   "name": "python3"
  },
  "language_info": {
   "codemirror_mode": {
    "name": "ipython",
    "version": 3
   },
   "file_extension": ".py",
   "mimetype": "text/x-python",
   "name": "python",
   "nbconvert_exporter": "python",
   "pygments_lexer": "ipython3",
   "version": "3.11.3"
  }
 },
 "nbformat": 4,
 "nbformat_minor": 5
}
