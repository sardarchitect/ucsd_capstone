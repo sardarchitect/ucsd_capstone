{
 "cells": [
  {
   "cell_type": "markdown",
   "id": "f7792d55",
   "metadata": {},
   "source": [
    "# Using the YOLOv5 Model"
   ]
  },
  {
   "cell_type": "markdown",
   "id": "e9a36f88",
   "metadata": {},
   "source": [
    "Out of the many deep learning based object detection models, I chose to focus primarily on YOLO due to its fast predictive capabilities, which come with a tradeoff of high accuracy. Given the nature of my application and the context of its deployment, it seemed necessary to prioritize speed and space efficiency over high accuracy. \n",
    "\n",
    "Moreover, YOLO is open-source and ever since its first introduction in 2015 (https://arxiv.org/abs/1506.02640), has seen quite a lot of iterations over the years. The latest version (YOLOv8 released by Ultralytics this year) is currently considered a state-of-the-art model that has significantly boosted the capabilities of the previous version, making it faster and more accurate."
   ]
  },
  {
   "cell_type": "code",
   "execution_count": null,
   "id": "a231411b",
   "metadata": {},
   "outputs": [],
   "source": []
  }
 ],
 "metadata": {
  "kernelspec": {
   "display_name": "Python 3 (ipykernel)",
   "language": "python",
   "name": "python3"
  },
  "language_info": {
   "codemirror_mode": {
    "name": "ipython",
    "version": 3
   },
   "file_extension": ".py",
   "mimetype": "text/x-python",
   "name": "python",
   "nbconvert_exporter": "python",
   "pygments_lexer": "ipython3",
   "version": "3.11.3"
  }
 },
 "nbformat": 4,
 "nbformat_minor": 5
}
