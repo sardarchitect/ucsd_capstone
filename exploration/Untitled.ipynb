{
 "cells": [
  {
   "cell_type": "code",
   "execution_count": 23,
   "id": "31f9bc8a",
   "metadata": {},
   "outputs": [],
   "source": [
    "import pandas as pd\n",
    "import numpy as np\n",
    "import os"
   ]
  },
  {
   "cell_type": "code",
   "execution_count": 24,
   "id": "d45fc3eb",
   "metadata": {},
   "outputs": [],
   "source": [
    "data_dir = './data/VIRAT Ground Dataset/'\n",
    "annotations_dir = data_dir + 'annotations/'\n",
    "videos_dir = data_dir + 'videos_original/'"
   ]
  },
  {
   "cell_type": "code",
   "execution_count": 25,
   "id": "bfd3366b",
   "metadata": {},
   "outputs": [],
   "source": [
    "clip = \"VIRAT_S_000001\"\n",
    "clip_event = annotations_dir + f'{clip}.viratdata.events.txt'\n",
    "clip_mapping = annotations_dir + f'{clip}.viratdata.mapping.txt'\n",
    "clip_objects = annotations_dir + f'{clip}.viratdata.objects.txt'\n",
    "\n",
    "clip_event_df = pd.read_csv(clip_event, delim_whitespace=True, header=None)\n",
    "clip_mapping_df = pd.read_csv(clip_mapping, delim_whitespace=True, header=None)\n",
    "clip_objects_df = pd.read_csv(clip_objects, delim_whitespace=True, header=None)"
   ]
  },
  {
   "cell_type": "code",
   "execution_count": 39,
   "id": "b5cf16be",
   "metadata": {},
   "outputs": [],
   "source": [
    "event_col_dict = {\n",
    "0: \"event_id\",        \n",
    "1: \"event_type\",      \n",
    "2: \"duration\", \n",
    "3: \"start_frame\",     \n",
    "4: \"end_frame\",       \n",
    "5: \"current_frame\",   \n",
    "6: \"bbox_lefttop_x\", \n",
    "7: \"bbox_lefttop_y\", \n",
    "8: \"bbox_width\",      \n",
    "9: \"bbox_height\",    \n",
    "}\n",
    "\n",
    "object_col_dict = {\n",
    "0: \"object_id\",        \n",
    "1: \"object_duration\", \n",
    "2: \"current_frame\",\n",
    "3: \"bbox_lefttop_x\", \n",
    "4: \"bbox_lefttop_y\", \n",
    "5: \"bbox_width\",      \n",
    "6: \"bbox_height\",\n",
    "7: \"object_type\"\n",
    "}\n",
    "\n",
    "mapping_col_dict = {\n",
    "0: \"event_id\",\n",
    "1: \"event_type\",\n",
    "2: \"event_duration\",\n",
    "3: \"start_frame\",\n",
    "4: \"end_frame\",\n",
    "5: \"num_obj\" ,\n",
    "}\n",
    "\n",
    "event_type_id_dict = {\n",
    "    1: \"Person loading an Object to a Vehicle\",\n",
    "    2: \"Person Unloading an Object from a Car/Vehicle\",\n",
    "    3: \"Person Opening a Vehicle/Car Trunk\",\n",
    "    4: \"Person Closing a Vehicle/Car Trunk\",\n",
    "    5: \"Person getting into a Vehicle\",\n",
    "    6: \"Person getting out of a Vehicle\",\n",
    "    7: \"Person gesturing\",\n",
    "    8: \"Person digging\",\n",
    "    9: \"Person carrying an object\",\n",
    "    10: \"Person running\",\n",
    "    11: \"Person entering a facility\",\n",
    "    12: \"Person exiting a facility\",\n",
    "}\n",
    "\n",
    "object_type_id_dict = {\n",
    "    1: \"person\",\n",
    "    2: \"car\",\n",
    "    3: \"vehicles\",\n",
    "    4: \"object\",\n",
    "    5: \"bike, bicycles\"\n",
    "}\n"
   ]
  },
  {
   "cell_type": "code",
   "execution_count": 38,
   "id": "d07dc7a0",
   "metadata": {},
   "outputs": [],
   "source": [
    "clip_event_df = clip_event_df.rename(event_col_dict, axis=1)\n",
    "clip_objects_df = clip_objects_df.rename(object_col_dict, axis=1)\n",
    "clip_mapping_df = clip_mapping_df.rename(mapping_col_dict, axis=1)"
   ]
  },
  {
   "cell_type": "code",
   "execution_count": null,
   "id": "93da19bd",
   "metadata": {},
   "outputs": [],
   "source": []
  }
 ],
 "metadata": {
  "kernelspec": {
   "display_name": "Python 3 (ipykernel)",
   "language": "python",
   "name": "python3"
  },
  "language_info": {
   "codemirror_mode": {
    "name": "ipython",
    "version": 3
   },
   "file_extension": ".py",
   "mimetype": "text/x-python",
   "name": "python",
   "nbconvert_exporter": "python",
   "pygments_lexer": "ipython3",
   "version": "3.10.4"
  }
 },
 "nbformat": 4,
 "nbformat_minor": 5
}
