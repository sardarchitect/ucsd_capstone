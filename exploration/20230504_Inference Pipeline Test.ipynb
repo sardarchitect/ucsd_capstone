{
 "cells": [
  {
   "cell_type": "markdown",
   "id": "fd4dbf6c",
   "metadata": {},
   "source": [
    "## Import"
   ]
  },
  {
   "cell_type": "code",
   "execution_count": 1,
   "id": "c299959d",
   "metadata": {},
   "outputs": [],
   "source": [
    "import cv2 as cv\n",
    "import pandas as pd\n",
    "import numpy as np\n",
    "import matplotlib.pyplot as plt\n",
    "import torch\n",
    "import torchvision\n",
    "from tqdm.auto import tqdm"
   ]
  },
  {
   "cell_type": "code",
   "execution_count": 2,
   "id": "b626e04b",
   "metadata": {},
   "outputs": [],
   "source": [
    "import sys\n",
    "sys.path.append('/home/sardarchitect/repos/github.com/ucsd_capstone/')\n",
    "sys.path.append('/home/sardarchitect/repos/github.com/ucsd_capstone/streetstudy/')"
   ]
  },
  {
   "cell_type": "code",
   "execution_count": 3,
   "id": "c95ffd62",
   "metadata": {},
   "outputs": [],
   "source": [
    "from streetstudy.data import virat\n",
    "from streetstudy.model import yolo"
   ]
  },
  {
   "cell_type": "markdown",
   "id": "ddbc0ae3",
   "metadata": {},
   "source": [
    "## Hyperparameters"
   ]
  },
  {
   "cell_type": "code",
   "execution_count": 4,
   "id": "4d26d899",
   "metadata": {},
   "outputs": [],
   "source": [
    "DEVICE = \"cuda\" if torch.cuda.is_available() else \"cpu\"\n",
    "BATCH_SIZE = 32"
   ]
  },
  {
   "cell_type": "code",
   "execution_count": 5,
   "id": "57647833",
   "metadata": {},
   "outputs": [
    {
     "data": {
      "text/plain": [
       "'cuda'"
      ]
     },
     "execution_count": 5,
     "metadata": {},
     "output_type": "execute_result"
    }
   ],
   "source": [
    "DEVICE"
   ]
  },
  {
   "cell_type": "markdown",
   "id": "396a8633",
   "metadata": {},
   "source": [
    "## Data Ingestion"
   ]
  },
  {
   "cell_type": "code",
   "execution_count": 7,
   "id": "e30328f0",
   "metadata": {
    "scrolled": true
   },
   "outputs": [
    {
     "data": {
      "text/html": [
       "<div>\n",
       "<style scoped>\n",
       "    .dataframe tbody tr th:only-of-type {\n",
       "        vertical-align: middle;\n",
       "    }\n",
       "\n",
       "    .dataframe tbody tr th {\n",
       "        vertical-align: top;\n",
       "    }\n",
       "\n",
       "    .dataframe thead th {\n",
       "        text-align: right;\n",
       "    }\n",
       "</style>\n",
       "<table border=\"1\" class=\"dataframe\">\n",
       "  <thead>\n",
       "    <tr style=\"text-align: right;\">\n",
       "      <th></th>\n",
       "      <th>path</th>\n",
       "      <th>num_frames</th>\n",
       "      <th>duration</th>\n",
       "      <th>image_width</th>\n",
       "      <th>image_height</th>\n",
       "      <th>event_file</th>\n",
       "      <th>object_file</th>\n",
       "      <th>mapping_file</th>\n",
       "    </tr>\n",
       "    <tr>\n",
       "      <th>name</th>\n",
       "      <th></th>\n",
       "      <th></th>\n",
       "      <th></th>\n",
       "      <th></th>\n",
       "      <th></th>\n",
       "      <th></th>\n",
       "      <th></th>\n",
       "      <th></th>\n",
       "    </tr>\n",
       "  </thead>\n",
       "  <tbody>\n",
       "    <tr>\n",
       "      <th>VIRAT_S_010200_08_000838_000867</th>\n",
       "      <td>/home/sardarchitect/repos/github.com/ucsd_caps...</td>\n",
       "      <td>532</td>\n",
       "      <td>22</td>\n",
       "      <td>1280.0</td>\n",
       "      <td>720.0</td>\n",
       "      <td>VIRAT_S_010200_08_000838_000867.viratdata.even...</td>\n",
       "      <td>VIRAT_S_010200_08_000838_000867.viratdata.obje...</td>\n",
       "      <td>VIRAT_S_010200_08_000838_000867.viratdata.mapp...</td>\n",
       "    </tr>\n",
       "    <tr>\n",
       "      <th>VIRAT_S_000200_03_000657_000899</th>\n",
       "      <td>/home/sardarchitect/repos/github.com/ucsd_caps...</td>\n",
       "      <td>7243</td>\n",
       "      <td>241</td>\n",
       "      <td>1280.0</td>\n",
       "      <td>720.0</td>\n",
       "      <td>VIRAT_S_000200_03_000657_000899.viratdata.even...</td>\n",
       "      <td>VIRAT_S_000200_03_000657_000899.viratdata.obje...</td>\n",
       "      <td>VIRAT_S_000200_03_000657_000899.viratdata.mapp...</td>\n",
       "    </tr>\n",
       "    <tr>\n",
       "      <th>VIRAT_S_050000_08_001235_001295</th>\n",
       "      <td>/home/sardarchitect/repos/github.com/ucsd_caps...</td>\n",
       "      <td>1792</td>\n",
       "      <td>59</td>\n",
       "      <td>1920.0</td>\n",
       "      <td>1080.0</td>\n",
       "      <td>VIRAT_S_050000_08_001235_001295.viratdata.even...</td>\n",
       "      <td>VIRAT_S_050000_08_001235_001295.viratdata.obje...</td>\n",
       "      <td>VIRAT_S_050000_08_001235_001295.viratdata.mapp...</td>\n",
       "    </tr>\n",
       "    <tr>\n",
       "      <th>VIRAT_S_050000_06_000908_000970</th>\n",
       "      <td>/home/sardarchitect/repos/github.com/ucsd_caps...</td>\n",
       "      <td>1855</td>\n",
       "      <td>61</td>\n",
       "      <td>1920.0</td>\n",
       "      <td>1080.0</td>\n",
       "      <td>VIRAT_S_050000_06_000908_000970.viratdata.even...</td>\n",
       "      <td>VIRAT_S_050000_06_000908_000970.viratdata.obje...</td>\n",
       "      <td>VIRAT_S_050000_06_000908_000970.viratdata.mapp...</td>\n",
       "    </tr>\n",
       "    <tr>\n",
       "      <th>VIRAT_S_010208_08_000807_000831</th>\n",
       "      <td>/home/sardarchitect/repos/github.com/ucsd_caps...</td>\n",
       "      <td>420</td>\n",
       "      <td>17</td>\n",
       "      <td>1280.0</td>\n",
       "      <td>720.0</td>\n",
       "      <td>VIRAT_S_050000_06_000908_000970.viratdata.even...</td>\n",
       "      <td>VIRAT_S_010208_08_000807_000831.viratdata.obje...</td>\n",
       "      <td>VIRAT_S_050000_06_000908_000970.viratdata.mapp...</td>\n",
       "    </tr>\n",
       "  </tbody>\n",
       "</table>\n",
       "</div>"
      ],
      "text/plain": [
       "                                                                              path  \\\n",
       "name                                                                                 \n",
       "VIRAT_S_010200_08_000838_000867  /home/sardarchitect/repos/github.com/ucsd_caps...   \n",
       "VIRAT_S_000200_03_000657_000899  /home/sardarchitect/repos/github.com/ucsd_caps...   \n",
       "VIRAT_S_050000_08_001235_001295  /home/sardarchitect/repos/github.com/ucsd_caps...   \n",
       "VIRAT_S_050000_06_000908_000970  /home/sardarchitect/repos/github.com/ucsd_caps...   \n",
       "VIRAT_S_010208_08_000807_000831  /home/sardarchitect/repos/github.com/ucsd_caps...   \n",
       "\n",
       "                                 num_frames  duration  image_width  \\\n",
       "name                                                                 \n",
       "VIRAT_S_010200_08_000838_000867         532        22       1280.0   \n",
       "VIRAT_S_000200_03_000657_000899        7243       241       1280.0   \n",
       "VIRAT_S_050000_08_001235_001295        1792        59       1920.0   \n",
       "VIRAT_S_050000_06_000908_000970        1855        61       1920.0   \n",
       "VIRAT_S_010208_08_000807_000831         420        17       1280.0   \n",
       "\n",
       "                                 image_height  \\\n",
       "name                                            \n",
       "VIRAT_S_010200_08_000838_000867         720.0   \n",
       "VIRAT_S_000200_03_000657_000899         720.0   \n",
       "VIRAT_S_050000_08_001235_001295        1080.0   \n",
       "VIRAT_S_050000_06_000908_000970        1080.0   \n",
       "VIRAT_S_010208_08_000807_000831         720.0   \n",
       "\n",
       "                                                                        event_file  \\\n",
       "name                                                                                 \n",
       "VIRAT_S_010200_08_000838_000867  VIRAT_S_010200_08_000838_000867.viratdata.even...   \n",
       "VIRAT_S_000200_03_000657_000899  VIRAT_S_000200_03_000657_000899.viratdata.even...   \n",
       "VIRAT_S_050000_08_001235_001295  VIRAT_S_050000_08_001235_001295.viratdata.even...   \n",
       "VIRAT_S_050000_06_000908_000970  VIRAT_S_050000_06_000908_000970.viratdata.even...   \n",
       "VIRAT_S_010208_08_000807_000831  VIRAT_S_050000_06_000908_000970.viratdata.even...   \n",
       "\n",
       "                                                                       object_file  \\\n",
       "name                                                                                 \n",
       "VIRAT_S_010200_08_000838_000867  VIRAT_S_010200_08_000838_000867.viratdata.obje...   \n",
       "VIRAT_S_000200_03_000657_000899  VIRAT_S_000200_03_000657_000899.viratdata.obje...   \n",
       "VIRAT_S_050000_08_001235_001295  VIRAT_S_050000_08_001235_001295.viratdata.obje...   \n",
       "VIRAT_S_050000_06_000908_000970  VIRAT_S_050000_06_000908_000970.viratdata.obje...   \n",
       "VIRAT_S_010208_08_000807_000831  VIRAT_S_010208_08_000807_000831.viratdata.obje...   \n",
       "\n",
       "                                                                      mapping_file  \n",
       "name                                                                                \n",
       "VIRAT_S_010200_08_000838_000867  VIRAT_S_010200_08_000838_000867.viratdata.mapp...  \n",
       "VIRAT_S_000200_03_000657_000899  VIRAT_S_000200_03_000657_000899.viratdata.mapp...  \n",
       "VIRAT_S_050000_08_001235_001295  VIRAT_S_050000_08_001235_001295.viratdata.mapp...  \n",
       "VIRAT_S_050000_06_000908_000970  VIRAT_S_050000_06_000908_000970.viratdata.mapp...  \n",
       "VIRAT_S_010208_08_000807_000831  VIRAT_S_050000_06_000908_000970.viratdata.mapp...  "
      ]
     },
     "execution_count": 7,
     "metadata": {},
     "output_type": "execute_result"
    }
   ],
   "source": [
    "video_df = virat.get_dataset_df()\n",
    "video_df.head()"
   ]
  },
  {
   "cell_type": "code",
   "execution_count": 8,
   "id": "8b0d268a",
   "metadata": {},
   "outputs": [
    {
     "data": {
      "text/plain": [
       "path            /home/sardarchitect/repos/github.com/ucsd_caps...\n",
       "num_frames                                                   9075\n",
       "duration                                                      302\n",
       "image_width                                                1920.0\n",
       "image_height                                               1080.0\n",
       "event_file                    VIRAT_S_000002.viratdata.events.txt\n",
       "object_file                  VIRAT_S_000002.viratdata.objects.txt\n",
       "mapping_file                 VIRAT_S_000002.viratdata.mapping.txt\n",
       "Name: VIRAT_S_000002, dtype: object"
      ]
     },
     "execution_count": 8,
     "metadata": {},
     "output_type": "execute_result"
    }
   ],
   "source": [
    "current_video = video_df.loc[\"VIRAT_S_000002\"]\n",
    "current_video"
   ]
  },
  {
   "cell_type": "code",
   "execution_count": 11,
   "id": "92cc708b",
   "metadata": {},
   "outputs": [
    {
     "data": {
      "text/html": [
       "<div>\n",
       "<style scoped>\n",
       "    .dataframe tbody tr th:only-of-type {\n",
       "        vertical-align: middle;\n",
       "    }\n",
       "\n",
       "    .dataframe tbody tr th {\n",
       "        vertical-align: top;\n",
       "    }\n",
       "\n",
       "    .dataframe thead th {\n",
       "        text-align: right;\n",
       "    }\n",
       "</style>\n",
       "<table border=\"1\" class=\"dataframe\">\n",
       "  <thead>\n",
       "    <tr style=\"text-align: right;\">\n",
       "      <th></th>\n",
       "      <th>object_id</th>\n",
       "      <th>object_duration</th>\n",
       "      <th>current_frame</th>\n",
       "      <th>bbox_lefttop_x</th>\n",
       "      <th>bbox_lefttop_y</th>\n",
       "      <th>bbox_width</th>\n",
       "      <th>bbox_height</th>\n",
       "      <th>object_type</th>\n",
       "    </tr>\n",
       "  </thead>\n",
       "  <tbody>\n",
       "    <tr>\n",
       "      <th>0</th>\n",
       "      <td>2</td>\n",
       "      <td>9076</td>\n",
       "      <td>0</td>\n",
       "      <td>1262</td>\n",
       "      <td>381</td>\n",
       "      <td>53</td>\n",
       "      <td>116</td>\n",
       "      <td>1</td>\n",
       "    </tr>\n",
       "    <tr>\n",
       "      <th>1</th>\n",
       "      <td>2</td>\n",
       "      <td>9076</td>\n",
       "      <td>1</td>\n",
       "      <td>1261</td>\n",
       "      <td>381</td>\n",
       "      <td>53</td>\n",
       "      <td>116</td>\n",
       "      <td>1</td>\n",
       "    </tr>\n",
       "    <tr>\n",
       "      <th>2</th>\n",
       "      <td>2</td>\n",
       "      <td>9076</td>\n",
       "      <td>2</td>\n",
       "      <td>1260</td>\n",
       "      <td>381</td>\n",
       "      <td>53</td>\n",
       "      <td>116</td>\n",
       "      <td>1</td>\n",
       "    </tr>\n",
       "    <tr>\n",
       "      <th>3</th>\n",
       "      <td>2</td>\n",
       "      <td>9076</td>\n",
       "      <td>3</td>\n",
       "      <td>1259</td>\n",
       "      <td>381</td>\n",
       "      <td>53</td>\n",
       "      <td>116</td>\n",
       "      <td>1</td>\n",
       "    </tr>\n",
       "    <tr>\n",
       "      <th>4</th>\n",
       "      <td>2</td>\n",
       "      <td>9076</td>\n",
       "      <td>4</td>\n",
       "      <td>1258</td>\n",
       "      <td>381</td>\n",
       "      <td>53</td>\n",
       "      <td>116</td>\n",
       "      <td>1</td>\n",
       "    </tr>\n",
       "  </tbody>\n",
       "</table>\n",
       "</div>"
      ],
      "text/plain": [
       "   object_id  object_duration  current_frame  bbox_lefttop_x  bbox_lefttop_y  \\\n",
       "0          2             9076              0            1262             381   \n",
       "1          2             9076              1            1261             381   \n",
       "2          2             9076              2            1260             381   \n",
       "3          2             9076              3            1259             381   \n",
       "4          2             9076              4            1258             381   \n",
       "\n",
       "   bbox_width  bbox_height  object_type  \n",
       "0          53          116            1  \n",
       "1          53          116            1  \n",
       "2          53          116            1  \n",
       "3          53          116            1  \n",
       "4          53          116            1  "
      ]
     },
     "execution_count": 11,
     "metadata": {},
     "output_type": "execute_result"
    }
   ],
   "source": [
    "annotations_df = virat.get_annotations_df(current_video['path'])\n",
    "annotations_df = annotations_df[annotations_df['object_type'] == 1]\n",
    "annotations_df.head()"
   ]
  },
  {
   "cell_type": "markdown",
   "id": "327eaac2",
   "metadata": {},
   "source": [
    "## Model Architecture"
   ]
  },
  {
   "cell_type": "code",
   "execution_count": 12,
   "id": "ee256f77",
   "metadata": {},
   "outputs": [
    {
     "name": "stderr",
     "output_type": "stream",
     "text": [
      "Using cache found in /home/sardarchitect/.cache/torch/hub/ultralytics_yolov5_master\n",
      "YOLOv5 🚀 2023-4-30 Python-3.11.3 torch-2.0.0+cu117 CUDA:0 (NVIDIA GeForce GTX 1650, 4096MiB)\n",
      "\n"
     ]
    },
    {
     "name": "stdout",
     "output_type": "stream",
     "text": [
      "\u001b[31m\u001b[1mrequirements:\u001b[0m /home/sardarchitect/.cache/torch/hub/requirements.txt not found, check failed.\n"
     ]
    },
    {
     "name": "stderr",
     "output_type": "stream",
     "text": [
      "Fusing layers... \n",
      "YOLOv5s summary: 213 layers, 7225885 parameters, 0 gradients\n",
      "Adding AutoShape... \n"
     ]
    }
   ],
   "source": [
    "clf = yolo.yolov5()\n",
    "clf.conf = 0\n",
    "clf.classes = [0]"
   ]
  },
  {
   "cell_type": "markdown",
   "id": "6dc53ffc",
   "metadata": {},
   "source": [
    "## Evaluation Criteria"
   ]
  },
  {
   "cell_type": "code",
   "execution_count": 13,
   "id": "4a192dcf",
   "metadata": {},
   "outputs": [
    {
     "name": "stdout",
     "output_type": "stream",
     "text": [
      "0\n",
      "0\n",
      "0.25\n",
      "0.25\n",
      "1.0\n",
      "tensor(0.25000)\n"
     ]
    }
   ],
   "source": [
    "def bbox_iou(boxA, boxB):\n",
    "    xA = max(boxA[0], boxB[0])\n",
    "    yA = max(boxA[1], boxB[1])\n",
    "    xB = min(boxA[2], boxB[2])\n",
    "    yB = min(boxA[3], boxB[3])\n",
    "    \n",
    "    intersection_width = xB - xA \n",
    "    intersection_height = yB - yA\n",
    "    \n",
    "    if intersection_width <= 0 or intersection_height <= 0:\n",
    "        return 0\n",
    "    \n",
    "    intersection_area = intersection_width * intersection_height\n",
    "    boxA_area = (boxA[2] - boxA[0]) * (boxA[3] - boxA[1])\n",
    "    boxB_area = (boxB[2] - boxB[0]) * (boxB[3] - boxB[1])\n",
    "    \n",
    "    iou = intersection_area / float(boxA_area + boxB_area - intersection_area)\n",
    "    return iou   \n",
    "\n",
    "# TEST\n",
    "boxA = [0,0,10,10]\n",
    "boxB = [10,10,20,20]\n",
    "print(bbox_iou(boxA, boxB))\n",
    "\n",
    "boxA = [10,10,20,20]\n",
    "boxB = [0,0,10,10]\n",
    "print(bbox_iou(boxA, boxB))\n",
    "\n",
    "boxA = [0,0,10,10]\n",
    "boxB = [5,5,10,10]\n",
    "print(bbox_iou(boxA, boxB))\n",
    "\n",
    "boxA = [5,5,10,10]\n",
    "boxB = [0,0,10,10]\n",
    "print(bbox_iou(boxA, boxB))\n",
    "\n",
    "boxA = [0,0,10,10]\n",
    "boxB = [0,0,10,10]\n",
    "print(bbox_iou(boxA, boxB))\n",
    "\n",
    "boxA = torch.tensor([5,5,10,10])\n",
    "boxB = torch.tensor([0,0,10,10])\n",
    "print(bbox_iou(boxA, boxB))"
   ]
  },
  {
   "cell_type": "code",
   "execution_count": 14,
   "id": "efa0a4c9",
   "metadata": {},
   "outputs": [],
   "source": [
    "import time"
   ]
  },
  {
   "cell_type": "code",
   "execution_count": 15,
   "id": "4494e371",
   "metadata": {},
   "outputs": [
    {
     "data": {
      "text/plain": [
       "0.0010020839999924647"
      ]
     },
     "execution_count": 15,
     "metadata": {},
     "output_type": "execute_result"
    }
   ],
   "source": [
    "tic = time.perf_counter()\n",
    "\n",
    "boxA = torch.tensor([5,5,10,10])\n",
    "boxB = torch.tensor([0,0,10,10])\n",
    "bbox_iou(boxA, boxB)\n",
    "\n",
    "toc = time.perf_counter()\n",
    "toc-tic"
   ]
  },
  {
   "cell_type": "code",
   "execution_count": 16,
   "id": "8b916d39",
   "metadata": {},
   "outputs": [],
   "source": [
    "import scipy.optimize\n",
    "\n",
    "def match_bboxes(bbox_gt, bbox_pred, IOU_THRESH=0.01):\n",
    "    '''\n",
    "    Given sets of ground truth and predicted bounding boxes,\n",
    "    determine best possible match.\n",
    "    '''\n",
    "    num_gt = bbox_gt.shape[0]\n",
    "    num_pred = bbox_pred.shape[0]\n",
    "    MAX_DIST = 1.0\n",
    "    MIN_IOU = 0.0\n",
    "    \n",
    "    iou_matrix = np.zeros((num_gt, num_pred))\n",
    "    \n",
    "    for i in range(num_gt):\n",
    "        for j in range(num_pred):\n",
    "            iou_matrix[i, j] = bbox_iou(bbox_gt[i], bbox_pred[j])\n",
    "    \n",
    "    if num_pred > num_gt:\n",
    "        diff = num_pred - num_gt\n",
    "        iou_matrix = np.concatenate((iou_matrix, np.full((diff, num_pred), MIN_IOU)), axis=0)\n",
    "        \n",
    "    if num_gt > num_pred:\n",
    "        diff = num_gt - num_pred\n",
    "        iou_matrix = np.concatenate((iou_matrix, np.full((num_gt, diff), MIN_IOU)), axis=1)\n",
    "        \n",
    "    idxs_gt, idxs_pred = scipy.optimize.linear_sum_assignment(1 - iou_matrix)\n",
    "    if (not idxs_gt.size) or (not idxs_pred.size):\n",
    "        ious = np.array([])\n",
    "    else:\n",
    "        ious = iou_matrix[idxs_gt, idxs_pred]\n",
    "        \n",
    "    sel_pred = idxs_pred < num_pred\n",
    "    idx_pred_actual = idxs_pred[sel_pred]\n",
    "    idx_gt_actual = idxs_gt[sel_pred]\n",
    "    ious_actual = iou_matrix[idx_gt_actual, idx_pred_actual]\n",
    "    sel_valid = (ious_actual > IOU_THRESH)\n",
    "    label = sel_valid.astype(int)\n",
    "    \n",
    "    return idx_gt_actual[sel_valid], idx_pred_actual[sel_valid], ious_actual[sel_valid], label\n",
    "\n",
    "# TEST\n",
    "bbox_gt = np.array([[0,0,5,5], [10,10,25,25], [40,40,65,65]])\n",
    "bbox_pred = np.array([[0,0,4,5], [35,35,70,70], [0,0,1,1], [10,10,26,20]])\n",
    "ap = match_bboxes(bbox_gt, bbox_pred)"
   ]
  },
  {
   "cell_type": "code",
   "execution_count": 17,
   "id": "7a7d1610",
   "metadata": {},
   "outputs": [
    {
     "data": {
      "text/plain": [
       "(array([], dtype=int64),\n",
       " array([], dtype=int64),\n",
       " array([], dtype=float64),\n",
       " array([0]))"
      ]
     },
     "execution_count": 17,
     "metadata": {},
     "output_type": "execute_result"
    }
   ],
   "source": [
    "bbox_gt = np.array([[0,0,5,5], [10,10,25,25], [40,40,65,65]])\n",
    "bbox_pred = np.array([[0,0,0,0]])\n",
    "match_bboxes(bbox_gt, bbox_pred)"
   ]
  },
  {
   "cell_type": "code",
   "execution_count": 18,
   "id": "15479e66",
   "metadata": {},
   "outputs": [],
   "source": [
    "# mAP = []\n",
    "# num_frames = int(current_video['num_frames'])\n",
    "# capture = cv.VideoCapture(current_video['path'])\n",
    "\n",
    "# for current_frame in tqdm(range(num_frames)):\n",
    "#     ret, frame = capture.read()\n",
    "#     preds = clf(frame)\n",
    "    \n",
    "#     bbox_pred = (preds.xyxy[0][:, :4]).cpu().numpy()\n",
    "#     bbox_gt = annotations_df[annotations_df['current_frame'] == current_frame].to_numpy()[:,3:7]\n",
    "#     bbox_gt[:, 2] = bbox_gt[:, 0] + bbox_gt[:, 2]\n",
    "#     bbox_gt[:, 3] = bbox_gt[:, 1] + bbox_gt[:, 3]\n",
    "\n",
    "#     mAP.append(match_bboxes(bbox_gt, bbox_pred)[3])\n",
    "# #     break\n",
    "    \n",
    "# capture.release()\n",
    "\n",
    "# TP = 0\n",
    "# TPFP = 0\n",
    "\n",
    "# for i in mAP:\n",
    "#     TPFP += len(i)\n",
    "#     TP += sum(i)\n",
    "# average_precision = TP/TPFP    \n",
    "# print(\"Average Precision:\", average_precision)"
   ]
  },
  {
   "cell_type": "markdown",
   "id": "c1862b5c",
   "metadata": {},
   "source": [
    "## Optimization"
   ]
  },
  {
   "cell_type": "markdown",
   "id": "83e3dc37",
   "metadata": {},
   "source": [
    "## Training Loop"
   ]
  },
  {
   "cell_type": "markdown",
   "id": "52cedc5e",
   "metadata": {},
   "source": [
    "## Testing Loop"
   ]
  },
  {
   "cell_type": "code",
   "execution_count": 19,
   "id": "ab46f039",
   "metadata": {},
   "outputs": [],
   "source": [
    "video_df.sort_values('num_frames', inplace=True)"
   ]
  },
  {
   "cell_type": "code",
   "execution_count": 21,
   "id": "287aa331",
   "metadata": {
    "scrolled": true
   },
   "outputs": [
    {
     "data": {
      "application/vnd.jupyter.widget-view+json": {
       "model_id": "f5e2404aade84f46b4f8069886201e3a",
       "version_major": 2,
       "version_minor": 0
      },
      "text/plain": [
       "  0%|          | 0/20 [00:00<?, ?it/s]"
      ]
     },
     "metadata": {},
     "output_type": "display_data"
    },
    {
     "data": {
      "application/vnd.jupyter.widget-view+json": {
       "model_id": "17a5f46cb28b4d91994db3041e11a0f8",
       "version_major": 2,
       "version_minor": 0
      },
      "text/plain": [
       "  0%|          | 0/318 [00:00<?, ?it/s]"
      ]
     },
     "metadata": {},
     "output_type": "display_data"
    },
    {
     "name": "stdout",
     "output_type": "stream",
     "text": [
      "Average Precision: 0.0022368242106694724\n"
     ]
    },
    {
     "data": {
      "application/vnd.jupyter.widget-view+json": {
       "model_id": "c3059755156a446ab64479d2e5fae879",
       "version_major": 2,
       "version_minor": 0
      },
      "text/plain": [
       "  0%|          | 0/327 [00:00<?, ?it/s]"
      ]
     },
     "metadata": {},
     "output_type": "display_data"
    },
    {
     "name": "stdout",
     "output_type": "stream",
     "text": [
      "Average Precision: 0.0006819571865443425\n"
     ]
    },
    {
     "data": {
      "application/vnd.jupyter.widget-view+json": {
       "model_id": "c01487afcb8b4809a14391ded08cc87b",
       "version_major": 2,
       "version_minor": 0
      },
      "text/plain": [
       "  0%|          | 0/362 [00:00<?, ?it/s]"
      ]
     },
     "metadata": {},
     "output_type": "display_data"
    },
    {
     "name": "stdout",
     "output_type": "stream",
     "text": [
      "Average Precision: 0.002729996060743939\n"
     ]
    },
    {
     "data": {
      "application/vnd.jupyter.widget-view+json": {
       "model_id": "39fb362902f44e8f9612da3fd79675fd",
       "version_major": 2,
       "version_minor": 0
      },
      "text/plain": [
       "  0%|          | 0/368 [00:00<?, ?it/s]"
      ]
     },
     "metadata": {},
     "output_type": "display_data"
    },
    {
     "name": "stdout",
     "output_type": "stream",
     "text": [
      "Average Precision: 0.0017228260869565218\n"
     ]
    },
    {
     "data": {
      "application/vnd.jupyter.widget-view+json": {
       "model_id": "5954dd52a1f548bf8a36723517eef562",
       "version_major": 2,
       "version_minor": 0
      },
      "text/plain": [
       "  0%|          | 0/381 [00:00<?, ?it/s]"
      ]
     },
     "metadata": {},
     "output_type": "display_data"
    },
    {
     "name": "stdout",
     "output_type": "stream",
     "text": [
      "Average Precision: 0.003010498687664042\n"
     ]
    },
    {
     "data": {
      "application/vnd.jupyter.widget-view+json": {
       "model_id": "58027da6241247b89755c841eb3759b3",
       "version_major": 2,
       "version_minor": 0
      },
      "text/plain": [
       "  0%|          | 0/400 [00:00<?, ?it/s]"
      ]
     },
     "metadata": {},
     "output_type": "display_data"
    },
    {
     "name": "stdout",
     "output_type": "stream",
     "text": [
      "Average Precision: 0.0109325\n"
     ]
    },
    {
     "data": {
      "application/vnd.jupyter.widget-view+json": {
       "model_id": "45e51bf511ab4bbbab0a738f6b8b787f",
       "version_major": 2,
       "version_minor": 0
      },
      "text/plain": [
       "  0%|          | 0/420 [00:00<?, ?it/s]"
      ]
     },
     "metadata": {},
     "output_type": "display_data"
    },
    {
     "name": "stdout",
     "output_type": "stream",
     "text": [
      "Average Precision: 0.005719047619047619\n"
     ]
    },
    {
     "data": {
      "application/vnd.jupyter.widget-view+json": {
       "model_id": "24208a565a24459b83ba99a6050694d6",
       "version_major": 2,
       "version_minor": 0
      },
      "text/plain": [
       "  0%|          | 0/429 [00:00<?, ?it/s]"
      ]
     },
     "metadata": {},
     "output_type": "display_data"
    },
    {
     "name": "stdout",
     "output_type": "stream",
     "text": [
      "Average Precision: 0.00444988344988345\n"
     ]
    },
    {
     "data": {
      "application/vnd.jupyter.widget-view+json": {
       "model_id": "ead28cea18334e638c376340ae55d82c",
       "version_major": 2,
       "version_minor": 0
      },
      "text/plain": [
       "  0%|          | 0/439 [00:00<?, ?it/s]"
      ]
     },
     "metadata": {},
     "output_type": "display_data"
    },
    {
     "name": "stdout",
     "output_type": "stream",
     "text": [
      "Average Precision: 0.001123006833712984\n"
     ]
    },
    {
     "data": {
      "application/vnd.jupyter.widget-view+json": {
       "model_id": "6db9c827edde4bbf969a6333af3176ac",
       "version_major": 2,
       "version_minor": 0
      },
      "text/plain": [
       "  0%|          | 0/444 [00:00<?, ?it/s]"
      ]
     },
     "metadata": {},
     "output_type": "display_data"
    },
    {
     "name": "stdout",
     "output_type": "stream",
     "text": [
      "Average Precision: 0.003910707194595383\n"
     ]
    },
    {
     "data": {
      "application/vnd.jupyter.widget-view+json": {
       "model_id": "cede9ff4d0dc4e4f9d63c87b934ed726",
       "version_major": 2,
       "version_minor": 0
      },
      "text/plain": [
       "  0%|          | 0/445 [00:00<?, ?it/s]"
      ]
     },
     "metadata": {},
     "output_type": "display_data"
    },
    {
     "name": "stdout",
     "output_type": "stream",
     "text": [
      "Average Precision: 0.0019280898876404494\n"
     ]
    },
    {
     "data": {
      "application/vnd.jupyter.widget-view+json": {
       "model_id": "8373bf42be1a497b8c6aecf538ca487f",
       "version_major": 2,
       "version_minor": 0
      },
      "text/plain": [
       "  0%|          | 0/461 [00:00<?, ?it/s]"
      ]
     },
     "metadata": {},
     "output_type": "display_data"
    },
    {
     "name": "stdout",
     "output_type": "stream",
     "text": [
      "Average Precision: 0.0071713665943600865\n"
     ]
    },
    {
     "data": {
      "application/vnd.jupyter.widget-view+json": {
       "model_id": "bd326bf2d2574b0fad2c964a5d43d148",
       "version_major": 2,
       "version_minor": 0
      },
      "text/plain": [
       "  0%|          | 0/462 [00:00<?, ?it/s]"
      ]
     },
     "metadata": {},
     "output_type": "display_data"
    },
    {
     "name": "stdout",
     "output_type": "stream",
     "text": [
      "Average Precision: 0.0091956013507663\n"
     ]
    },
    {
     "data": {
      "application/vnd.jupyter.widget-view+json": {
       "model_id": "b8f679c9e1444ee88844e38ce09c5af6",
       "version_major": 2,
       "version_minor": 0
      },
      "text/plain": [
       "  0%|          | 0/464 [00:00<?, ?it/s]"
      ]
     },
     "metadata": {},
     "output_type": "display_data"
    },
    {
     "name": "stdout",
     "output_type": "stream",
     "text": [
      "Average Precision: 0.0007435344827586206\n"
     ]
    },
    {
     "data": {
      "application/vnd.jupyter.widget-view+json": {
       "model_id": "6b9e30f110a54e44a6eb3606fc7718cc",
       "version_major": 2,
       "version_minor": 0
      },
      "text/plain": [
       "  0%|          | 0/469 [00:00<?, ?it/s]"
      ]
     },
     "metadata": {},
     "output_type": "display_data"
    },
    {
     "name": "stdout",
     "output_type": "stream",
     "text": [
      "Average Precision: 0.002400852878464819\n"
     ]
    },
    {
     "data": {
      "application/vnd.jupyter.widget-view+json": {
       "model_id": "4fd18ac7a9eb4e2a9bea8454937ccb56",
       "version_major": 2,
       "version_minor": 0
      },
      "text/plain": [
       "  0%|          | 0/473 [00:00<?, ?it/s]"
      ]
     },
     "metadata": {},
     "output_type": "display_data"
    },
    {
     "name": "stdout",
     "output_type": "stream",
     "text": [
      "Average Precision: 0.008014799154334038\n"
     ]
    },
    {
     "data": {
      "application/vnd.jupyter.widget-view+json": {
       "model_id": "66a0a82aba684b009a6fd028e5441b87",
       "version_major": 2,
       "version_minor": 0
      },
      "text/plain": [
       "  0%|          | 0/478 [00:00<?, ?it/s]"
      ]
     },
     "metadata": {},
     "output_type": "display_data"
    },
    {
     "name": "stdout",
     "output_type": "stream",
     "text": [
      "Average Precision: 0.0020523012552301255\n"
     ]
    },
    {
     "data": {
      "application/vnd.jupyter.widget-view+json": {
       "model_id": "e93bff46f1cd4af0827a98f7068f109e",
       "version_major": 2,
       "version_minor": 0
      },
      "text/plain": [
       "  0%|          | 0/479 [00:00<?, ?it/s]"
      ]
     },
     "metadata": {},
     "output_type": "display_data"
    },
    {
     "name": "stdout",
     "output_type": "stream",
     "text": [
      "Average Precision: 0.0035469728601252607\n"
     ]
    },
    {
     "data": {
      "application/vnd.jupyter.widget-view+json": {
       "model_id": "cb85fb96d1854612b675cdc9cb1aeca0",
       "version_major": 2,
       "version_minor": 0
      },
      "text/plain": [
       "  0%|          | 0/488 [00:00<?, ?it/s]"
      ]
     },
     "metadata": {},
     "output_type": "display_data"
    },
    {
     "name": "stdout",
     "output_type": "stream",
     "text": [
      "Average Precision: 0.001012295081967213\n"
     ]
    },
    {
     "data": {
      "application/vnd.jupyter.widget-view+json": {
       "model_id": "d7f3edab350140ef8c7e660a72a5c705",
       "version_major": 2,
       "version_minor": 0
      },
      "text/plain": [
       "  0%|          | 0/493 [00:00<?, ?it/s]"
      ]
     },
     "metadata": {},
     "output_type": "display_data"
    },
    {
     "name": "stdout",
     "output_type": "stream",
     "text": [
      "Average Precision: 0.004465429523077486\n"
     ]
    },
    {
     "data": {
      "text/plain": [
       "0.003852424519927107"
      ]
     },
     "execution_count": 21,
     "metadata": {},
     "output_type": "execute_result"
    }
   ],
   "source": [
    "TOTAL_AP = []\n",
    "\n",
    "total_videos = 20\n",
    "current_video_number = 0\n",
    "\n",
    "for video_idx in tqdm(range(total_videos)):\n",
    "    \n",
    "    current_video = video_df.iloc[video_idx]    \n",
    "    annotations_df = virat.get_annotations_df(current_video['path'])\n",
    "    annotations_df = annotations_df[annotations_df['object_type'] == 1]\n",
    "        \n",
    "    num_frames = int(current_video['num_frames'])\n",
    "    AP = []\n",
    "    \n",
    "    capture = cv.VideoCapture(current_video['path'])\n",
    "    for current_frame in tqdm(range(num_frames)):\n",
    "\n",
    "        _, frame = capture.read()\n",
    "        preds = clf(frame)\n",
    "\n",
    "        bbox_pred = (preds.xyxy[0][:, :4]).cpu().numpy()\n",
    "        bbox_gt = (annotations_df[annotations_df['current_frame'] == current_frame].to_numpy()[:,3:7])\n",
    "        bbox_gt[:, 2] = bbox_gt[:, 0] + bbox_gt[:, 2]\n",
    "        bbox_gt[:, 3] = bbox_gt[:, 1] + bbox_gt[:, 3]\n",
    "        \n",
    "        AP.append(match_bboxes(bbox_gt, bbox_pred)[3])\n",
    "\n",
    "    capture.release()\n",
    "\n",
    "    TP = 0\n",
    "    TPFP = 0\n",
    "    for i in AP:\n",
    "        TPFP += len(i)\n",
    "        TP += sum(i)\n",
    "    \n",
    "    if TPFP == 0:\n",
    "        average_precision = 0\n",
    "    else:\n",
    "        average_precision = TP/TPFP\n",
    "    \n",
    "    TOTAL_AP.append(average_precision)\n",
    "    print(\"Average Precision:\", average_precision)\n",
    "    \n",
    "sum(TOTAL_AP) / total_videos"
   ]
  },
  {
   "cell_type": "code",
   "execution_count": 22,
   "id": "b2cd810c",
   "metadata": {},
   "outputs": [
    {
     "data": {
      "text/plain": [
       "YOLOv5 <class 'models.common.Detections'> instance\n",
       "image 1/1: 720x1280 1000 persons\n",
       "Speed: 1.4ms pre-process, 18.2ms inference, 3.1ms NMS per image at shape (1, 3, 384, 640)"
      ]
     },
     "execution_count": 22,
     "metadata": {},
     "output_type": "execute_result"
    }
   ],
   "source": [
    "preds.pandas()"
   ]
  },
  {
   "cell_type": "code",
   "execution_count": 23,
   "id": "6bebf8f0",
   "metadata": {},
   "outputs": [
    {
     "data": {
      "text/plain": [
       "{0: 'person',\n",
       " 1: 'bicycle',\n",
       " 2: 'car',\n",
       " 3: 'motorcycle',\n",
       " 4: 'airplane',\n",
       " 5: 'bus',\n",
       " 6: 'train',\n",
       " 7: 'truck',\n",
       " 8: 'boat',\n",
       " 9: 'traffic light',\n",
       " 10: 'fire hydrant',\n",
       " 11: 'stop sign',\n",
       " 12: 'parking meter',\n",
       " 13: 'bench',\n",
       " 14: 'bird',\n",
       " 15: 'cat',\n",
       " 16: 'dog',\n",
       " 17: 'horse',\n",
       " 18: 'sheep',\n",
       " 19: 'cow',\n",
       " 20: 'elephant',\n",
       " 21: 'bear',\n",
       " 22: 'zebra',\n",
       " 23: 'giraffe',\n",
       " 24: 'backpack',\n",
       " 25: 'umbrella',\n",
       " 26: 'handbag',\n",
       " 27: 'tie',\n",
       " 28: 'suitcase',\n",
       " 29: 'frisbee',\n",
       " 30: 'skis',\n",
       " 31: 'snowboard',\n",
       " 32: 'sports ball',\n",
       " 33: 'kite',\n",
       " 34: 'baseball bat',\n",
       " 35: 'baseball glove',\n",
       " 36: 'skateboard',\n",
       " 37: 'surfboard',\n",
       " 38: 'tennis racket',\n",
       " 39: 'bottle',\n",
       " 40: 'wine glass',\n",
       " 41: 'cup',\n",
       " 42: 'fork',\n",
       " 43: 'knife',\n",
       " 44: 'spoon',\n",
       " 45: 'bowl',\n",
       " 46: 'banana',\n",
       " 47: 'apple',\n",
       " 48: 'sandwich',\n",
       " 49: 'orange',\n",
       " 50: 'broccoli',\n",
       " 51: 'carrot',\n",
       " 52: 'hot dog',\n",
       " 53: 'pizza',\n",
       " 54: 'donut',\n",
       " 55: 'cake',\n",
       " 56: 'chair',\n",
       " 57: 'couch',\n",
       " 58: 'potted plant',\n",
       " 59: 'bed',\n",
       " 60: 'dining table',\n",
       " 61: 'toilet',\n",
       " 62: 'tv',\n",
       " 63: 'laptop',\n",
       " 64: 'mouse',\n",
       " 65: 'remote',\n",
       " 66: 'keyboard',\n",
       " 67: 'cell phone',\n",
       " 68: 'microwave',\n",
       " 69: 'oven',\n",
       " 70: 'toaster',\n",
       " 71: 'sink',\n",
       " 72: 'refrigerator',\n",
       " 73: 'book',\n",
       " 74: 'clock',\n",
       " 75: 'vase',\n",
       " 76: 'scissors',\n",
       " 77: 'teddy bear',\n",
       " 78: 'hair drier',\n",
       " 79: 'toothbrush'}"
      ]
     },
     "execution_count": 23,
     "metadata": {},
     "output_type": "execute_result"
    }
   ],
   "source": [
    "preds.names"
   ]
  },
  {
   "cell_type": "code",
   "execution_count": null,
   "id": "732f0b2c",
   "metadata": {},
   "outputs": [],
   "source": []
  }
 ],
 "metadata": {
  "kernelspec": {
   "display_name": "Python 3 (ipykernel)",
   "language": "python",
   "name": "python3"
  },
  "language_info": {
   "codemirror_mode": {
    "name": "ipython",
    "version": 3
   },
   "file_extension": ".py",
   "mimetype": "text/x-python",
   "name": "python",
   "nbconvert_exporter": "python",
   "pygments_lexer": "ipython3",
   "version": "3.11.3"
  }
 },
 "nbformat": 4,
 "nbformat_minor": 5
}
