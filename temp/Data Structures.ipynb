{
 "cells": [
  {
   "cell_type": "code",
   "execution_count": 12,
   "id": "268a5216",
   "metadata": {},
   "outputs": [],
   "source": [
    "import ctypes"
   ]
  },
  {
   "cell_type": "markdown",
   "id": "20230047",
   "metadata": {},
   "source": [
    "## Dynamic Array"
   ]
  },
  {
   "cell_type": "code",
   "execution_count": 37,
   "id": "9a503efc",
   "metadata": {},
   "outputs": [],
   "source": [
    "class DynamicArray(object):\n",
    "    \"\"\"\n",
    "    A dynamic array that doubles in size to allocate memory\n",
    "    \"\"\"\n",
    "    def __init__(self):\n",
    "        self.n = 0 # Count actual items\n",
    "        self.capacity = 1 # Default capacity\n",
    "        self.arr = self.make_array(self.capacity)\n",
    "        \n",
    "    def __len__(self):\n",
    "        # Returns length of array\n",
    "        return self.n\n",
    "    \n",
    "    def __getitem__(self, index):\n",
    "        # Returns array item at index\n",
    "        if 0 > index or self.n < index:\n",
    "            return IndexError('Dynamic array index out of range')\n",
    "        return self.arr[index]\n",
    "      \n",
    "    def _resize(self):\n",
    "        # Doubles the capacity of array\n",
    "        new_capacity = 2 * self.capacity\n",
    "        temp_arr = self.make_array(new_capacity)\n",
    "        for i in range(self.n):\n",
    "            temp_arr[i] = self.arr[i]\n",
    "        self.arr = temp_arr\n",
    "        self.capacity = new_capacity\n",
    "        \n",
    "    def append(self, item):\n",
    "        # Appends item to end of array, resizes if neccessary\n",
    "        if self.n == self.capacity:\n",
    "            self._resize()\n",
    "        \n",
    "        self.arr[self.n] = item\n",
    "        self.n += 1\n",
    "        \n",
    "    def delete(self):\n",
    "        # Deletes last item in array\n",
    "        if self.n == 0:\n",
    "            return IndexError('Dynamic array is empty')\n",
    "        self.arr[self.n - 1] = 0\n",
    "        self.n = self.n - 1\n",
    "        \n",
    "    def insertAt(self, item, index):\n",
    "        # Inserts item at index\n",
    "        if 0 > index or self.n < index:\n",
    "            return IndexError('Index out of bounds')\n",
    "        if self.n == self.capacity:\n",
    "            self._resize()\n",
    "        \n",
    "        for i in range(self.n - 1, index - 1, -1):\n",
    "            self.arr[i + 1] = self.arr[i]\n",
    "        self.arr[index] = item\n",
    "        self.n = self.n + 1\n",
    "        \n",
    "    def removeAt(self, index):\n",
    "        if self.n == 0:\n",
    "            print('Array is empty')\n",
    "            return\n",
    "        if 0 > index or self.n < index:\n",
    "            return IndexError('Index out of bounds')\n",
    "        if index == self.n - 1:\n",
    "            self.arr[index]=0\n",
    "            self.n-=1\n",
    "            return   \n",
    "        for i in range(index, self.n - 1):\n",
    "            self.arr[i] = self.a[i + 1]\n",
    "        self.arr[self.n - 1] = 0\n",
    "        self.n = self.n - 1\n",
    "        for i in range(self.n - 1, index - 1, -1):\n",
    "            self.arr[i + 1] = self.arr[i]\n",
    "        self.arr[index] = item\n",
    "        self.n = self.n + 1\n",
    "        \n",
    "    def make_array(self, new_capacity):\n",
    "        # Allocates memory for new_capacity * py_object\n",
    "        return (new_capacity * ctypes.py_object)()"
   ]
  },
  {
   "cell_type": "markdown",
   "id": "b5a381d2",
   "metadata": {},
   "source": [
    "## Linked List"
   ]
  },
  {
   "cell_type": "code",
   "execution_count": null,
   "id": "bb98b1b4",
   "metadata": {},
   "outputs": [],
   "source": []
  }
 ],
 "metadata": {
  "kernelspec": {
   "display_name": "Python 3 (ipykernel)",
   "language": "python",
   "name": "python3"
  },
  "language_info": {
   "codemirror_mode": {
    "name": "ipython",
    "version": 3
   },
   "file_extension": ".py",
   "mimetype": "text/x-python",
   "name": "python",
   "nbconvert_exporter": "python",
   "pygments_lexer": "ipython3",
   "version": "3.9.16"
  }
 },
 "nbformat": 4,
 "nbformat_minor": 5
}
